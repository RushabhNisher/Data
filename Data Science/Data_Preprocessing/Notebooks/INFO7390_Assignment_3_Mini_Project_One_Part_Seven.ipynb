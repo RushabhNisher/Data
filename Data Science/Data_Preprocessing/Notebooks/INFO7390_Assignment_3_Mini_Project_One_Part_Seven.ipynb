{
 "cells": [
  {
   "cell_type": "markdown",
   "metadata": {},
   "source": [
    "# <p style=\"text-align: center;\"> Part Seven: Regex </p>\n",
    "\n",
    "![title](https://cdn.lowgif.com/full/ac84390f641402cc-python-tutorial-regular-expression-for-advanced-users.gif)"
   ]
  },
  {
   "cell_type": "code",
   "execution_count": 1,
   "metadata": {},
   "outputs": [
    {
     "data": {
      "text/html": [
       "<script>\n",
       "code_show=true; \n",
       "function code_toggle() {\n",
       " if (code_show){\n",
       " $('div.input').hide();\n",
       " } else {\n",
       " $('div.input').show();\n",
       " }\n",
       " code_show = !code_show\n",
       "} \n",
       "$( document ).ready(code_toggle);\n",
       "</script>\n",
       "The raw code for this IPython notebook is by default hidden for easier reading.\n",
       "To toggle on/off the raw code, click <a href=\"javascript:code_toggle()\">here</a>."
      ],
      "text/plain": [
       "<IPython.core.display.HTML object>"
      ]
     },
     "execution_count": 1,
     "metadata": {},
     "output_type": "execute_result"
    }
   ],
   "source": [
    "from IPython.core.display import HTML\n",
    "HTML('''<script>\n",
    "code_show=true; \n",
    "function code_toggle() {\n",
    " if (code_show){\n",
    " $('div.input').hide();\n",
    " } else {\n",
    " $('div.input').show();\n",
    " }\n",
    " code_show = !code_show\n",
    "} \n",
    "$( document ).ready(code_toggle);\n",
    "</script>\n",
    "The raw code for this IPython notebook is by default hidden for easier reading.\n",
    "To toggle on/off the raw code, click <a href=\"javascript:code_toggle()\">here</a>.''')"
   ]
  },
  {
   "cell_type": "markdown",
   "metadata": {},
   "source": [
    "# <p style=\"text-align: center;\"> Table of Contents </p>\n",
    "\n",
    "- ## 1. [Introduction](#Introduction)\n",
    "   - ### 1.1 [Abstract](#abstract)\n",
    "   - ### 1.2 [Importing Libraries](#importing_libraries)\n",
    "- ## 2. [Regex Matching](#rg)\n",
    "    - ### 2.1 [Introduction to Regular Expressions](#rr)\n",
    "    - ### 2.2 [Diving Deep into Regex](#dd)\n",
    "    - ### 2.3 [Application of Regex on Dataset](#aap)\n",
    "- ## 3. [Conclusion](#Conclusion)\n",
    "- ## 4. [Contribution](#Contribution)\n",
    "- ## 5. [Citation](#Citation)\n",
    "- ## 6. [License](#License)"
   ]
  },
  {
   "cell_type": "markdown",
   "metadata": {},
   "source": [
    "# <p style=\"text-align: center;\"> 1.0 Introduction </p> <a id='Introduction'> </a>\n",
    "\n",
    "##  1.1 Abstract <a id=\"abstract\"> </a>\n",
    "\n",
    "A regular expression is a special sequence of characters that helps you match or find other strings or sets of strings, using a specialized syntax held in a pattern. Regular expressions are widely used in UNIX world.\n",
    "\n",
    "The Python module re provides full support for Perl-like regular expressions in Python. The re module raises the exception re.error if an error occurs while compiling or using a regular expression.\n",
    "\n",
    "We would cover two important functions, which would be used to handle regular expressions. But a small thing first: There are various characters, which would have special meaning when they are used in regular expression. To avoid any confusion while dealing with regular expressions, we would use Raw Strings as r'expression'."
   ]
  },
  {
   "cell_type": "markdown",
   "metadata": {},
   "source": [
    "##  1.2 Importing Libraries <a id=\"importing_libraries\"> </a>"
   ]
  },
  {
   "cell_type": "code",
   "execution_count": 2,
   "metadata": {},
   "outputs": [],
   "source": [
    "import numpy as np\n",
    "import pandas as pd"
   ]
  },
  {
   "cell_type": "markdown",
   "metadata": {},
   "source": [
    "# <p style=\"text-align: center;\"> 2.0 Regex Matching </p> <a id='rg'> </a>"
   ]
  },
  {
   "cell_type": "markdown",
   "metadata": {},
   "source": [
    "![](https://ucarecdn.com/7b465367-f8ba-4033-972c-e373d278fdd2/)"
   ]
  },
  {
   "cell_type": "markdown",
   "metadata": {},
   "source": [
    "## 2.1 Introduction to Regular Expressions <a id=\"rr\">  </a>\n",
    "\n",
    "#### What Are Regular Expressions?\n",
    "Regular expressions (regex) allow us to perform find and edit substrings within text with great precision. They are useful for a wide range of tasks where you're starting with messy text. Need to standardize the entries users made to a webform? Identify the authors from a collection of newspaper articles? Remove all emoji from dataset? Regex can do all of those and more.\n",
    "\n",
    "The good news is that regular expressions are incredibly powerful. The bad news is that this power means regular expressions can be complicated: the first book on regex I checked is over 500 pages long. Fortunately, even the most basic regular expressions enable you to do things that would be frustrating or impossible with basic string processing tools.\n",
    "\n",
    "With that in mind, this tutorial is shows you what regex can do and where to look for new commands in the documentation or a cheat sheet. For each of the concepts we cover I'll provide some example use cases and then provide questions that will require you to look up new commands.\n",
    "\n",
    "#### Core Tools\n",
    "There are a few tools and concepts we need to cover before we start matching patterns. These web pages will be helpful, though you don't need to read through them just yet:\n",
    "\n",
    "> Regex cheat sheet: defines the regex commands we'll be working through.\n",
    "\n",
    "> Pythex: this regex tester shows what regex pattern matches. This is especially useful when you get a different number of matches than you expected.\n",
    "\n",
    "Python uses regular expressions through the re library. It has several regex functions, but you only need two to get through most use cases:\n",
    "\n",
    "- re.findall: returns a list of all matching strings.\n",
    "- re.sub: substitutes matching strings.\n",
    "\n",
    "#### The Basics\n",
    "The simplest type of regex matches complete substrings in the same way as normal Python string processing.\n",
    "\n",
    "##### In Python, regular expressions are supported by the re module. That means that if you want to start using them in your Python scripts, you have to import this module with the help of import"
   ]
  },
  {
   "cell_type": "code",
   "execution_count": 3,
   "metadata": {},
   "outputs": [
    {
     "name": "stdout",
     "output_type": "stream",
     "text": [
      "A , ASCII , DEBUG , DOTALL , I , IGNORECASE , L , LOCALE , M , MULTILINE , RegexFlag , S , Scanner , T , TEMPLATE , U , UNICODE , VERBOSE , X , _MAXCACHE , __all__ , __builtins__ , __cached__ , __doc__ , __file__ , __loader__ , __name__ , __package__ , __spec__ , __version__ , _alphanum_bytes , _alphanum_str , _cache , _compile , _compile_repl , _expand , _locale , _pattern_type , _pickle , _subx , compile , copyreg , enum , error , escape , findall , finditer , fullmatch , functools , match , purge , search , split , sre_compile , sre_parse , sub , subn , template , "
     ]
    }
   ],
   "source": [
    "import re\n",
    "\n",
    "for i in dir(re):\n",
    "    print(i, end=\" , \")\n"
   ]
  },
  {
   "cell_type": "code",
   "execution_count": 4,
   "metadata": {},
   "outputs": [
    {
     "name": "stdout",
     "output_type": "stream",
     "text": [
      "I would like some pie.\n",
      "I would like some pie.\n"
     ]
    }
   ],
   "source": [
    "print('I would like some vegetables.'.replace('vegetables', 'pie'))\n",
    "print(re.sub('vegetables', 'pie', 'I would like some vegetables.'))"
   ]
  },
  {
   "cell_type": "markdown",
   "metadata": {},
   "source": [
    "The advantages of regex start to become more clear if we need to make more than one replacement:"
   ]
  },
  {
   "cell_type": "code",
   "execution_count": 5,
   "metadata": {
    "scrolled": true
   },
   "outputs": [
    {
     "name": "stdout",
     "output_type": "stream",
     "text": [
      "I would like some pie, pie, and pie.\n",
      "I would like some pie, pie, and pie.\n"
     ]
    }
   ],
   "source": [
    "veggie_request = 'I would like some vegetables, vitamins, and water.'\n",
    "print(veggie_request.replace('vegetables', 'pie')\n",
    "    .replace('vitamins', 'pie')\n",
    "    .replace('water', 'pie'))\n",
    "print(re.sub('vegetables|vitamins|water', 'pie', veggie_request))"
   ]
  },
  {
   "cell_type": "markdown",
   "metadata": {},
   "source": [
    "We used the metacharacter |, the regex \"or\" operator, to shorten the command. Metacharacters signify a special regex command and don't match themselves unless escaped with \\. We won't go over the other metacharacters here, so I highly recommend looking at the basics section of the cheat sheet when you tackle the exercises.\n",
    "\n",
    "#### Character Classes\n",
    "Suppose we want to match a specific set of characters. Re offers several built in sets, plus the ability to build our own custom version. For example, the special character \\D matches all non-digit characters and makes it trivial to do do basic phone number cleanup:"
   ]
  },
  {
   "cell_type": "code",
   "execution_count": 6,
   "metadata": {},
   "outputs": [
    {
     "name": "stdout",
     "output_type": "stream",
     "text": [
      "1234567890\n"
     ]
    }
   ],
   "source": [
    "messy_phone_number = '(123) 456-7890'\n",
    "print(re.sub(r'\\D', '', messy_phone_number))"
   ]
  },
  {
   "cell_type": "markdown",
   "metadata": {},
   "source": [
    "You may have noticed that I the added raw string prefix r before my pattern. This allows us to specify special characters with a single \\ rather than \\\\. Raw string notation (r\"text\") keeps regular expressions sane; use them by default.\n",
    "\n",
    "If we take a second look at the example above, you'll notice that it strips out too much data for some use cases. If a user entered some letters into the phone number, we might want to raise an error for that entry rather than try to clean it up. A better option is to define a custom character set to narrow down what we delete."
   ]
  },
  {
   "cell_type": "code",
   "execution_count": 7,
   "metadata": {
    "scrolled": true
   },
   "outputs": [
    {
     "name": "stdout",
     "output_type": "stream",
     "text": [
      "1234567890\n",
      "1234567890thisisnotavalidphonenumber\n"
     ]
    }
   ],
   "source": [
    "really_messy_number = messy_phone_number + ' this is not a valid phone number'\n",
    "print(re.sub(r'\\D', '', really_messy_number))\n",
    "print(re.sub(r'[-.() ]', '', really_messy_number))"
   ]
  },
  {
   "cell_type": "markdown",
   "metadata": {},
   "source": [
    "That pattern means 'delete any character found between the brackets'. Everything within the brackets is treated as if they were | delimited, and we wouldn't have to escape special characters.\n",
    "\n",
    "\n",
    "#### Quantifiers\n",
    "In many cases, we only want to match a specific number of occurrences. A full US phone number including the area code but country code and no extension will always have 10 digits. If we're searching a text for phone numbers, we'll want to match strings of digits with no more or less than that."
   ]
  },
  {
   "cell_type": "code",
   "execution_count": 8,
   "metadata": {},
   "outputs": [
    {
     "data": {
      "text/plain": [
       "['1234567890']"
      ]
     },
     "execution_count": 8,
     "metadata": {},
     "output_type": "execute_result"
    }
   ],
   "source": [
    "buried_phone_number = 'You are the 987th caller in line for 1234567890. Please continue to hold.'\n",
    "re.findall(r'\\d{10}', buried_phone_number)"
   ]
  },
  {
   "cell_type": "markdown",
   "metadata": {},
   "source": [
    "#### Lookarounds\n",
    "In other cases we may only want a portion of the item we're matching. Let's say that we just need the area code from a phone number. This is where lookarounds come in handy."
   ]
  },
  {
   "cell_type": "code",
   "execution_count": 9,
   "metadata": {},
   "outputs": [
    {
     "data": {
      "text/plain": [
       "['123']"
      ]
     },
     "execution_count": 9,
     "metadata": {},
     "output_type": "execute_result"
    }
   ],
   "source": [
    "re.findall(r'\\d{3}(?=\\d{7})', buried_phone_number)"
   ]
  },
  {
   "cell_type": "markdown",
   "metadata": {},
   "source": [
    "That pattern matches three numbers if and only if they're followed by seven more numbers, and only returns the first three. The relevant special characters are in the Regular Expression Assertions section of the cheat sheet.\n",
    "\n",
    "#### Flags\n",
    "It's often helpful to adjust a pattern's 'settings'. Flags allow us to do that. My personal favorite makes a pattern case insensitive:\n",
    "\n"
   ]
  },
  {
   "cell_type": "code",
   "execution_count": 10,
   "metadata": {},
   "outputs": [
    {
     "data": {
      "text/plain": [
       "['Tom', 'tom']"
      ]
     },
     "execution_count": 10,
     "metadata": {},
     "output_type": "execute_result"
    }
   ],
   "source": [
    "wordy_tom = \"\"\"Tom. Let's talk about him. He often forgets to capitalize tom, his name. Oh, and don't match tomorrow.\"\"\"\n",
    "re.findall(r'(?i)\\bTom\\b', wordy_tom)"
   ]
  },
  {
   "cell_type": "markdown",
   "metadata": {},
   "source": [
    "##### That pattern will match any occurrence of Tom, upper or lower case, that starts and ends with word boundaries."
   ]
  },
  {
   "cell_type": "markdown",
   "metadata": {},
   "source": [
    "##  2.2 Diving Deep into Regex - Classifications <a id=\"dd\"> </a>\n",
    "\n",
    "### `Special Characters`\n",
    "`^` | Matches the expression to its right at the start of a string. It matches every such instance before each `\\n` in the string.\n",
    "\n",
    "`$` | Matches the expression to its left at the end of a string. It matches every such instance before each `\\n` in the string.\n",
    "\n",
    "`.` | Matches any character except line terminators like `\\n`.\n",
    "\n",
    "`\\ `| Escapes special characters or denotes character classes.\n",
    "\n",
    "`A|B` | Matches expression `A` or `B`. If `A` is matched first, `B` is left untried.\n",
    "\n",
    "`+` | Greedily matches the expression to its left 1 or more times.\n",
    "\n",
    "`*`| Greedily matches the expression to its left 0 or more times.\n",
    "\n",
    "`?` | Greedily matches the expression to its left 0 or 1 times. But if `?` is added to qualifiers (`+`, `*`, and `?` itself) it will perform matches in a non-greedy manner.\n",
    "\n",
    "`{m}` | Matches the expression to its left `m` times, and not less.\n",
    "\n",
    "`{m,n}` | Matches the expression to its left `m` to `n` times, and not less.\n",
    "\n",
    "`{m,n}?` | Matches the expression to its left `m` times, and ignores `n`."
   ]
  },
  {
   "cell_type": "markdown",
   "metadata": {},
   "source": [
    "### `Character Classes (a.k.a. Special Sequences)`\n",
    "`\\w` | Matches alphanumeric characters, which means `a-z`, `A-Z`, and `0-9`. It also matches the underscore,` _`.\n",
    "\n",
    "`\\d` | Matches digits, which means `0-9`.\n",
    "\n",
    "`\\D` | Matches any non-digits.\n",
    "\n",
    "`\\s` | Matches whitespace characters, which include the `\\t`, `\\n`, `\\r`, and space characters.\n",
    "\n",
    "`\\S`| Matches non-whitespace characters.\n",
    "\n",
    "`\\b` | Matches the boundary (or empty string) at the start and end of a word, that is, between `\\w` and `\\W`.\n",
    "\n",
    "`\\B` | Matches where `\\b` does not, that is, the boundary of `\\w` characters.\n",
    "\n",
    "`\\A` | Matches the expression to its right at the absolute start of a string whether in single or multi-line mode.\n",
    "\n",
    "`\\Z` | Matches the expression to its left at the absolute end of a string whether in single or multi-line mode.\n"
   ]
  },
  {
   "cell_type": "markdown",
   "metadata": {},
   "source": [
    "### `Sets`\n",
    "`[ ]` | Contains a set of characters to match.\n",
    "\n",
    "`[amk]` | Matches either `a`, `m`, or `k`. It does not match amk.\n",
    "\n",
    "`[a-z]` | Matches any alphabet from `a` to `z`.\n",
    "\n",
    "`[a\\-z]` | Matches `a`, `-`, or `z`. It matches `-` because `\\` escapes it.\n",
    "\n",
    "`[a-]` | Matches `a` or `-`, because `-` is not being used to indicate a series of characters.\n",
    "\n",
    "`[-a]` | As above, matches `a` or `-`.\n",
    "\n",
    "`[a-z0-9]` | Matches characters from `a` to `z` and also from `0` to `9`.\n",
    "\n",
    "`[(+*)]` | Special characters become literal inside a set, so this matches `(`, `+`, `*`, and `)`.\n",
    "\n",
    "`[^ab5]` | Adding `^ `excludes any character in the set. Here, it matches characters that are not `a`, `b`, or `5`."
   ]
  },
  {
   "cell_type": "markdown",
   "metadata": {},
   "source": [
    "### `Groups`\n",
    "`( )` | Matches the expression inside the parentheses and groups it.\n",
    "\n",
    "`(? )` | Inside parentheses like this, `?` acts as an extension notation. Its meaning depends on the character immediately to its right.\n",
    "\n",
    "`(?PAB)` | Matches the expression `AB`, and it can be accessed with the group name.\n",
    "\n",
    "`(?aiLmsux)` | Here, `a`, `i`, `L`, `m`, `s`, `u`, and `x` are flags:\n",
    "\n",
    "- a — Matches ASCII only\n",
    "- i — Ignore case\n",
    "- L — Locale dependent\n",
    "- m — Multi-line\n",
    "- s — Matches all\n",
    "- u — Matches unicode\n",
    "- x — Verbose\n",
    "\n",
    "`(?:A)` | Matches the expression as represented by `A`, but unlike `(?PAB)`, it cannot be retrieved afterwards.\n",
    "\n",
    "`(?#...)` | A comment. Contents are for us to read, not for matching.\n",
    "\n",
    "`A(?=B)` | Lookahead assertion. This matches the expression `A` only if it is followed by `B`.\n",
    "\n",
    "`A(?!B)` | Negative lookahead assertion. This matches the expression `A` only if it is not followed by `B`.\n",
    "\n",
    "`(?<=B)A` | Positive lookbehind assertion. This matches the expression `A` only if `B` is immediately to its left. This can only matched fixed length expressions.\n",
    "\n",
    "`(?<!B)A`| Negative lookbehind assertion. This matches the expression `A` only if `B` is not immediately to its left. This can only matched fixed length expressions.\n",
    "\n",
    "`(?P=name)` | Matches the expression matched by an earlier group named “name”.\n",
    "\n",
    "`(...)\\1` | The number `1` corresponds to the first group to be matched. If we want to match more instances of the same expresion, simply use its number instead of writing out the whole expression again. We can use from `1` up to `99` such groups and their corresponding numbers."
   ]
  },
  {
   "cell_type": "markdown",
   "metadata": {},
   "source": [
    "### `Popular `re` module Functions`\n",
    "`re.findall(A, B)` | Matches all instances of an expression `A` in a string `B` and returns them in a list.\n",
    "\n",
    "`re.search(A, B)` | Matches the first instance of an expression `A` in a string `B`, and returns it as a re match object.\n",
    "\n",
    "`re.split(A, B)` | Split a string B into a list using the delimiter `A`.\n",
    "\n",
    "`re.sub(A, B, C)` | Replace `A` with `B` in the string `C`."
   ]
  },
  {
   "cell_type": "markdown",
   "metadata": {},
   "source": [
    "### `Matching Regex Objects`\n",
    "A Regex object’s `search()` method searches the string it is passed for any matches to the regex. The `search()` method will return None if the regex pattern is not found in the string. If the pattern is found, the `search()` method returns a Match object. Match objects have a `group()` method that will return the actual matched text from the searched string."
   ]
  },
  {
   "cell_type": "code",
   "execution_count": 11,
   "metadata": {
    "scrolled": true
   },
   "outputs": [
    {
     "name": "stdout",
     "output_type": "stream",
     "text": [
      "Phone number found: 415-555-4242\n"
     ]
    }
   ],
   "source": [
    "phoneNumRegex = re.compile(r'\\d\\d\\d-\\d\\d\\d-\\d\\d\\d\\d')\n",
    "match_obj = phoneNumRegex.search('My number is 415-555-4242.')\n",
    "print('Phone number found: ' + match_obj.group())"
   ]
  },
  {
   "cell_type": "markdown",
   "metadata": {},
   "source": [
    "### `Basic Patterns: Ordinary Characters`\n",
    "You can easily tackle many basic patterns in Python using the ordinary characters. Ordinary characters are the simplest regular expressions. They match themselves exactly and do not have a special meaning in their regular expression syntax."
   ]
  },
  {
   "cell_type": "code",
   "execution_count": 12,
   "metadata": {
    "scrolled": false
   },
   "outputs": [
    {
     "name": "stdout",
     "output_type": "stream",
     "text": [
      "Match!\n"
     ]
    }
   ],
   "source": [
    "pattern = r\"Mango\"\n",
    "sequence = \"Mango\"\n",
    "if re.match(pattern, sequence):\n",
    "    print(\"Match!\")\n",
    "else: \n",
    "    print(\"Not a match!\")"
   ]
  },
  {
   "cell_type": "markdown",
   "metadata": {},
   "source": [
    "The match() function returns a match object if the text matches the pattern. Otherwise it returns None."
   ]
  },
  {
   "cell_type": "code",
   "execution_count": 13,
   "metadata": {},
   "outputs": [
    {
     "name": "stdout",
     "output_type": "stream",
     "text": [
      "None\n"
     ]
    }
   ],
   "source": [
    "pattern = r\"Mango\"\n",
    "sequence = \"Orange\"\n",
    "print(re.match(pattern, sequence))"
   ]
  },
  {
   "cell_type": "markdown",
   "metadata": {},
   "source": [
    "### `Wild Card Characters: Special Characters`\n",
    "Special characters are characters which do not match themselves as seen but actually have a special meaning when used in a regular expression.\n",
    "\n",
    "#### Examples:-\n",
    "\n",
    ". - A period. Matches any single character except newline character."
   ]
  },
  {
   "cell_type": "code",
   "execution_count": 14,
   "metadata": {
    "scrolled": true
   },
   "outputs": [
    {
     "data": {
      "text/plain": [
       "'Mango'"
      ]
     },
     "execution_count": 14,
     "metadata": {},
     "output_type": "execute_result"
    }
   ],
   "source": [
    "re.search(r'M.n.o', 'Mango').group()"
   ]
  },
  {
   "cell_type": "markdown",
   "metadata": {},
   "source": [
    "\\W - Uppercase w. Matches any character not part of \\w(lowercase w)."
   ]
  },
  {
   "cell_type": "code",
   "execution_count": 15,
   "metadata": {
    "scrolled": true
   },
   "outputs": [
    {
     "data": {
      "text/plain": [
       "'S@gmail'"
      ]
     },
     "execution_count": 15,
     "metadata": {},
     "output_type": "execute_result"
    }
   ],
   "source": [
    "re.search(r'S\\Wgmail', 'S@gmail').group()"
   ]
  },
  {
   "cell_type": "markdown",
   "metadata": {},
   "source": [
    "#### `[a-zA-Z0-9] - Matches any letter from (a to z) or (A to Z) or (0 to 9). Characters that are not within a range can be matched by complementing the set. If the first character of the set is^, all the characters that are not in the set will be matched.`"
   ]
  },
  {
   "cell_type": "code",
   "execution_count": 16,
   "metadata": {},
   "outputs": [
    {
     "data": {
      "text/plain": [
       "'Number: 8'"
      ]
     },
     "execution_count": 16,
     "metadata": {},
     "output_type": "execute_result"
    }
   ],
   "source": [
    "re.search(r'Number: [0-9]', 'Number: 8').group()"
   ]
  },
  {
   "cell_type": "code",
   "execution_count": 17,
   "metadata": {},
   "outputs": [
    {
     "data": {
      "text/plain": [
       "'Number: 9'"
      ]
     },
     "execution_count": 17,
     "metadata": {},
     "output_type": "execute_result"
    }
   ],
   "source": [
    "# Matches any character except 7\n",
    "re.search(r'Number: [^7]', 'Number: 9').group()"
   ]
  },
  {
   "cell_type": "markdown",
   "metadata": {},
   "source": [
    "### `Matching Zero or More with the Star`\n",
    "The * (called the star or asterisk) means “match zero or more”—the group that precedes the star can occur any number of times in the text. It can be completely absent or repeated over and over again"
   ]
  },
  {
   "cell_type": "code",
   "execution_count": 18,
   "metadata": {},
   "outputs": [
    {
     "data": {
      "text/plain": [
       "'Superwoman'"
      ]
     },
     "execution_count": 18,
     "metadata": {},
     "output_type": "execute_result"
    }
   ],
   "source": [
    "superRegex = re.compile(r'Super(wo)+man')\n",
    "match_obj1 = superRegex.search('The Adventures of Superwoman')\n",
    "match_obj1.group()"
   ]
  },
  {
   "cell_type": "code",
   "execution_count": 19,
   "metadata": {},
   "outputs": [
    {
     "data": {
      "text/plain": [
       "True"
      ]
     },
     "execution_count": 19,
     "metadata": {},
     "output_type": "execute_result"
    }
   ],
   "source": [
    "match_obj2 = superRegex.search('The Adventures of Superman')\n",
    "# match_obj3.group()\n",
    "match_obj2==None"
   ]
  },
  {
   "cell_type": "markdown",
   "metadata": {},
   "source": [
    "#### ? - Checks for exactly zero or one character to its left."
   ]
  },
  {
   "cell_type": "code",
   "execution_count": 20,
   "metadata": {},
   "outputs": [
    {
     "data": {
      "text/plain": [
       "'Color'"
      ]
     },
     "execution_count": 20,
     "metadata": {},
     "output_type": "execute_result"
    }
   ],
   "source": [
    "re.search(r'Colou?r', 'Color').group()"
   ]
  },
  {
   "cell_type": "markdown",
   "metadata": {},
   "source": [
    "`{x}` - Repeat exactly x number of times.\n",
    "\n",
    "`{x,}` - Repeat at least x times or more.\n",
    "\n",
    "`{x, y}` - Repeat at least x times but no more than y times."
   ]
  },
  {
   "cell_type": "code",
   "execution_count": 21,
   "metadata": {
    "scrolled": true
   },
   "outputs": [
    {
     "data": {
      "text/plain": [
       "'0987654321'"
      ]
     },
     "execution_count": 21,
     "metadata": {},
     "output_type": "execute_result"
    }
   ],
   "source": [
    "re.search(r'\\d{9,10}', '0987654321').group()"
   ]
  },
  {
   "cell_type": "markdown",
   "metadata": {},
   "source": [
    "### `re.match(pattern, string)`:\n",
    "This method finds match if it occurs at start of the string. For example, calling `match()` on the string ‘Rua Analytics’ and looking for a pattern ‘Rua’ will match. However, if we look for only Analytics, the pattern will not match. "
   ]
  },
  {
   "cell_type": "code",
   "execution_count": 22,
   "metadata": {},
   "outputs": [
    {
     "name": "stdout",
     "output_type": "stream",
     "text": [
      "<_sre.SRE_Match object; span=(0, 3), match='Rua'>\n"
     ]
    }
   ],
   "source": [
    "result = re.match(r'Rua', 'Rua Analytics')\n",
    "print(result)"
   ]
  },
  {
   "cell_type": "code",
   "execution_count": 23,
   "metadata": {
    "scrolled": true
   },
   "outputs": [
    {
     "name": "stdout",
     "output_type": "stream",
     "text": [
      "Rua\n"
     ]
    }
   ],
   "source": [
    "print(result.group(0))"
   ]
  },
  {
   "cell_type": "markdown",
   "metadata": {},
   "source": [
    "### `re.search(pattern, string)`:\n",
    "It is similar to` match()` but it doesn’t restrict us to find matches at the beginning of the string only."
   ]
  },
  {
   "cell_type": "code",
   "execution_count": 24,
   "metadata": {},
   "outputs": [
    {
     "name": "stdout",
     "output_type": "stream",
     "text": [
      "Analytics\n"
     ]
    }
   ],
   "source": [
    "result = re.search(r'Analytics', 'Rua Analytics')\n",
    "print(result.group(0))"
   ]
  },
  {
   "cell_type": "markdown",
   "metadata": {},
   "source": [
    "### `re.findall (pattern, string)`:\n",
    "It helps to get a list of all matching patterns. It has no constraints of searching from start or end. If we will use method findall to search ‘Rua’ in given string it will return both occurrence of Rua. While searching a string, I would recommend you to use `re.findall()` always, it can work like `re.search()` and `re.match()` both."
   ]
  },
  {
   "cell_type": "code",
   "execution_count": 25,
   "metadata": {},
   "outputs": [
    {
     "name": "stdout",
     "output_type": "stream",
     "text": [
      "['Rua', 'Rua']\n"
     ]
    }
   ],
   "source": [
    "result = re.findall(r'Rua', 'Rua Analytics Rua')\n",
    "print(result)"
   ]
  },
  {
   "cell_type": "markdown",
   "metadata": {},
   "source": [
    "### `re.split(pattern, string, [maxsplit=0])`:\n",
    "This methods helps to split string by the occurrences of given pattern."
   ]
  },
  {
   "cell_type": "code",
   "execution_count": 26,
   "metadata": {
    "scrolled": true
   },
   "outputs": [
    {
     "name": "stdout",
     "output_type": "stream",
     "text": [
      "['occurr', 'nc', 's']\n"
     ]
    }
   ],
   "source": [
    "result=re.split(r'e','occurrences')\n",
    "print(result)"
   ]
  },
  {
   "cell_type": "code",
   "execution_count": 27,
   "metadata": {
    "scrolled": true
   },
   "outputs": [
    {
     "name": "stdout",
     "output_type": "stream",
     "text": [
      "['It', 'helps', 'to', 'get', 'a', 'list', 'of', 'all', 'matching', 'patterns']\n"
     ]
    }
   ],
   "source": [
    "result=re.split(r'\\s','It helps to get a list of all matching patterns')\n",
    "print(result)"
   ]
  },
  {
   "cell_type": "markdown",
   "metadata": {},
   "source": [
    "### `re.sub(pattern, repl, string)`:\n",
    "It helps to search a pattern and replace with a new sub string. If the pattern is not found, string is returned unchanged."
   ]
  },
  {
   "cell_type": "code",
   "execution_count": 28,
   "metadata": {
    "scrolled": true
   },
   "outputs": [
    {
     "name": "stdout",
     "output_type": "stream",
     "text": [
      "Kaggle is the place to do data science projects\n"
     ]
    }
   ],
   "source": [
    "result=re.sub(r'notes','projects','Kaggle is the place to do data science notes')\n",
    "print(result)"
   ]
  },
  {
   "cell_type": "markdown",
   "metadata": {},
   "source": [
    "##  2.3 Application of Regex on Dataset <a id=\"aap\"> </a>\n",
    "\n",
    "### Applications of Regular Expressions\n",
    "- Segmentation of words from Sentences\n",
    "\n",
    "- Segmentation of sentence from Paragraph\n",
    "\n",
    "- Text Cleaning - ( Noise Removal )\n",
    "\n",
    "- Information retrival from text ( ex: -Chatot, News Dataset etc. )"
   ]
  },
  {
   "cell_type": "code",
   "execution_count": 29,
   "metadata": {},
   "outputs": [
    {
     "data": {
      "text/html": [
       "<div>\n",
       "<style scoped>\n",
       "    .dataframe tbody tr th:only-of-type {\n",
       "        vertical-align: middle;\n",
       "    }\n",
       "\n",
       "    .dataframe tbody tr th {\n",
       "        vertical-align: top;\n",
       "    }\n",
       "\n",
       "    .dataframe thead th {\n",
       "        text-align: right;\n",
       "    }\n",
       "</style>\n",
       "<table border=\"1\" class=\"dataframe\">\n",
       "  <thead>\n",
       "    <tr style=\"text-align: right;\">\n",
       "      <th></th>\n",
       "      <th>id</th>\n",
       "      <th>created_at</th>\n",
       "      <th>text</th>\n",
       "      <th>user</th>\n",
       "      <th>screen_name</th>\n",
       "      <th>friends_count</th>\n",
       "      <th>followers_count</th>\n",
       "      <th>retweet_count</th>\n",
       "      <th>favorite_count</th>\n",
       "      <th>Hashtags</th>\n",
       "    </tr>\n",
       "  </thead>\n",
       "  <tbody>\n",
       "    <tr>\n",
       "      <th>0</th>\n",
       "      <td>1118678264581505024</td>\n",
       "      <td>2019-04-18 00:50:56</td>\n",
       "      <td>#AI #education https://t.co/nvh7t1jMjf</td>\n",
       "      <td>Carol Tonhauser</td>\n",
       "      <td>cmt1</td>\n",
       "      <td>3101</td>\n",
       "      <td>4656</td>\n",
       "      <td>0</td>\n",
       "      <td>0</td>\n",
       "      <td>[{'text': 'AI', 'indices': [0, 3]}, {'text': '...</td>\n",
       "    </tr>\n",
       "    <tr>\n",
       "      <th>1</th>\n",
       "      <td>1118678197829361664</td>\n",
       "      <td>2019-04-18 00:50:41</td>\n",
       "      <td>RT DeepLearn007 \"RT DeepLearn007: An Excellent...</td>\n",
       "      <td>Mahavira Paris</td>\n",
       "      <td>ParisMahavira</td>\n",
       "      <td>132</td>\n",
       "      <td>175</td>\n",
       "      <td>0</td>\n",
       "      <td>0</td>\n",
       "      <td>[{'text': 'DeepLearning', 'indices': [70, 83]}...</td>\n",
       "    </tr>\n",
       "    <tr>\n",
       "      <th>2</th>\n",
       "      <td>1118678194712915969</td>\n",
       "      <td>2019-04-18 00:50:40</td>\n",
       "      <td>RT DeepLearn007 \"RT DeepLearn007: Top #AI Infl...</td>\n",
       "      <td>Mahavira Paris</td>\n",
       "      <td>ParisMahavira</td>\n",
       "      <td>132</td>\n",
       "      <td>175</td>\n",
       "      <td>0</td>\n",
       "      <td>0</td>\n",
       "      <td>[{'text': 'AI', 'indices': [38, 41]}, {'text':...</td>\n",
       "    </tr>\n",
       "    <tr>\n",
       "      <th>3</th>\n",
       "      <td>1118678131743711233</td>\n",
       "      <td>2019-04-18 00:50:25</td>\n",
       "      <td>ðåãæ¹æ¹é©ãæè­ããæ¥ãã¬æ...</td>\n",
       "      <td>Screens</td>\n",
       "      <td>screens_lab</td>\n",
       "      <td>10</td>\n",
       "      <td>230</td>\n",
       "      <td>0</td>\n",
       "      <td>0</td>\n",
       "      <td>[{'text': 'æ¥æ¬ãã¬ã', 'indices': [103, ...</td>\n",
       "    </tr>\n",
       "    <tr>\n",
       "      <th>4</th>\n",
       "      <td>1118677974574825472</td>\n",
       "      <td>2019-04-18 00:49:47</td>\n",
       "      <td>Check out todayâs news on @GlasswingVC portf...</td>\n",
       "      <td>Katharine Panessidi</td>\n",
       "      <td>KatPan</td>\n",
       "      <td>2231</td>\n",
       "      <td>1384</td>\n",
       "      <td>0</td>\n",
       "      <td>0</td>\n",
       "      <td>[{'text': 'AI', 'indices': [194, 197]}, {'text...</td>\n",
       "    </tr>\n",
       "  </tbody>\n",
       "</table>\n",
       "</div>"
      ],
      "text/plain": [
       "                    id           created_at  \\\n",
       "0  1118678264581505024  2019-04-18 00:50:56   \n",
       "1  1118678197829361664  2019-04-18 00:50:41   \n",
       "2  1118678194712915969  2019-04-18 00:50:40   \n",
       "3  1118678131743711233  2019-04-18 00:50:25   \n",
       "4  1118677974574825472  2019-04-18 00:49:47   \n",
       "\n",
       "                                                text                 user  \\\n",
       "0             #AI #education https://t.co/nvh7t1jMjf      Carol Tonhauser   \n",
       "1  RT DeepLearn007 \"RT DeepLearn007: An Excellent...       Mahavira Paris   \n",
       "2  RT DeepLearn007 \"RT DeepLearn007: Top #AI Infl...       Mahavira Paris   \n",
       "3  ðåãæ¹æ¹é©ãæè­ããæ¥ãã¬æ...              Screens   \n",
       "4  Check out todayâs news on @GlasswingVC portf...  Katharine Panessidi   \n",
       "\n",
       "     screen_name  friends_count  followers_count  retweet_count  \\\n",
       "0           cmt1           3101             4656              0   \n",
       "1  ParisMahavira            132              175              0   \n",
       "2  ParisMahavira            132              175              0   \n",
       "3    screens_lab             10              230              0   \n",
       "4         KatPan           2231             1384              0   \n",
       "\n",
       "   favorite_count                                           Hashtags  \n",
       "0               0  [{'text': 'AI', 'indices': [0, 3]}, {'text': '...  \n",
       "1               0  [{'text': 'DeepLearning', 'indices': [70, 83]}...  \n",
       "2               0  [{'text': 'AI', 'indices': [38, 41]}, {'text':...  \n",
       "3               0  [{'text': 'æ¥æ¬ãã¬ã', 'indices': [103, ...  \n",
       "4               0  [{'text': 'AI', 'indices': [194, 197]}, {'text...  "
      ]
     },
     "execution_count": 29,
     "metadata": {},
     "output_type": "execute_result"
    }
   ],
   "source": [
    "dataset = pd.read_csv(\"Datasets/tweets with hashtag #AI.csv\" ,encoding = \"ISO-8859-1\")\n",
    "dataset.head()"
   ]
  },
  {
   "cell_type": "code",
   "execution_count": 30,
   "metadata": {},
   "outputs": [
    {
     "name": "stdout",
     "output_type": "stream",
     "text": [
      "1 . How the #IoT Brings #SmartCities to Life: https://t.co/tEn6yueTau \r\n",
      "ââââ\r\n",
      "\r\n",
      "#BigData #DataScience #abdsc #EdgeAnalytics #PredictiveAnalytics #AI #MachineLearning #IIoT #ConnectedProducts #SmartHomes #DigitalTransformation #Sensors #EmergingTech #Industry40 #4IR https://t.co/GBoEekFKcy\n",
      "2 . è¿å®¶å æ¿å¤§ååå",
      "¬å¸çAIè§£å³æ¹æ¡å¯ææéä½æªæ¯ç¯ç½ª https://t.co/UBhKAvaaSo #ç§æ #AI #äººå·¥æºè½ #æè³ #æè³è",
      "\n",
      "3 . #Analyticship:#BI,#AI,#BigData,#Analytics,#HiEd:\r\n",
      "Six Game-Changing Video Analytics Use-Cases https://t.co/3KXH3dxIud via @TechNative\n",
      "4 . RT DeepLearn007: An Excellent Read: A Deep Dive into #DeepLearning\r\n",
      "SpirosMargaris JimMarous Xbond49 psb_dc TheRudinGroup ahier pierrepinna RosyCoaching  ipfconline1 TopCyberNews #AI #MachineLearning #BigData #Datascience #Fintech #Marketing #HealthTech #â¦ https://t.co/2Aq2VBdpNn\n",
      "5 . RT DeepLearn007 \"RT DeepLearn007: Top #AI Influencers In 2019, Thank you \r\n",
      "geoffreyhinton kdnuggets SpirosMargaris Xbond49 ahier JimMarous TheRudinGroup psb_dc ipfconline1 pierrepinna RosyCoaching TopCyberNews #MachineLearning #DeepLearning #BigData #â¦ https://t.co/ORSYCA6iRF\"\n"
     ]
    }
   ],
   "source": [
    "for index, tweet in enumerate(dataset[\"text\"][10:15]):\n",
    "    print(index+1,\".\",tweet)"
   ]
  },
  {
   "cell_type": "markdown",
   "metadata": {},
   "source": [
    "### Regex for Cleaning Text Data¶\n",
    "#### a) Removing RT\n",
    "\n",
    "RT means that the given tweet is a retweet of another which is useful information, but fortunately it is already present in the isRetweet column of our dataset so we can get rid of it."
   ]
  },
  {
   "cell_type": "code",
   "execution_count": 31,
   "metadata": {},
   "outputs": [
    {
     "name": "stdout",
     "output_type": "stream",
     "text": [
      "Text before:\n",
      " RT DeepLearn007: An Excellent Read: A Deep Dive into #DeepLearning SpirosMargaris JimMarous Xbond49 psb_dc TheRudinGroup ahier pierrepinna RosyCoaching  ipfconline1 TopCyberNews #AI #MachineLearning #BigData #Datascience #Fintech #Marketing #HealthTech #â¦ https://t.co/2Aq2VBdpNn\n",
      "Text after:\n",
      " DeepLearn007: An Excellent Read: A Deep Dive into #DeepLearning SpirosMargaris JimMarous Xbond49 psb_dc TheRudinGroup ahier pierrepinna RosyCoaching  ipfconline1 TopCyberNews #AI #MachineLearning #BigData #Datascience #Fintech #Marketing #HealthTech #â¦ https://t.co/2Aq2VBdpNn\n"
     ]
    }
   ],
   "source": [
    "text = \"RT DeepLearn007: An Excellent Read: A Deep Dive into #DeepLearning SpirosMargaris JimMarous Xbond49 psb_dc TheRudinGroup ahier pierrepinna RosyCoaching  ipfconline1 TopCyberNews #AI #MachineLearning #BigData #Datascience #Fintech #Marketing #HealthTech #â¦ https://t.co/2Aq2VBdpNn\"\n",
    "\n",
    "clean_text = re.sub(r\"RT \", \"\", text)\n",
    "\n",
    "print(\"Text before:\\n\", text)\n",
    "print(\"Text after:\\n\", clean_text)"
   ]
  },
  {
   "cell_type": "markdown",
   "metadata": {},
   "source": [
    "#### b) Removing <U+..> like symbols"
   ]
  },
  {
   "cell_type": "markdown",
   "metadata": {},
   "source": [
    "There are strange symbols something of the sort <U+..> all over the place. We need to come up with a general Regex expression that will cover all such symbols. Let's break it down."
   ]
  },
  {
   "cell_type": "code",
   "execution_count": 32,
   "metadata": {},
   "outputs": [],
   "source": [
    "# text = \"\"\n",
    "# clean_text = re.sub(r\"<U\\+[A-Z0-9]+>\", \"\", text)\n",
    "\n",
    "# print(\"Text before:\\n\", text)\n",
    "# print(\"Text after:\\n\", clean_text)"
   ]
  },
  {
   "cell_type": "markdown",
   "metadata": {},
   "source": [
    "#### Fixing the & and &\n",
    "\n",
    "If you explore the tweets further, you'll see that there is & present in many tweets for example, RT @kanimozhi:"
   ]
  },
  {
   "cell_type": "code",
   "execution_count": 33,
   "metadata": {},
   "outputs": [],
   "source": [
    "# text = \"\"\n",
    "# clean_text = re.sub(r\"&amp;\", \"&\", text)\n",
    "\n",
    "# print(\"Text before:\\n\", text)\n",
    "# print(\"Text after:\\n\", clean_text)"
   ]
  },
  {
   "cell_type": "markdown",
   "metadata": {},
   "source": [
    "### Regex for Text Data Extraction\n",
    "#### a. Extracting platform type of tweets\n",
    "\n",
    "Apart from cleaning text data, regex can be used effectively to extract information from given text data. For example, we extracted dates from text in the video module. But, Regex can be used creatively to make new features.\n"
   ]
  },
  {
   "cell_type": "code",
   "execution_count": 34,
   "metadata": {},
   "outputs": [
    {
     "data": {
      "text/plain": [
       "Series([], Name: text, dtype: int64)"
      ]
     },
     "execution_count": 34,
     "metadata": {},
     "output_type": "execute_result"
    }
   ],
   "source": [
    "#List platforms that have more than 100 tweets\n",
    "platform_count = dataset[\"text\"].value_counts()\n",
    "top_platforms = platform_count.loc[platform_count>100]\n",
    "top_platforms"
   ]
  },
  {
   "cell_type": "markdown",
   "metadata": {},
   "source": [
    "These are the platforms with atleast 100 tweets each. Now we can use our Regex to extract platform name from between .. HTML tags. Let's extract our platform names."
   ]
  },
  {
   "cell_type": "code",
   "execution_count": 35,
   "metadata": {},
   "outputs": [
    {
     "data": {
      "text/plain": [
       "Series([], Name: index, dtype: object)"
      ]
     },
     "execution_count": 35,
     "metadata": {},
     "output_type": "execute_result"
    }
   ],
   "source": [
    "def platform_type(x):\n",
    "    ser = re.search( r\"education|DeepLearn007 \", x, re.IGNORECASE)\n",
    "    if ser:\n",
    "        return ser.group()\n",
    "    else:\n",
    "        return None\n",
    "\n",
    "#reset index of the series\n",
    "top_platforms = top_platforms.reset_index()[\"index\"]\n",
    "\n",
    "#extract platform types\n",
    "top_platforms.apply(lambda x: platform_type(x))"
   ]
  },
  {
   "cell_type": "markdown",
   "metadata": {},
   "source": [
    "#### b. Extracting hashtags from the tweets\n",
    "\n",
    "Hashtags usually convey important information in social media related texts. Using regex, we can easily extract hashtags from each tweet"
   ]
  },
  {
   "cell_type": "code",
   "execution_count": 36,
   "metadata": {
    "scrolled": true
   },
   "outputs": [
    {
     "name": "stdout",
     "output_type": "stream",
     "text": [
      "Tweet:\n",
      " #Analyticship:#BI,#AI,#BigData,#Analytics,#HiEd:Six Game-Changing Video Analytics Use-Cases https://t.co/3KXH3dxIud via @TechNative\n",
      "Hashtag:\n",
      " #Analyticship\n"
     ]
    }
   ],
   "source": [
    "text = \"#Analyticship:#BI,#AI,#BigData,#Analytics,#HiEd:Six Game-Changing Video Analytics Use-Cases https://t.co/3KXH3dxIud via @TechNative\"\n",
    "hashtag = re.search(r\"#\\w+\", text)\n",
    "\n",
    "print(\"Tweet:\\n\", text)\n",
    "print(\"Hashtag:\\n\", hashtag.group())"
   ]
  },
  {
   "cell_type": "markdown",
   "metadata": {},
   "source": [
    "# <p style=\"text-align: center;\"> 3. Conclusion </p> <a id=\"Conclusion\"></a>\n",
    "This Notebook gives you insight with regards to Regex Matching and how and why it is implemented"
   ]
  },
  {
   "cell_type": "markdown",
   "metadata": {},
   "source": [
    "#  <p style=\"text-align: center;\"> 4. Contribution </p> <a id='Contribution'> </a>\n",
    "\n",
    "This was a fun project in which we explore the idea of Data cleaning and Data Preprocessing. We take inspiration from kaggle learning course and create our own notebook enhancing the same idea and supplementing it with our own contributions from our experiences and past projects.\n",
    "       \n",
    "- Code by self : 65%\n",
    "- Code from external Sources : 35%"
   ]
  },
  {
   "cell_type": "markdown",
   "metadata": {},
   "source": [
    "# <p style=\"text-align: center;\"> 5.0 Citations </p> <a id=\"Citation\"> </a>\n",
    "\n",
    "- https://methods.sagepub.com/base/download/DatasetStudentGuide/encodings-in-isis-twitter-2016-python\n",
    "- https://www.kaggle.com/sohier/introduction-to-regular-expressions \n",
    "- https://medium.com/better-programming/fuzzy-string-matching-with-python-cafeff0d29fe\n",
    "- https://www.kaggle.com/sharmamanali/beginners-guide-regular-expressions-in-python/edit\n",
    "- https://www.kaggle.com/shivan118/end-to-end-regular-expressions-tutorial"
   ]
  },
  {
   "cell_type": "markdown",
   "metadata": {},
   "source": [
    "# <p style=\"text-align: center;\"> 6.0 License </p> <a id=\"License\"> </a>\n",
    "\n",
    "Copyright (c) 2020 Manali Sharma, Rushabh Nisher\n",
    "\n",
    "Permission is hereby granted, free of charge, to any person obtaining a copy of this software and associated documentation files (the \"Software\"), to deal in the Software without restriction, including without limitation the rights to use, copy, modify, merge, publish, distribute, sublicense, and/or sell copies of the Software, and to permit persons to whom the Software is furnished to do so, subject to the following conditions:The above copyright notice and this permission notice shall be included in all copies or substantial portions of the Software. THE SOFTWARE IS PROVIDED \"AS IS\", WITHOUT WARRANTY OF ANY KIND, EXPRESS OR IMPLIED, INCLUDING BUT NOT LIMITED TO THE WARRANTIES OF MERCHANTABILITY, FITNESS FOR A PARTICULAR PURPOSE AND NONINFRINGEMENT. IN NO EVENT SHALL THE AUTHORS OR COPYRIGHT HOLDERS BE LIABLE FOR ANY CLAIM, DAMAGES OR OTHER LIABILITY, WHETHER IN AN ACTION OF CONTRACT, TORT OR OTHERWISE, ARISING FROM, OUT OF OR IN CONNECTION WITH THE SOFTWARE OR THE USE OR OTHER DEALINGS IN THE SOFTWARE."
   ]
  }
 ],
 "metadata": {
  "kernelspec": {
   "display_name": "Python 3",
   "language": "python",
   "name": "python3"
  },
  "language_info": {
   "codemirror_mode": {
    "name": "ipython",
    "version": 3
   },
   "file_extension": ".py",
   "mimetype": "text/x-python",
   "name": "python",
   "nbconvert_exporter": "python",
   "pygments_lexer": "ipython3",
   "version": "3.6.8"
  }
 },
 "nbformat": 4,
 "nbformat_minor": 2
}
