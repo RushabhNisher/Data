{
 "cells": [
  {
   "cell_type": "markdown",
   "metadata": {},
   "source": [
    "# <p style=\"text-align: center;\"> Spooky Author </p>"
   ]
  },
  {
   "cell_type": "code",
   "execution_count": 135,
   "metadata": {},
   "outputs": [
    {
     "data": {
      "text/html": [
       "<img src=\"http://blog.bookbaby.com/wp-content/uploads/2016/10/Horror-Book-Banner.jpg\"/>"
      ],
      "text/plain": [
       "<IPython.core.display.Image object>"
      ]
     },
     "execution_count": 135,
     "metadata": {},
     "output_type": "execute_result"
    }
   ],
   "source": [
    "from IPython.display import HTML\n",
    "from IPython.display import Image\n",
    "Image(url= \"http://blog.bookbaby.com/wp-content/uploads/2016/10/Horror-Book-Banner.jpg\")"
   ]
  },
  {
   "cell_type": "code",
   "execution_count": 136,
   "metadata": {},
   "outputs": [
    {
     "data": {
      "text/html": [
       "<script>\n",
       "code_show=true; \n",
       "function code_toggle() {\n",
       " if (code_show){\n",
       " $('div.input').hide();\n",
       " } else {\n",
       " $('div.input').show();\n",
       " }\n",
       " code_show = !code_show\n",
       "} \n",
       "$( document ).ready(code_toggle);\n",
       "</script>\n",
       "The raw code for this IPython notebook is by default hidden for easier reading.\n",
       "To toggle on/off the raw code, click <a href=\"javascript:code_toggle()\">here</a>."
      ],
      "text/plain": [
       "<IPython.core.display.HTML object>"
      ]
     },
     "execution_count": 136,
     "metadata": {},
     "output_type": "execute_result"
    }
   ],
   "source": [
    "HTML('''<script>\n",
    "code_show=true; \n",
    "function code_toggle() {\n",
    " if (code_show){\n",
    " $('div.input').hide();\n",
    " } else {\n",
    " $('div.input').show();\n",
    " }\n",
    " code_show = !code_show\n",
    "} \n",
    "$( document ).ready(code_toggle);\n",
    "</script>\n",
    "The raw code for this IPython notebook is by default hidden for easier reading.\n",
    "To toggle on/off the raw code, click <a href=\"javascript:code_toggle()\">here</a>.''')"
   ]
  },
  {
   "cell_type": "markdown",
   "metadata": {},
   "source": [
    "# <p style=\"text-align: center;\"> Table of Contents </p>\n",
    "- ## 1. [Introduction](#Introduction)\n",
    "   - ### 1.1 [Abstract](#abstract)\n",
    "   - ### 1.2 [Importing Libraries](#importing_libraries)\n",
    "   - ### 1.3 [Dataset Summary](#dataset_summary)\n",
    "   - ### 1.4 [Dataset Cleaning](#dataset_cleaning)\n",
    "   - ### 1.5 [Exploratory Data Analysis (EDA)](#eda)\n",
    "       - ### 1.5.1 [Wordcloud](#wordcloud)\n",
    "       - ### 1.5.2 [Wordcloud with Masking](#wordcloud_with_masking)\n",
    "- ## 2.0 [Feature Extraction](#FeatureExtraction)\n",
    "- ## 3.0 [Tf-idf Model](#tfidf)\n",
    "- ## 4.0 [Naive-Bayes Model](#mnb)\n",
    "- ## 5.0 [Truncated SVD](#truncsvd)\n",
    "- ## 6.0 [XGBoost](#xgb)\n",
    "- ## 7.0 [Markov Model](#markov)\n",
    "\n",
    "- ## 9. [h2o](#h2o)\n",
    "   - ### 9.1 [Initializing h2o](#initializing_h2o)\n",
    "   - ### 9.2 [Connecting h2o](#connecting_h2o)\n",
    "- ## 10. [Conclusion](#Conclusion)\n",
    "- ## 11. [Contribution](#Contribution)\n",
    "- ## 12. [Citation](#Citation)\n",
    "- ## 13. [License](#License)"
   ]
  },
  {
   "cell_type": "markdown",
   "metadata": {},
   "source": [
    "# <p style=\"text-align: center;\"> 1.0 Introduction </p> <a id='Introduction'></a>\n",
    "\n",
    "[Back to top](#Introduction)"
   ]
  },
  {
   "cell_type": "markdown",
   "metadata": {},
   "source": [
    "#   1.1 Abstract  <a id='abstract'></a>\n",
    "\n",
    "[Back to top](#Introduction)"
   ]
  },
  {
   "cell_type": "markdown",
   "metadata": {},
   "source": [
    "#   1.2 Importing Libraries  <a id='importing_libraries'></a>\n",
    "In this step we import a few libraries that are required in our program. Some major libraries that are used are Numpy, Pandas, MatplotLib, Seaborn, Sklearn, XGBoost, NLTK and h2o.\n",
    "\n",
    "[Back to top](#Introduction)"
   ]
  },
  {
   "cell_type": "code",
   "execution_count": 234,
   "metadata": {},
   "outputs": [],
   "source": [
    "import h2o\n",
    "from h2o.automl import H2OAutoML\n",
    "run_time=333\n",
    "project =\"H20-Try\"\n",
    "balance_y=False \n",
    "\n",
    "import numpy as np\n",
    "import pandas as pd\n",
    "from PIL import Image\n",
    "import matplotlib.pyplot as plt\n",
    "import seaborn as sns\n",
    "import time\n",
    "\n",
    "import nltk\n",
    "\n",
    "from nltk.corpus import stopwords\n",
    "\n",
    "import spacy\n",
    "import base64 \n",
    "from scipy.misc import imread\n",
    "import codecs\n",
    "from wordcloud import WordCloud, STOPWORDS,ImageColorGenerator\n",
    "\n",
    "import string\n",
    "\n",
    "from sklearn.feature_extraction.text import TfidfVectorizer, CountVectorizer\n",
    "from sklearn.decomposition import TruncatedSVD\n",
    "from sklearn import ensemble, metrics, model_selection, naive_bayes\n",
    "from sklearn.model_selection import train_test_split,KFold\n",
    "from sklearn.metrics import confusion_matrix,roc_auc_score,log_loss\n",
    "\n",
    "from astropy.table import Table, Column\n",
    "\n",
    "seed = 2176\n",
    "\n",
    "\n",
    "import xgboost as xgb \n",
    "\n",
    "\n",
    "import warnings; warnings.simplefilter('ignore')"
   ]
  },
  {
   "cell_type": "markdown",
   "metadata": {},
   "source": [
    "#   1.3 Dataset Summary  <a id='dataset_summary'></a>\n",
    "Here we are looking at the top 5 rows of the dataset to view, what type of dataset it is. We also look at the columns which show the various attributes in the dataset. \n",
    "\n",
    "[Back to top](#Introduction)"
   ]
  },
  {
   "cell_type": "code",
   "execution_count": 138,
   "metadata": {
    "scrolled": false
   },
   "outputs": [
    {
     "name": "stdout",
     "output_type": "stream",
     "text": [
      "Time taken in reading the input files is 0.07579660415649414.\n"
     ]
    },
    {
     "data": {
      "text/html": [
       "<div>\n",
       "<style scoped>\n",
       "    .dataframe tbody tr th:only-of-type {\n",
       "        vertical-align: middle;\n",
       "    }\n",
       "\n",
       "    .dataframe tbody tr th {\n",
       "        vertical-align: top;\n",
       "    }\n",
       "\n",
       "    .dataframe thead th {\n",
       "        text-align: right;\n",
       "    }\n",
       "</style>\n",
       "<table border=\"1\" class=\"dataframe\">\n",
       "  <thead>\n",
       "    <tr style=\"text-align: right;\">\n",
       "      <th></th>\n",
       "      <th>id</th>\n",
       "      <th>text</th>\n",
       "      <th>author</th>\n",
       "    </tr>\n",
       "  </thead>\n",
       "  <tbody>\n",
       "    <tr>\n",
       "      <th>0</th>\n",
       "      <td>id26305</td>\n",
       "      <td>This process, however, afforded me no means of...</td>\n",
       "      <td>EAP</td>\n",
       "    </tr>\n",
       "    <tr>\n",
       "      <th>1</th>\n",
       "      <td>id17569</td>\n",
       "      <td>It never once occurred to me that the fumbling...</td>\n",
       "      <td>HPL</td>\n",
       "    </tr>\n",
       "    <tr>\n",
       "      <th>2</th>\n",
       "      <td>id11008</td>\n",
       "      <td>In his left hand was a gold snuff box, from wh...</td>\n",
       "      <td>EAP</td>\n",
       "    </tr>\n",
       "    <tr>\n",
       "      <th>3</th>\n",
       "      <td>id27763</td>\n",
       "      <td>How lovely is spring As we looked from Windsor...</td>\n",
       "      <td>MWS</td>\n",
       "    </tr>\n",
       "    <tr>\n",
       "      <th>4</th>\n",
       "      <td>id12958</td>\n",
       "      <td>Finding nothing else, not even gold, the Super...</td>\n",
       "      <td>HPL</td>\n",
       "    </tr>\n",
       "  </tbody>\n",
       "</table>\n",
       "</div>"
      ],
      "text/plain": [
       "        id                                               text author\n",
       "0  id26305  This process, however, afforded me no means of...    EAP\n",
       "1  id17569  It never once occurred to me that the fumbling...    HPL\n",
       "2  id11008  In his left hand was a gold snuff box, from wh...    EAP\n",
       "3  id27763  How lovely is spring As we looked from Windsor...    MWS\n",
       "4  id12958  Finding nothing else, not even gold, the Super...    HPL"
      ]
     },
     "execution_count": 138,
     "metadata": {},
     "output_type": "execute_result"
    }
   ],
   "source": [
    "start_time = time.time()\n",
    "train_df = pd.read_csv(\"train.csv\", encoding=\"ISO-8859-1\")\n",
    "test_df = pd.read_csv(\"test.csv\")\n",
    "#train_h2o_df=h2o.H2OFrame(train_df)\n",
    "#test_h2o_df=h2o.upload_file(\"test.csv\")\n",
    "end = time.time()\n",
    "print(\"Time taken in reading the input files is {}.\".format(end - start_time))\n",
    "train_df.head()"
   ]
  },
  {
   "cell_type": "markdown",
   "metadata": {},
   "source": [
    "As we can see there are only 3 columns in the dataset, so there isn't much information that we can work with right now. \n",
    "The Fields that we are given here re-\n",
    "\n",
    "- id - Id of the record\n",
    "- text - Text - main input data\n",
    "- author - Author of the given text In train data the author is given for each text for training, and in text we are only given text data and we are expected to predict the author using the given text. \n",
    "\n",
    "We need to add a few more columns to do some analysis.\n"
   ]
  },
  {
   "cell_type": "code",
   "execution_count": 139,
   "metadata": {},
   "outputs": [
    {
     "name": "stdout",
     "output_type": "stream",
     "text": [
      "Number of rows in train dataset 19579 \n",
      "Number of rows in test dataset 8392 \n",
      "No duplicates in train data\n",
      "No duplicates in test data\n",
      "Unique author is data ['EAP' 'HPL' 'MWS'].\n",
      "Number of nulls in the train is 0 and text is 0.\n"
     ]
    }
   ],
   "source": [
    "# Explore the dataset \n",
    "print(\"Number of rows in train dataset {} \".format(train_df.shape[0]))\n",
    "print(\"Number of rows in test dataset {} \".format(test_df.shape[0]))\n",
    "print(\"No duplicates in train data\") if train_df.shape[0] == train_df.text.unique().__len__() else print(\"Oops\")\n",
    "print(\"No duplicates in test data\") if test_df.shape[0] == test_df.text.unique().__len__() else print(\"Oops\")\n",
    "print(\"Unique author is data {}.\".format(train_df.author.unique()))\n",
    "print(\"Number of nulls in the train is {} and text is {}.\".format(train_df.isnull().sum().sum(), test_df.isnull().sum().sum()))"
   ]
  },
  {
   "cell_type": "markdown",
   "metadata": {},
   "source": [
    "### Checking the frequencies of text for all author in training dataset"
   ]
  },
  {
   "cell_type": "code",
   "execution_count": 140,
   "metadata": {},
   "outputs": [
    {
     "data": {
      "image/png": "[encoded data removed]",
      "text/plain": [
       "<Figure size 720x432 with 1 Axes>"
      ]
     },
     "metadata": {
      "needs_background": "light"
     },
     "output_type": "display_data"
    }
   ],
   "source": [
    "# Checking the frequencies of text for all author in training dataset\n",
    "author_summary = pd.DataFrame(train_df.groupby('author')['text'].count())\n",
    "author_summary.reset_index(inplace = True)\n",
    "plt.figure(figsize=(10,6))\n",
    "sns.barplot(author_summary.author, author_summary.text)\n",
    "plt.ylabel('Number of Occurrences', fontsize=12)\n",
    "plt.xlabel('Author Name', fontsize=12)\n",
    "plt.show()"
   ]
  },
  {
   "cell_type": "markdown",
   "metadata": {},
   "source": [
    "#   1.4 Dataset Cleaning  <a id='dataset_cleaning'></a>\n",
    "Next we will check if there are any missing or Null values in the dataset.\n",
    "\n",
    "[Back to top](#Introduction)"
   ]
  },
  {
   "cell_type": "code",
   "execution_count": 141,
   "metadata": {},
   "outputs": [
    {
     "name": "stdout",
     "output_type": "stream",
     "text": [
      "Are there Null Values in the dataset? \n"
     ]
    },
    {
     "data": {
      "text/plain": [
       "False"
      ]
     },
     "execution_count": 141,
     "metadata": {},
     "output_type": "execute_result"
    }
   ],
   "source": [
    "print(\"Are there Null Values in the dataset? \")\n",
    "train_df.isnull().values.any()"
   ]
  },
  {
   "cell_type": "markdown",
   "metadata": {},
   "source": [
    "Great! We don't have any null values in the dataset, so we don't need to do any cleaning in the given dataset!\n",
    "Let's Move on to the EDA in our dataset."
   ]
  },
  {
   "cell_type": "code",
   "execution_count": 209,
   "metadata": {
    "scrolled": true
   },
   "outputs": [
    {
     "data": {
      "text/html": [
       "<img src=\"https://media3.giphy.com/media/3oKIP8lAf1aJTFEeWc/giphy.gif?cid=790b76115ca44fe03439547559cf4a84\"/>"
      ],
      "text/plain": [
       "<IPython.core.display.Image object>"
      ]
     },
     "execution_count": 209,
     "metadata": {},
     "output_type": "execute_result"
    }
   ],
   "source": [
    "\n",
    "Image(url= \"https://media3.giphy.com/media/3oKIP8lAf1aJTFEeWc/giphy.gif?cid=790b76115ca44fe03439547559cf4a84\")"
   ]
  },
  {
   "cell_type": "markdown",
   "metadata": {},
   "source": [
    "#   1.5 Exploratory Data Analysis <a id='eda'></a>\n",
    "Now let's move to the fun part! EDA\n",
    "Exploratory Data Analysis refers to the critical process of performing initial investigations on data so as to discover patterns,to spot anomalies,to test hypothesis and to check assumptions with the help of summary statistics and graphical representations.\n",
    "\n",
    "It is a good practice to understand the data first and try to gather as many insights from it. EDA is all about making sense of data in hand,before getting them dirty with it.\n",
    "\n",
    "\n",
    "[Back to top](#Introduction)"
   ]
  },
  {
   "cell_type": "code",
   "execution_count": 143,
   "metadata": {},
   "outputs": [],
   "source": [
    "# Lets check the avg number of words in text written by each author in a histogram \n",
    "def word_count(row):\n",
    "    \"\"\"function to calculate the count of words in a given text \"\"\"\n",
    "    text = row['text']\n",
    "    text_splited = text.split(' ')\n",
    "    word_count = text_splited.__len__()\n",
    "    return word_count\n",
    "\n",
    "train_df['word_count'] = ''\n",
    "train_df['word_count'] = train_df.apply(lambda row: word_count(row), axis =1)\n",
    "test_df['word_count'] = test_df.apply(lambda row: word_count(row), axis =1)"
   ]
  },
  {
   "cell_type": "code",
   "execution_count": 144,
   "metadata": {},
   "outputs": [],
   "source": [
    "def base_64(input_image):\n",
    "    \"\"\" Function to convert the image to base64 \"\"\"\n",
    "    image = open(input_image, 'rb') #open binary file in read mode \n",
    "    image_read = image.read()\n",
    "    output_base64 = base64.encodestring(image_read)\n",
    "    return output_base64"
   ]
  },
  {
   "cell_type": "code",
   "execution_count": 145,
   "metadata": {},
   "outputs": [],
   "source": [
    "Ravens = base_64('Ravens.png')\n",
    "Cthulhu = base_64('Cthulhu.png')\n",
    "Frankenstien = base_64('Frankenstien.png')"
   ]
  },
  {
   "cell_type": "code",
   "execution_count": 146,
   "metadata": {},
   "outputs": [],
   "source": [
    "def codecs_img(input_image,base64_image):\n",
    "    \"\"\"Generate the Mask for EAP \"\"\"\n",
    "    f1 = open(input_image, \"wb\")\n",
    "    f1.write(codecs.decode(base64_image,'base64'))\n",
    "    f1.close()\n",
    "    img1 = imread(input_image)\n",
    "    #img = img1.resize((980,1000))\n",
    "    #imgplot=plt.imshow(img1)\n",
    "    #plt.show()\n",
    "    hcmask=img1\n",
    "    return hcmask "
   ]
  },
  {
   "cell_type": "code",
   "execution_count": 147,
   "metadata": {},
   "outputs": [],
   "source": [
    "hcmask1 = codecs_img('Ravens.png' , Ravens)\n",
    "hcmask2 = codecs_img('Cthulhu.png' , Cthulhu)\n",
    "hcmask3 = codecs_img('Frankenstien.png' , Frankenstien)"
   ]
  },
  {
   "cell_type": "markdown",
   "metadata": {},
   "source": [
    "## 1.5.1 Generating WordCloud without a Mask <a id='#wordcloud'></a>\n",
    "Word clouds (also known as text clouds or tag clouds) work in a simple way: the more a specific word appears in a source of textual data (such as a speech, blog post, or database), the bigger and bolder it appears in the word cloud.\n",
    "\n",
    "Word clouds show you what is emphasized in your text. For example, if you’re a fiction writer, you can instantly see what words are used more frequently in your current scene. This can help you spot words that perhaps you’ve over-used or to make sure you’re focusing on the most important characters or other key areas in your scene.\n",
    "\n",
    "[Back to top](#Introduction)"
   ]
  },
  {
   "cell_type": "code",
   "execution_count": 148,
   "metadata": {
    "scrolled": true
   },
   "outputs": [
    {
     "data": {
      "text/plain": [
       "(-0.5, 399.5, 199.5, -0.5)"
      ]
     },
     "execution_count": 148,
     "metadata": {},
     "output_type": "execute_result"
    },
    {
     "data": {
      "image/png": "[encoded data removed]",
      "text/plain": [
       "<Figure size 1152x936 with 1 Axes>"
      ]
     },
     "metadata": {
      "needs_background": "light"
     },
     "output_type": "display_data"
    }
   ],
   "source": [
    "eap = train_df[train_df.author==\"EAP\"][\"text\"].values\n",
    "hpl = train_df[train_df.author==\"HPL\"][\"text\"].values\n",
    "mws = train_df[train_df.author==\"MWS\"][\"text\"].values\n",
    "\n",
    "wc = WordCloud(background_color=\"white\", max_words=5000, \n",
    "               stopwords=STOPWORDS, max_font_size= 50)\n",
    "# generate word cloud\n",
    "wc.generate(\" \".join(train_df.text.values))\n",
    "\n",
    "# show\n",
    "plt.figure(figsize=(16,13))\n",
    "plt.imshow(wc, interpolation='bilinear')\n",
    "plt.title(\"words from all author\", fontsize=14,color='seagreen')\n",
    "plt.axis(\"off\")"
   ]
  },
  {
   "cell_type": "code",
   "execution_count": 149,
   "metadata": {},
   "outputs": [],
   "source": [
    "def generate_wordcloud(words, mask):\n",
    "    \"\"\" Generating Word Clouds \"\"\"\n",
    "    word_cloud = WordCloud(width = 512, height = 512, background_color='white', stopwords=STOPWORDS, mask=mask, max_font_size= 45).generate(\" \".join(words))\n",
    "    plt.figure(figsize=(10,9))\n",
    "    image_colors = ImageColorGenerator(mask)\n",
    "    plt.imshow(word_cloud.recolor(color_func=image_colors), interpolation='bilinear') # interpolation(helps in masking)\n",
    "    plt.axis('off')\n",
    "    plt.tight_layout(pad=0)\n",
    "    plt.show()\n",
    "    "
   ]
  },
  {
   "cell_type": "markdown",
   "metadata": {},
   "source": [
    "## 1.5.2 Generating WordCloud with a Mask <a id='#wordcloud_with_masking'></a>\n",
    "\n",
    "I have learned from anistropic that masked wordclouds look much better than nornmal one, So, I am also making wordclouds with different masks. Idea and embeddings are taken from anistropic's notebook, thanks anistropic.\n",
    "\n",
    "[Back to top](#Introduction)"
   ]
  },
  {
   "cell_type": "markdown",
   "metadata": {},
   "source": [
    "### WordCloud for Edgar Allen Poe (Raven)\n",
    "We chose Raven as a Mask for EAP because he's most known for his work The Raven."
   ]
  },
  {
   "cell_type": "code",
   "execution_count": 150,
   "metadata": {},
   "outputs": [],
   "source": [
    "#generate_wordcloud(eap,hcmask1)"
   ]
  },
  {
   "cell_type": "markdown",
   "metadata": {},
   "source": [
    "### WordCloud for H.P. Lovecraft (Cthulhu)\n",
    "We chose Cthulhu for HPL as it is a fictional cosmic entity created by writer H. P. Lovecraft and first introduced in the short story \"The Call of Cthulhu\", published in the American pulp magazine Weird Tales in 1928."
   ]
  },
  {
   "cell_type": "code",
   "execution_count": 151,
   "metadata": {},
   "outputs": [],
   "source": [
    "#generate_wordcloud(hpl,hcmask2)"
   ]
  },
  {
   "cell_type": "markdown",
   "metadata": {},
   "source": [
    "### WordCloud for Mary West Shelly (Frankenstien)\n",
    "We chose Frankestien for MWS as Frankenstein; or, The Modern Prometheus is a novel written by English author Mary Shelley that tells the story of Victor Frankenstein, a young scientist who creates a hideous, sapient creature in an unorthodox scientific experiment."
   ]
  },
  {
   "cell_type": "code",
   "execution_count": 152,
   "metadata": {},
   "outputs": [],
   "source": [
    "#generate_wordcloud(mws,hcmask3)"
   ]
  },
  {
   "cell_type": "markdown",
   "metadata": {},
   "source": [
    "# <p style=\"text-align: center;\"> 2.0 Feature Extraction </p> <a id='FeatureExtraction'></a>\n",
    "## Features corresponding to characteristics of different author's writting style\n",
    "Here my assuption is that each text that's been given is a paragraph in one of the books of corresponding author. Based on that assumption if we try and we can see if there is any pattern in author's writting style and based on that we can classify which text belong to which author. As of now, I am thinking about following features that can be put in this category. they are -\n",
    "\n",
    "- word_count - The count of words in given text\n",
    "- unique_words_fraction - Fraction of words that are unique in a given text\n",
    "- stop_words - Fraction of stopwords present in a given text - Number of stopwords/Total words\n",
    "- punctuations - Fraction of punctuation present in a given text - Number of puctuations/Total words\n",
    "- fract_Nouns - Fraction of Nuons\n",
    "- fract_adj - Fraction of Adjectives present in a text\n",
    "\n",
    "As of now I can think of these aforesaid features, will update this list of features if I extract any other features than mentioned features. Lets define function for features releted to author's characteristics and then run those function for final feature extraction.\n",
    "\n",
    "#### Note:\n",
    " Here for some or most of the features I have used fraction and not the number as my person experience of document classification using manualluy designed features says that it make more sense to use fraction as if one text is larger thgan the author the number will mislead you while fraction will cover the pith about author's characteristics.\n",
    " \n",
    "[Back to top](#Introduction)"
   ]
  },
  {
   "cell_type": "code",
   "execution_count": 153,
   "metadata": {},
   "outputs": [],
   "source": [
    "#list of unique word fraction\n",
    "def unique_word_fraction(row):\n",
    "    \"\"\"function to calculate the fraction of unique words on total words of the text\"\"\"\n",
    "    text = row['text']\n",
    "    text_splited = text.split(' ')\n",
    "    text_splited = [''.join(c for c in s if c not in string.punctuation) for s in text_splited]\n",
    "    text_splited = [s for s in text_splited if s]\n",
    "    word_count = text_splited.__len__()\n",
    "    unique_count = list(set(text_splited)).__len__()\n",
    "    return (unique_count/word_count)\n"
   ]
  },
  {
   "cell_type": "code",
   "execution_count": 154,
   "metadata": {},
   "outputs": [],
   "source": [
    "#count of stopwords in the text\n",
    "eng_stopwords = set(stopwords.words(\"english\"))\n",
    "def stopwords_count(row):\n",
    "    \"\"\" Number of stopwords fraction in a text\"\"\"\n",
    "    text = row['text'].lower()\n",
    "    text_splited = text.split(' ')\n",
    "    text_splited = [''.join(c for c in s if c not in string.punctuation) for s in text_splited]\n",
    "    text_splited = [s for s in text_splited if s]\n",
    "    word_count = text_splited.__len__()\n",
    "    stopwords_count = len([w for w in text_splited if w in eng_stopwords])\n",
    "    return (stopwords_count/word_count)"
   ]
  },
  {
   "cell_type": "code",
   "execution_count": 155,
   "metadata": {},
   "outputs": [],
   "source": [
    "#fraction of punctuations in the text\n",
    "def punctuations_fraction(row):\n",
    "    \"\"\"functiopn to claculate the fraction of punctuations over total number of characters for a given text \"\"\"\n",
    "    text = row['text']\n",
    "    char_count = len(text)\n",
    "    punctuation_count = len([c for c in text if c in string.punctuation])\n",
    "    return (punctuation_count/char_count)"
   ]
  },
  {
   "cell_type": "code",
   "execution_count": 156,
   "metadata": {},
   "outputs": [],
   "source": [
    "#charachter count\n",
    "def char_count(row):\n",
    "    \"\"\"function to return number of chracters \"\"\"\n",
    "    return len(row['text'])"
   ]
  },
  {
   "cell_type": "code",
   "execution_count": 157,
   "metadata": {},
   "outputs": [],
   "source": [
    "#fraction of nouns\n",
    "def fraction_noun(row):\n",
    "    \"\"\"function to give us fraction of noun over total words \"\"\"\n",
    "    text = row['text']\n",
    "    text_splited = text.split(' ')\n",
    "    text_splited = [''.join(c for c in s if c not in string.punctuation) for s in text_splited]\n",
    "    text_splited = [s for s in text_splited if s]\n",
    "    word_count = text_splited.__len__()\n",
    "    pos_list = nltk.pos_tag(text_splited)\n",
    "    noun_count = len([w for w in pos_list if w[1] in ('NN','NNP','NNPS','NNS')])\n",
    "    return (noun_count/word_count)"
   ]
  },
  {
   "cell_type": "code",
   "execution_count": 158,
   "metadata": {},
   "outputs": [],
   "source": [
    "#fraction of Adjectives\n",
    "def fraction_adj(row):\n",
    "    \"\"\"function to give us fraction of adjectives over total words in given text\"\"\"\n",
    "    text = row['text']\n",
    "    text_splited = text.split(' ')\n",
    "    text_splited = [''.join(c for c in s if c not in string.punctuation) for s in text_splited]\n",
    "    text_splited = [s for s in text_splited if s]\n",
    "    word_count = text_splited.__len__()\n",
    "    pos_list = nltk.pos_tag(text_splited)\n",
    "    adj_count = len([w for w in pos_list if w[1] in ('JJ','JJR','JJS')])\n",
    "    return (adj_count/word_count)"
   ]
  },
  {
   "cell_type": "code",
   "execution_count": 159,
   "metadata": {},
   "outputs": [],
   "source": [
    "#fraction of Verbs\n",
    "def fraction_verbs(row):\n",
    "    \"\"\"function to give us fraction of verbs over total words in given text\"\"\"\n",
    "    text = row['text']\n",
    "    text_splited = text.split(' ')\n",
    "    text_splited = [''.join(c for c in s if c not in string.punctuation) for s in text_splited]\n",
    "    text_splited = [s for s in text_splited if s]\n",
    "    word_count = text_splited.__len__()\n",
    "    pos_list = nltk.pos_tag(text_splited)\n",
    "    verbs_count = len([w for w in pos_list if w[1] in ('VB','VBD','VBG','VBN','VBP','VBZ')])\n",
    "    return (verbs_count/word_count)"
   ]
  },
  {
   "cell_type": "markdown",
   "metadata": {},
   "source": [
    "### Applying the Feature Extraction on our Data\n",
    "\n",
    "Applying functions-defined above-to extract features based on characteristics of author's writing style on train data..."
   ]
  },
  {
   "cell_type": "code",
   "execution_count": 160,
   "metadata": {},
   "outputs": [
    {
     "data": {
      "text/html": [
       "<div>\n",
       "<style scoped>\n",
       "    .dataframe tbody tr th:only-of-type {\n",
       "        vertical-align: middle;\n",
       "    }\n",
       "\n",
       "    .dataframe tbody tr th {\n",
       "        vertical-align: top;\n",
       "    }\n",
       "\n",
       "    .dataframe thead th {\n",
       "        text-align: right;\n",
       "    }\n",
       "</style>\n",
       "<table border=\"1\" class=\"dataframe\">\n",
       "  <thead>\n",
       "    <tr style=\"text-align: right;\">\n",
       "      <th></th>\n",
       "      <th>id</th>\n",
       "      <th>text</th>\n",
       "      <th>author</th>\n",
       "      <th>word_count</th>\n",
       "      <th>unique_word_fraction</th>\n",
       "      <th>stopwords_count</th>\n",
       "      <th>punctuations_fraction</th>\n",
       "      <th>char_count</th>\n",
       "      <th>fraction_noun</th>\n",
       "      <th>fraction_adj</th>\n",
       "      <th>fraction_verbs</th>\n",
       "    </tr>\n",
       "  </thead>\n",
       "  <tbody>\n",
       "    <tr>\n",
       "      <th>0</th>\n",
       "      <td>id26305</td>\n",
       "      <td>This process, however, afforded me no means of...</td>\n",
       "      <td>EAP</td>\n",
       "      <td>41</td>\n",
       "      <td>0.853659</td>\n",
       "      <td>0.487805</td>\n",
       "      <td>0.030303</td>\n",
       "      <td>231</td>\n",
       "      <td>0.243902</td>\n",
       "      <td>0.048780</td>\n",
       "      <td>0.146341</td>\n",
       "    </tr>\n",
       "    <tr>\n",
       "      <th>1</th>\n",
       "      <td>id17569</td>\n",
       "      <td>It never once occurred to me that the fumbling...</td>\n",
       "      <td>HPL</td>\n",
       "      <td>14</td>\n",
       "      <td>1.000000</td>\n",
       "      <td>0.571429</td>\n",
       "      <td>0.014085</td>\n",
       "      <td>71</td>\n",
       "      <td>0.142857</td>\n",
       "      <td>0.071429</td>\n",
       "      <td>0.142857</td>\n",
       "    </tr>\n",
       "    <tr>\n",
       "      <th>2</th>\n",
       "      <td>id11008</td>\n",
       "      <td>In his left hand was a gold snuff box, from wh...</td>\n",
       "      <td>EAP</td>\n",
       "      <td>36</td>\n",
       "      <td>0.888889</td>\n",
       "      <td>0.472222</td>\n",
       "      <td>0.025000</td>\n",
       "      <td>200</td>\n",
       "      <td>0.277778</td>\n",
       "      <td>0.138889</td>\n",
       "      <td>0.111111</td>\n",
       "    </tr>\n",
       "    <tr>\n",
       "      <th>3</th>\n",
       "      <td>id27763</td>\n",
       "      <td>How lovely is spring As we looked from Windsor...</td>\n",
       "      <td>MWS</td>\n",
       "      <td>34</td>\n",
       "      <td>0.941176</td>\n",
       "      <td>0.382353</td>\n",
       "      <td>0.019417</td>\n",
       "      <td>206</td>\n",
       "      <td>0.294118</td>\n",
       "      <td>0.176471</td>\n",
       "      <td>0.147059</td>\n",
       "    </tr>\n",
       "    <tr>\n",
       "      <th>4</th>\n",
       "      <td>id12958</td>\n",
       "      <td>Finding nothing else, not even gold, the Super...</td>\n",
       "      <td>HPL</td>\n",
       "      <td>27</td>\n",
       "      <td>0.925926</td>\n",
       "      <td>0.407407</td>\n",
       "      <td>0.022989</td>\n",
       "      <td>174</td>\n",
       "      <td>0.222222</td>\n",
       "      <td>0.037037</td>\n",
       "      <td>0.222222</td>\n",
       "    </tr>\n",
       "  </tbody>\n",
       "</table>\n",
       "</div>"
      ],
      "text/plain": [
       "        id                                               text author  \\\n",
       "0  id26305  This process, however, afforded me no means of...    EAP   \n",
       "1  id17569  It never once occurred to me that the fumbling...    HPL   \n",
       "2  id11008  In his left hand was a gold snuff box, from wh...    EAP   \n",
       "3  id27763  How lovely is spring As we looked from Windsor...    MWS   \n",
       "4  id12958  Finding nothing else, not even gold, the Super...    HPL   \n",
       "\n",
       "   word_count  unique_word_fraction  stopwords_count  punctuations_fraction  \\\n",
       "0          41              0.853659         0.487805               0.030303   \n",
       "1          14              1.000000         0.571429               0.014085   \n",
       "2          36              0.888889         0.472222               0.025000   \n",
       "3          34              0.941176         0.382353               0.019417   \n",
       "4          27              0.925926         0.407407               0.022989   \n",
       "\n",
       "   char_count  fraction_noun  fraction_adj  fraction_verbs  \n",
       "0         231       0.243902      0.048780        0.146341  \n",
       "1          71       0.142857      0.071429        0.142857  \n",
       "2         200       0.277778      0.138889        0.111111  \n",
       "3         206       0.294118      0.176471        0.147059  \n",
       "4         174       0.222222      0.037037        0.222222  "
      ]
     },
     "execution_count": 160,
     "metadata": {},
     "output_type": "execute_result"
    }
   ],
   "source": [
    "train_df['unique_word_fraction'] = train_df.apply(lambda row: unique_word_fraction(row), axis =1)\n",
    "train_df['stopwords_count'] = train_df.apply(lambda row: stopwords_count(row), axis =1)\n",
    "train_df['punctuations_fraction'] = train_df.apply(lambda row: punctuations_fraction(row), axis =1)\n",
    "train_df['char_count'] = train_df.apply(lambda row: char_count(row), axis =1)\n",
    "train_df['fraction_noun'] = train_df.apply(lambda row: fraction_noun(row), axis =1)\n",
    "train_df['fraction_adj'] = train_df.apply(lambda row: fraction_adj(row), axis =1)\n",
    "train_df['fraction_verbs'] = train_df.apply(lambda row: fraction_verbs(row), axis =1)\n",
    "train_df.head()"
   ]
  },
  {
   "cell_type": "markdown",
   "metadata": {},
   "source": [
    "Now that we have a few numerical columns, we can perform analysis on the same"
   ]
  },
  {
   "cell_type": "markdown",
   "metadata": {},
   "source": [
    "Applying functions-defined above-to extract features based on characteristics of author's writing style on test data"
   ]
  },
  {
   "cell_type": "code",
   "execution_count": 161,
   "metadata": {},
   "outputs": [
    {
     "data": {
      "text/html": [
       "<div>\n",
       "<style scoped>\n",
       "    .dataframe tbody tr th:only-of-type {\n",
       "        vertical-align: middle;\n",
       "    }\n",
       "\n",
       "    .dataframe tbody tr th {\n",
       "        vertical-align: top;\n",
       "    }\n",
       "\n",
       "    .dataframe thead th {\n",
       "        text-align: right;\n",
       "    }\n",
       "</style>\n",
       "<table border=\"1\" class=\"dataframe\">\n",
       "  <thead>\n",
       "    <tr style=\"text-align: right;\">\n",
       "      <th></th>\n",
       "      <th>id</th>\n",
       "      <th>text</th>\n",
       "      <th>word_count</th>\n",
       "      <th>unique_word_fraction</th>\n",
       "      <th>stopwords_count</th>\n",
       "      <th>punctuations_fraction</th>\n",
       "      <th>char_count</th>\n",
       "      <th>fraction_noun</th>\n",
       "      <th>fraction_adj</th>\n",
       "      <th>fraction_verbs</th>\n",
       "    </tr>\n",
       "  </thead>\n",
       "  <tbody>\n",
       "    <tr>\n",
       "      <th>0</th>\n",
       "      <td>id02310</td>\n",
       "      <td>Still, as I urged our leaving Ireland with suc...</td>\n",
       "      <td>19</td>\n",
       "      <td>1.000000</td>\n",
       "      <td>0.473684</td>\n",
       "      <td>0.027273</td>\n",
       "      <td>110</td>\n",
       "      <td>0.210526</td>\n",
       "      <td>0.105263</td>\n",
       "      <td>0.210526</td>\n",
       "    </tr>\n",
       "    <tr>\n",
       "      <th>1</th>\n",
       "      <td>id24541</td>\n",
       "      <td>If a fire wanted fanning, it could readily be ...</td>\n",
       "      <td>62</td>\n",
       "      <td>0.790323</td>\n",
       "      <td>0.548387</td>\n",
       "      <td>0.021212</td>\n",
       "      <td>330</td>\n",
       "      <td>0.258065</td>\n",
       "      <td>0.032258</td>\n",
       "      <td>0.161290</td>\n",
       "    </tr>\n",
       "    <tr>\n",
       "      <th>2</th>\n",
       "      <td>id00134</td>\n",
       "      <td>And when they had broken down the frail door t...</td>\n",
       "      <td>33</td>\n",
       "      <td>0.909091</td>\n",
       "      <td>0.484848</td>\n",
       "      <td>0.015873</td>\n",
       "      <td>189</td>\n",
       "      <td>0.212121</td>\n",
       "      <td>0.121212</td>\n",
       "      <td>0.151515</td>\n",
       "    </tr>\n",
       "    <tr>\n",
       "      <th>3</th>\n",
       "      <td>id27757</td>\n",
       "      <td>While I was thinking how I should possibly man...</td>\n",
       "      <td>41</td>\n",
       "      <td>0.829268</td>\n",
       "      <td>0.512195</td>\n",
       "      <td>0.022422</td>\n",
       "      <td>223</td>\n",
       "      <td>0.170732</td>\n",
       "      <td>0.048780</td>\n",
       "      <td>0.170732</td>\n",
       "    </tr>\n",
       "    <tr>\n",
       "      <th>4</th>\n",
       "      <td>id04081</td>\n",
       "      <td>I am not sure to what limit his knowledge may ...</td>\n",
       "      <td>11</td>\n",
       "      <td>1.000000</td>\n",
       "      <td>0.545455</td>\n",
       "      <td>0.018868</td>\n",
       "      <td>53</td>\n",
       "      <td>0.090909</td>\n",
       "      <td>0.090909</td>\n",
       "      <td>0.272727</td>\n",
       "    </tr>\n",
       "  </tbody>\n",
       "</table>\n",
       "</div>"
      ],
      "text/plain": [
       "        id                                               text  word_count  \\\n",
       "0  id02310  Still, as I urged our leaving Ireland with suc...          19   \n",
       "1  id24541  If a fire wanted fanning, it could readily be ...          62   \n",
       "2  id00134  And when they had broken down the frail door t...          33   \n",
       "3  id27757  While I was thinking how I should possibly man...          41   \n",
       "4  id04081  I am not sure to what limit his knowledge may ...          11   \n",
       "\n",
       "   unique_word_fraction  stopwords_count  punctuations_fraction  char_count  \\\n",
       "0              1.000000         0.473684               0.027273         110   \n",
       "1              0.790323         0.548387               0.021212         330   \n",
       "2              0.909091         0.484848               0.015873         189   \n",
       "3              0.829268         0.512195               0.022422         223   \n",
       "4              1.000000         0.545455               0.018868          53   \n",
       "\n",
       "   fraction_noun  fraction_adj  fraction_verbs  \n",
       "0       0.210526      0.105263        0.210526  \n",
       "1       0.258065      0.032258        0.161290  \n",
       "2       0.212121      0.121212        0.151515  \n",
       "3       0.170732      0.048780        0.170732  \n",
       "4       0.090909      0.090909        0.272727  "
      ]
     },
     "execution_count": 161,
     "metadata": {},
     "output_type": "execute_result"
    }
   ],
   "source": [
    "test_df['unique_word_fraction'] = test_df.apply(lambda row: unique_word_fraction(row), axis =1)\n",
    "test_df['stopwords_count'] = test_df.apply(lambda row: stopwords_count(row), axis =1)\n",
    "test_df['punctuations_fraction'] = test_df.apply(lambda row: punctuations_fraction(row), axis =1)\n",
    "test_df['char_count'] = test_df.apply(lambda row: char_count(row), axis =1)\n",
    "test_df['fraction_noun'] = test_df.apply(lambda row: fraction_noun(row), axis =1)\n",
    "test_df['fraction_adj'] = test_df.apply(lambda row: fraction_adj(row), axis =1)\n",
    "test_df['fraction_verbs'] = test_df.apply(lambda row: fraction_verbs(row), axis =1)\n",
    "test_df.head()"
   ]
  },
  {
   "cell_type": "markdown",
   "metadata": {},
   "source": [
    "\n",
    "# <p style=\"text-align: center;\"> 3.0 Tf-idf Model </p> <a id='tfidf'></a>\n",
    "Tf-idf stands for term frequency-inverse document frequency. The tf-idf weight is a weight often used in information retrieval and text mining. This weight is a statistical measure used to evaluate how important a word is to a document in a collection or corpus. The importance increases proportionally to the number of times a word appears in the document but is offset by the frequency of the word in the corpus. \n",
    "\n",
    "#### How to Compute:\n",
    "\n",
    "Typically, the tf-idf weight is composed by two terms: the first computes the normalized Term Frequency (TF), aka. the number of times a word appears in a document, divided by the total number of words in that document; the second term is the Inverse Document Frequency (IDF), computed as the logarithm of the number of the documents in the corpus divided by the number of documents where the specific term appears.\n",
    "\n",
    "TF: Term Frequency, which measures how frequently a term occurs in a document. Since every document is different in length, it is possible that a term would appear much more times in long documents than shorter ones. Thus, the term frequency is often divided by the document length (aka. the total number of terms in the document) as a way of normalization: \n",
    "\n",
    "\n",
    "\\begin{equation*}\n",
    "TF(t) =\\frac {(Number\\: of\\: times\\: term\\: t\\: appears\\: in\\: a\\: document\\:)}{(Total\\: number\\: of\\: terms\\: in\\: the\\: document\\:)}\n",
    "\\end{equation*}\n",
    "\n",
    "IDF: Inverse Document Frequency, which measures how important a term is. While computing TF, all terms are considered equally important. However it is known that certain terms, such as \"is\", \"of\", and \"that\", may appear a lot of times but have little importance. Thus we need to weigh down the frequent terms while scale up the rare ones, by computing the following: \n",
    "\n",
    "\\begin{equation*}\n",
    "IDF(t) = log_e \\frac{(Total\\: number\\: of\\: documents\\:)}{(Number\\: of\\: documents\\: with\\: term\\: t\\: in\\: it\\:)}\n",
    "\\end{equation*}\n",
    "\n",
    "[Back to top](#Introduction)"
   ]
  },
  {
   "cell_type": "code",
   "execution_count": 162,
   "metadata": {},
   "outputs": [
    {
     "name": "stdout",
     "output_type": "stream",
     "text": [
      "Time taken in tf-idf is 4.231534242630005.\n"
     ]
    }
   ],
   "source": [
    "start = time.time()\n",
    "tfidf_vec = TfidfVectorizer(stop_words='english', ngram_range=(1,3))\n",
    "full_tfidf = tfidf_vec.fit_transform(train_df['text'].values.tolist() + test_df['text'].values.tolist())\n",
    "train_tfidf = tfidf_vec.transform(train_df['text'].values.tolist())\n",
    "test_tfidf = tfidf_vec.transform(test_df['text'].values.tolist())\n",
    "end = time.time()\n",
    "print(\"Time taken in tf-idf is {}.\".format(end-start))\n",
    "\n",
    "cols_to_drop = ['id', 'text']\n",
    "train_X = train_df.drop(cols_to_drop+['author'], axis=1)\n",
    "test_X = test_df.drop(cols_to_drop, axis=1)\n",
    "author_mapping_dict = {'EAP':0, 'HPL':1, 'MWS':2}\n",
    "train_y = train_df['author'].map(author_mapping_dict)"
   ]
  },
  {
   "cell_type": "markdown",
   "metadata": {},
   "source": [
    "# <p style=\"text-align: center;\"> 4.0 Multinomial Naive Bayes </p> <a id='mnb'></a>\n",
    "Naive Bayes is a family of probabilistic algorithms that take advantage of probability theory and Bayes’ Theorem to predict the tag of a text (like a piece of news or a customer review). We need to transform the probability we want to calculate into something that can be calculated using word frequencies. For this, we use some basic properties of probabilities, and Bayes’ Theorem. Naive-Bayes is used for multinomial and gausian distributions.\n",
    "\n",
    "\\begin{equation*}\n",
    "P(A|B)= \\frac {P(B|A) \\times P(A)}{P(B)}\n",
    "\\end{equation*}\n",
    "\n",
    "Why Naive? We assume that every word in a sentence is independent of the other ones. This means that we’re no longer looking at entire sentences, but rather at individual words.\n",
    "\n",
    "[Back to top](#Introduction)"
   ]
  },
  {
   "cell_type": "code",
   "execution_count": 163,
   "metadata": {},
   "outputs": [
    {
     "name": "stdout",
     "output_type": "stream",
     "text": [
      "Mean cv score :  0.8421559083173509\n"
     ]
    }
   ],
   "source": [
    "# this function is taken from SRK's notebook\n",
    "def runMNB(train_X, train_y, test_X, test_y, test_X2):\n",
    "    model = naive_bayes.MultinomialNB()\n",
    "    model.fit(train_X, train_y)\n",
    "    pred_test_y = model.predict_proba(test_X)\n",
    "    pred_test_y2 = model.predict_proba(test_X2)\n",
    "    return pred_test_y, pred_test_y2, model\n",
    "\n",
    "cv_scores = []\n",
    "pred_full_test = 0\n",
    "pred_train = np.zeros([train_df.shape[0], 3])\n",
    "kf = model_selection.KFold(n_splits=5, shuffle=True, random_state=2017)\n",
    "for dev_index, val_index in kf.split(train_X):\n",
    "    dev_X, val_X = train_tfidf[dev_index], train_tfidf[val_index]\n",
    "    dev_y, val_y = train_y[dev_index], train_y[val_index]\n",
    "    pred_val_y, pred_test_y, model = runMNB(dev_X, dev_y, val_X, val_y, test_tfidf)\n",
    "    pred_full_test = pred_full_test + pred_test_y\n",
    "    pred_train[val_index,:] = pred_val_y\n",
    "    cv_scores.append(metrics.log_loss(val_y, pred_val_y))\n",
    "print(\"Mean cv score : \", np.mean(cv_scores))\n",
    "pred_full_test = pred_full_test / 5.\n",
    "\n",
    "# add the predictions as new features #\n",
    "train_df[\"nb_cvec_eap\"] = pred_train[:,0]\n",
    "train_df[\"nb_cvec_hpl\"] = pred_train[:,1]\n",
    "train_df[\"nb_cvec_mws\"] = pred_train[:,2]\n",
    "test_df[\"nb_cvec_eap\"] = pred_full_test[:,0]\n",
    "test_df[\"nb_cvec_hpl\"] = pred_full_test[:,1]\n",
    "test_df[\"nb_cvec_mws\"] = pred_full_test[:,2]"
   ]
  },
  {
   "cell_type": "markdown",
   "metadata": {},
   "source": [
    "# <p style=\"text-align: center;\"> 5.0 Truncated SVD </p> <a id='truncsvd'></a>\n",
    "\n",
    "Dimensionality reduction using truncated SVD.\n",
    "\n",
    "This transformer performs linear dimensionality reduction by means of truncated singular value decomposition (SVD). Contrary to PCA, this estimator does not center the data before computing the singular value decomposition. This means it can work with scipy.sparse matrices efficiently.\n",
    "SVD is not used to normalize the data, but to get rid of redundant data, that is, for dimensionality reduction. The eigenvalues in SVD help you determine what variables are most informative, and which ones you can do without.\n",
    "\n",
    "When we form SVD over our training data (call it matrix A), to obtain U, S and V*. Then set to zero all values of S less than a certain arbitrary threshold (e.g. 0.1), call this new matrix S'. Then obtain A' = US'V* and use A' as your new training data. Some of your features are now set to zero and can be removed, sometimes without any performance penalty (depending on your data and the threshold chosen). This is called truncated SVD.\n",
    "\n",
    "[Back to top](#Introduction)"
   ]
  },
  {
   "cell_type": "code",
   "execution_count": 164,
   "metadata": {},
   "outputs": [
    {
     "name": "stdout",
     "output_type": "stream",
     "text": [
      "Mean cv score :  0.45083470808591003\n"
     ]
    }
   ],
   "source": [
    "### Fit transform the count vectorizer ###\n",
    "tfidf_vec = CountVectorizer(stop_words='english', ngram_range=(1,3))\n",
    "tfidf_vec.fit(train_df['text'].values.tolist() + test_df['text'].values.tolist())\n",
    "train_tfidf = tfidf_vec.transform(train_df['text'].values.tolist())\n",
    "test_tfidf = tfidf_vec.transform(test_df['text'].values.tolist())\n",
    "\n",
    "cv_scores = []\n",
    "pred_full_test = 0\n",
    "pred_train = np.zeros([train_df.shape[0], 3])\n",
    "kf = model_selection.KFold(n_splits=5, shuffle=True, random_state=2017)\n",
    "for dev_index, val_index in kf.split(train_X):\n",
    "    dev_X, val_X = train_tfidf[dev_index], train_tfidf[val_index]\n",
    "    dev_y, val_y = train_y[dev_index], train_y[val_index]\n",
    "    pred_val_y, pred_test_y, model = runMNB(dev_X, dev_y, val_X, val_y, test_tfidf)\n",
    "    pred_full_test = pred_full_test + pred_test_y\n",
    "    pred_train[val_index,:] = pred_val_y\n",
    "    cv_scores.append(metrics.log_loss(val_y, pred_val_y))\n",
    "print(\"Mean cv score : \", np.mean(cv_scores))\n",
    "pred_full_test = pred_full_test / 5.\n",
    "\n",
    "# add the predictions as new features #\n",
    "train_df[\"nb_cvec_eap\"] = pred_train[:,0]\n",
    "train_df[\"nb_cvec_hpl\"] = pred_train[:,1]\n",
    "train_df[\"nb_cvec_mws\"] = pred_train[:,2]\n",
    "test_df[\"nb_cvec_eap\"] = pred_full_test[:,0]\n",
    "test_df[\"nb_cvec_hpl\"] = pred_full_test[:,1]\n",
    "test_df[\"nb_cvec_mws\"] = pred_full_test[:,2]"
   ]
  },
  {
   "cell_type": "code",
   "execution_count": 165,
   "metadata": {},
   "outputs": [
    {
     "name": "stdout",
     "output_type": "stream",
     "text": [
      "Time taken in tf-idf is 92.39104890823364.\n"
     ]
    }
   ],
   "source": [
    "start = time.time()\n",
    "n_comp = 400\n",
    "svd_obj = TruncatedSVD(n_components=n_comp, algorithm='arpack')\n",
    "svd_obj.fit(full_tfidf)\n",
    "train_svd = pd.DataFrame(svd_obj.transform(train_tfidf))\n",
    "test_svd = pd.DataFrame(svd_obj.transform(test_tfidf))\n",
    "    \n",
    "train_svd.columns = ['svd_word_'+str(i) for i in range(n_comp)]\n",
    "test_svd.columns = ['svd_word_'+str(i) for i in range(n_comp)]\n",
    "train_df = pd.concat([train_df, train_svd], axis=1)\n",
    "test_df = pd.concat([test_df, test_svd], axis=1)\n",
    "del full_tfidf, train_tfidf, test_tfidf, train_svd, test_svd\n",
    "end = time.time()\n",
    "print(\"Time taken in tf-idf is {}.\".format(end-start))"
   ]
  },
  {
   "cell_type": "code",
   "execution_count": 166,
   "metadata": {},
   "outputs": [
    {
     "name": "stdout",
     "output_type": "stream",
     "text": [
      "Time taken in tf-idf is 34.50419306755066.\n"
     ]
    }
   ],
   "source": [
    "#character based tfidf\n",
    "start = time.time()\n",
    "tfidf_vec = TfidfVectorizer(ngram_range=(1,5), analyzer='char')\n",
    "full_tfidf = tfidf_vec.fit_transform(train_df['text'].values.tolist() + test_df['text'].values.tolist())\n",
    "train_tfidf = tfidf_vec.transform(train_df['text'].values.tolist())\n",
    "test_tfidf = tfidf_vec.transform(test_df['text'].values.tolist())\n",
    "n_comp = 40\n",
    "svd_obj = TruncatedSVD(n_components=n_comp, algorithm='arpack')\n",
    "svd_obj.fit(full_tfidf)\n",
    "train_svd = pd.DataFrame(svd_obj.transform(train_tfidf))\n",
    "test_svd = pd.DataFrame(svd_obj.transform(test_tfidf))   \n",
    "train_svd.columns = ['svd_char_'+str(i) for i in range(n_comp)]\n",
    "test_svd.columns = ['svd_char_'+str(i) for i in range(n_comp)]\n",
    "train_df = pd.concat([train_df, train_svd], axis=1)\n",
    "test_df = pd.concat([test_df, test_svd], axis=1)\n",
    "del full_tfidf, train_tfidf, test_tfidf, train_svd, test_svd\n",
    "end = time.time()\n",
    "print(\"Time taken in tf-idf is {}.\".format(end-start))"
   ]
  },
  {
   "cell_type": "markdown",
   "metadata": {},
   "source": [
    "# <p style=\"text-align: center;\"> 6.0 XGBoost </p> <a id='xgb'></a>\n",
    "\n",
    "\n",
    "XGBoost stands for eXtreme Gradient Boosting.XGBoost is an implementation of gradient boosted decision trees designed for speed and performance. It is both a linear model solver and a tree learning algorithm. It does a parallel computation on a single machihne , and supports various objective functions including regression, classification and ranking. \n",
    "> Two reasons to use XGBoost are also the two goals of the project: \n",
    "\n",
    "> 1. Execution Speed. \n",
    "\n",
    "> 2. Model Performance.\n",
    "\n",
    "The XGBoost library implements the gradient boosting decision tree algorithm.\n",
    "\n",
    "This algorithm goes by lots of different names such as gradient boosting, multiple additive regression trees, stochastic gradient boosting or gradient boosting machines.\n",
    "\n",
    "Boosting is an ensemble technique where new models are added to correct the errors made by existing models. Models are added sequentially until no further improvements can be made. A popular example is the AdaBoost algorithm that weights data points that are hard to predict.\n",
    "\n",
    "Gradient boosting is an approach where new models are created that predict the residuals or errors of prior models and then added together to make the final prediction. It is called gradient boosting because it uses a gradient descent algorithm to minimize the loss when adding new models.\n",
    "\n",
    "This approach supports both regression and classification predictive modeling problems.\n",
    "\n",
    "Before running XGBoost, we must set three types of parameters: general parameters, booster parameters and task parameters.\n",
    "\n",
    ">General parameters relate to which booster we are using to do boosting, commonly tree or linear model\n",
    "\n",
    ">Booster parameters depend on which booster you have chosen\n",
    "\n",
    ">Learning task parameters decide on the learning scenario. For example, regression tasks may use different parameters with ranking tasks.\n",
    "\n",
    ">Command line parameters relate to behavior of CLI version of XGBoost.\n",
    "\n",
    "XGBoost Parameters \n",
    "-    'n_trees': 500,   #general parameter used as booster\n",
    "-    'eta': 0.005,     #Booster Parameter used as learning_rate, step shrinkage reduces overfitting and eta shrinks the feature weights to make the boosting process more conservative.\n",
    "-    'max_depth': 4,   #Booster Parameter Maximum depth of a tree. Increasing this value will make the model more complex and more likely to overfit\n",
    "-    'subsample': 0.95, #Booster Parameter Subsample ratio of the training instances. Setting it to 0.5 means that XGBoost would randomly sample half of the training data prior to growing trees. and this will prevent overfitting. \n",
    "-    'objective': 'reg:linear', #Learning Parameter Specify the learning task and the corresponding learning objective\n",
    "-    'eval_metric': 'rmse', #Learning Parameter Evaluation metrics for validation data, a default metric will be assigned according to objective , user can add multiple metrics\n",
    "-    'base_score': mean_Y, # Learning Parameter The initial prediction score of all instances, global bias base prediction = mean(target)\n",
    "-    'silent': 1    #silent [default=0] [Deprecated] Deprecated. Verbosity of printing messages.\n",
    "\n",
    "[Back to top](#Introduction)\n"
   ]
  },
  {
   "cell_type": "markdown",
   "metadata": {},
   "source": [
    "### Implementing XGBoost Without Markov"
   ]
  },
  {
   "cell_type": "code",
   "execution_count": 167,
   "metadata": {},
   "outputs": [],
   "source": [
    "val_df = train_df.sample(frac=0.2, replace=False)\n",
    "trn_df = train_df.drop(val_df.index)\n",
    "author_mapping_dict = {'EAP':0, 'HPL':1, 'MWS':2}\n",
    "trn_df['author'] = trn_df['author'].astype('category')\n",
    "val_df['author'] = val_df['author'].astype('category')\n",
    "cat_columns = trn_df.select_dtypes(['category']).columns\n",
    "trn_df[cat_columns] = trn_df[cat_columns].apply(lambda x: x.cat.codes)\n",
    "val_df[cat_columns]=val_df[cat_columns].apply(lambda x: x.cat.codes)\n",
    "#trn_y = trn_df['author'].map(author_mapping_dict)\n",
    "#val_y = val_df['author'].map(author_mapping_dict)\n",
    "cols_drop = ['id', 'text']\n",
    "trn_X = trn_df.drop(cols_drop+['author'], axis=1)\n",
    "val_X = val_df.drop(cols_drop+['author'], axis=1)\n",
    "test_X = test_df.drop(cols_drop, axis=1)\n"
   ]
  },
  {
   "cell_type": "code",
   "execution_count": 168,
   "metadata": {},
   "outputs": [
    {
     "name": "stdout",
     "output_type": "stream",
     "text": [
      "[0]\ttrain-mlogloss:1.02017\tvalid-mlogloss:1.02066\n",
      "Multiple eval metrics have been passed: 'valid-mlogloss' will be used for early stopping.\n",
      "\n",
      "Will train until valid-mlogloss hasn't improved in 50 rounds.\n",
      "[40]\ttrain-mlogloss:0.391392\tvalid-mlogloss:0.392224\n",
      "[80]\ttrain-mlogloss:0.342788\tvalid-mlogloss:0.365145\n",
      "[120]\ttrain-mlogloss:0.310454\tvalid-mlogloss:0.356441\n",
      "[160]\ttrain-mlogloss:0.284382\tvalid-mlogloss:0.353372\n",
      "[200]\ttrain-mlogloss:0.262323\tvalid-mlogloss:0.350882\n",
      "[240]\ttrain-mlogloss:0.243158\tvalid-mlogloss:0.349879\n",
      "[280]\ttrain-mlogloss:0.225574\tvalid-mlogloss:0.34853\n",
      "[320]\ttrain-mlogloss:0.209733\tvalid-mlogloss:0.348212\n",
      "[360]\ttrain-mlogloss:0.195576\tvalid-mlogloss:0.347566\n",
      "[400]\ttrain-mlogloss:0.182483\tvalid-mlogloss:0.349175\n",
      "Stopping. Best iteration:\n",
      "[361]\ttrain-mlogloss:0.195288\tvalid-mlogloss:0.347366\n",
      "\n",
      "Modeling RMSLE 0.34737\n",
      "Time taken in training is 215.50324010849.\n"
     ]
    }
   ],
   "source": [
    "Xtr = trn_X.values\n",
    "Xv = val_X.values\n",
    "ytr = trn_df['author']\n",
    "yv = val_df['author']\n",
    "dtrain = xgb.DMatrix(Xtr, label=ytr)\n",
    "dvalid = xgb.DMatrix(Xv, label=yv)\n",
    "dtest = xgb.DMatrix(test_X.values)\n",
    "watchlist = [(dtrain, 'train'), (dvalid, 'valid')]\n",
    "\n",
    "start = time.time()\n",
    "xgb_par = {'min_child_weight': 1, 'eta': 0.1, 'colsample_bytree': 0.7, 'max_depth': 3,\n",
    "            'subsample': 0.8, 'lambda': 2.0, 'nthread': -1, 'silent': 1,\n",
    "            'eval_metric': \"mlogloss\", 'objective': 'multi:softprob', 'num_class': 3}\n",
    "\n",
    "model_1 = xgb.train(xgb_par, dtrain, 1000, watchlist, early_stopping_rounds=50, maximize=False, verbose_eval=40)\n",
    "print('Modeling RMSLE %.5f' % model_1.best_score)\n",
    "end = time.time()\n",
    "print(\"Time taken in training is {}.\".format(end - start))"
   ]
  },
  {
   "cell_type": "code",
   "execution_count": 169,
   "metadata": {},
   "outputs": [],
   "source": [
    "yvalid = model_1.predict(dvalid)\n",
    "ytest = model_1.predict(dtest)"
   ]
  },
  {
   "cell_type": "code",
   "execution_count": 170,
   "metadata": {},
   "outputs": [
    {
     "name": "stdout",
     "output_type": "stream",
     "text": [
      "Test shape OK.\n"
     ]
    },
    {
     "data": {
      "text/html": [
       "<div>\n",
       "<style scoped>\n",
       "    .dataframe tbody tr th:only-of-type {\n",
       "        vertical-align: middle;\n",
       "    }\n",
       "\n",
       "    .dataframe tbody tr th {\n",
       "        vertical-align: top;\n",
       "    }\n",
       "\n",
       "    .dataframe thead th {\n",
       "        text-align: right;\n",
       "    }\n",
       "</style>\n",
       "<table border=\"1\" class=\"dataframe\">\n",
       "  <thead>\n",
       "    <tr style=\"text-align: right;\">\n",
       "      <th></th>\n",
       "      <th>id</th>\n",
       "      <th>EAP_SVD</th>\n",
       "      <th>HPL_SVD</th>\n",
       "      <th>MWS_SVD</th>\n",
       "    </tr>\n",
       "  </thead>\n",
       "  <tbody>\n",
       "    <tr>\n",
       "      <th>0</th>\n",
       "      <td>id02310</td>\n",
       "      <td>0.025535</td>\n",
       "      <td>0.010083</td>\n",
       "      <td>0.964383</td>\n",
       "    </tr>\n",
       "    <tr>\n",
       "      <th>1</th>\n",
       "      <td>id24541</td>\n",
       "      <td>0.996821</td>\n",
       "      <td>0.001741</td>\n",
       "      <td>0.001438</td>\n",
       "    </tr>\n",
       "    <tr>\n",
       "      <th>2</th>\n",
       "      <td>id00134</td>\n",
       "      <td>0.107845</td>\n",
       "      <td>0.889379</td>\n",
       "      <td>0.002776</td>\n",
       "    </tr>\n",
       "    <tr>\n",
       "      <th>3</th>\n",
       "      <td>id27757</td>\n",
       "      <td>0.703773</td>\n",
       "      <td>0.290023</td>\n",
       "      <td>0.006205</td>\n",
       "    </tr>\n",
       "    <tr>\n",
       "      <th>4</th>\n",
       "      <td>id04081</td>\n",
       "      <td>0.853387</td>\n",
       "      <td>0.127297</td>\n",
       "      <td>0.019317</td>\n",
       "    </tr>\n",
       "  </tbody>\n",
       "</table>\n",
       "</div>"
      ],
      "text/plain": [
       "        id   EAP_SVD   HPL_SVD   MWS_SVD\n",
       "0  id02310  0.025535  0.010083  0.964383\n",
       "1  id24541  0.996821  0.001741  0.001438\n",
       "2  id00134  0.107845  0.889379  0.002776\n",
       "3  id27757  0.703773  0.290023  0.006205\n",
       "4  id04081  0.853387  0.127297  0.019317"
      ]
     },
     "execution_count": 170,
     "metadata": {},
     "output_type": "execute_result"
    }
   ],
   "source": [
    "if test_df.shape[0] == ytest.shape[0]:\n",
    "    print('Test shape OK.') \n",
    "test_id = test_df['id'].values\n",
    "out_df = pd.DataFrame(ytest)\n",
    "out_df.columns = ['EAP', 'HPL', 'MWS']\n",
    "out_df.insert(0, 'id', test_id)\n",
    "out_df=out_df.rename(columns={'id':'id','EAP':'EAP_SVD','HPL':'HPL_SVD','MWS':'MWS_SVD'})\n",
    "out_df.head()"
   ]
  },
  {
   "cell_type": "markdown",
   "metadata": {},
   "source": [
    "## <p style=\"text-align: center;\"> 7.0 Markov Model </p> <a id='markov'></a>\n",
    "\n",
    "In probability theory, a Markov model is a stochastic model used to model randomly changing systems where it is assumed that future states depend only on the current state not on the events that occurred before it (that is, it assumes the Markov property). \n",
    "\n",
    "For Markov Models we need a list of Tokens (words) and Keys (unique words). By looking at the distribution of keys we can analyize the frequncy of keys. This helps us assign weight to the keys(more the frequency, more the weight). And since in the markov model future states depend only on the current state not on the events that occurred before it. One way to think about it is you have a window that only shows the current state (or in our case a single token) and then you have to determine what the next token is based on that small window! \n",
    "\n",
    "We generally set the window size depending on the size of the data. If there is a bigger window in a smaller data set it is unlikely that there will be large unique distributions for the possible outcomes from one window therefore it could only recreate the same sentences.\n",
    "\n",
    "\n",
    "[Back to top](#Introduction)\n",
    "\n",
    "We take the famous quote by Dr. Seuss as an example to show how Markov Model works."
   ]
  },
  {
   "cell_type": "markdown",
   "metadata": {},
   "source": [
    "## <p style=\"text-align: center;\"> “One fish two fish red fish blue fish.” </p> "
   ]
  },
  {
   "cell_type": "code",
   "execution_count": 210,
   "metadata": {},
   "outputs": [
    {
     "data": {
      "text/html": [
       "<img src=\"https://cdn-images-1.medium.com/max/1600/1*MbHRwYNA8F29hzes8EPHiQ.gif\"/>"
      ],
      "text/plain": [
       "<IPython.core.display.Image object>"
      ]
     },
     "execution_count": 210,
     "metadata": {},
     "output_type": "execute_result"
    }
   ],
   "source": [
    "Image(url=\"https://cdn-images-1.medium.com/max/1600/1*MbHRwYNA8F29hzes8EPHiQ.gif\")"
   ]
  },
  {
   "cell_type": "code",
   "execution_count": 173,
   "metadata": {},
   "outputs": [
    {
     "name": "stdout",
     "output_type": "stream",
     "text": [
      "15663\n",
      "3916\n",
      "19579\n"
     ]
    },
    {
     "data": {
      "text/html": [
       "<div>\n",
       "<style scoped>\n",
       "    .dataframe tbody tr th:only-of-type {\n",
       "        vertical-align: middle;\n",
       "    }\n",
       "\n",
       "    .dataframe tbody tr th {\n",
       "        vertical-align: top;\n",
       "    }\n",
       "\n",
       "    .dataframe thead th {\n",
       "        text-align: right;\n",
       "    }\n",
       "</style>\n",
       "<table border=\"1\" class=\"dataframe\">\n",
       "  <thead>\n",
       "    <tr style=\"text-align: right;\">\n",
       "      <th></th>\n",
       "      <th>id</th>\n",
       "      <th>text</th>\n",
       "      <th>author</th>\n",
       "      <th>word_count</th>\n",
       "      <th>unique_word_fraction</th>\n",
       "      <th>stopwords_count</th>\n",
       "      <th>punctuations_fraction</th>\n",
       "      <th>char_count</th>\n",
       "      <th>fraction_noun</th>\n",
       "      <th>fraction_adj</th>\n",
       "      <th>...</th>\n",
       "      <th>svd_char_30</th>\n",
       "      <th>svd_char_31</th>\n",
       "      <th>svd_char_32</th>\n",
       "      <th>svd_char_33</th>\n",
       "      <th>svd_char_34</th>\n",
       "      <th>svd_char_35</th>\n",
       "      <th>svd_char_36</th>\n",
       "      <th>svd_char_37</th>\n",
       "      <th>svd_char_38</th>\n",
       "      <th>svd_char_39</th>\n",
       "    </tr>\n",
       "  </thead>\n",
       "  <tbody>\n",
       "    <tr>\n",
       "      <th>0</th>\n",
       "      <td>id26305</td>\n",
       "      <td>This process, however, afforded me no means of...</td>\n",
       "      <td>EAP</td>\n",
       "      <td>41</td>\n",
       "      <td>0.853659</td>\n",
       "      <td>0.487805</td>\n",
       "      <td>0.030303</td>\n",
       "      <td>231</td>\n",
       "      <td>0.243902</td>\n",
       "      <td>0.048780</td>\n",
       "      <td>...</td>\n",
       "      <td>0.009842</td>\n",
       "      <td>0.024318</td>\n",
       "      <td>0.008499</td>\n",
       "      <td>-0.024098</td>\n",
       "      <td>-0.035445</td>\n",
       "      <td>-0.005121</td>\n",
       "      <td>-0.038129</td>\n",
       "      <td>0.038161</td>\n",
       "      <td>0.042066</td>\n",
       "      <td>0.003995</td>\n",
       "    </tr>\n",
       "    <tr>\n",
       "      <th>2</th>\n",
       "      <td>id11008</td>\n",
       "      <td>In his left hand was a gold snuff box, from wh...</td>\n",
       "      <td>EAP</td>\n",
       "      <td>36</td>\n",
       "      <td>0.888889</td>\n",
       "      <td>0.472222</td>\n",
       "      <td>0.025000</td>\n",
       "      <td>200</td>\n",
       "      <td>0.277778</td>\n",
       "      <td>0.138889</td>\n",
       "      <td>...</td>\n",
       "      <td>-0.009090</td>\n",
       "      <td>0.003837</td>\n",
       "      <td>0.015726</td>\n",
       "      <td>0.013425</td>\n",
       "      <td>0.004661</td>\n",
       "      <td>0.014792</td>\n",
       "      <td>0.013078</td>\n",
       "      <td>-0.039694</td>\n",
       "      <td>0.015022</td>\n",
       "      <td>-0.044003</td>\n",
       "    </tr>\n",
       "    <tr>\n",
       "      <th>3</th>\n",
       "      <td>id27763</td>\n",
       "      <td>How lovely is spring As we looked from Windsor...</td>\n",
       "      <td>MWS</td>\n",
       "      <td>34</td>\n",
       "      <td>0.941176</td>\n",
       "      <td>0.382353</td>\n",
       "      <td>0.019417</td>\n",
       "      <td>206</td>\n",
       "      <td>0.294118</td>\n",
       "      <td>0.176471</td>\n",
       "      <td>...</td>\n",
       "      <td>0.010806</td>\n",
       "      <td>0.003364</td>\n",
       "      <td>0.000836</td>\n",
       "      <td>-0.008829</td>\n",
       "      <td>0.024713</td>\n",
       "      <td>0.044003</td>\n",
       "      <td>-0.023093</td>\n",
       "      <td>-0.000404</td>\n",
       "      <td>-0.008078</td>\n",
       "      <td>0.001753</td>\n",
       "    </tr>\n",
       "    <tr>\n",
       "      <th>4</th>\n",
       "      <td>id12958</td>\n",
       "      <td>Finding nothing else, not even gold, the Super...</td>\n",
       "      <td>HPL</td>\n",
       "      <td>27</td>\n",
       "      <td>0.925926</td>\n",
       "      <td>0.407407</td>\n",
       "      <td>0.022989</td>\n",
       "      <td>174</td>\n",
       "      <td>0.222222</td>\n",
       "      <td>0.037037</td>\n",
       "      <td>...</td>\n",
       "      <td>0.027235</td>\n",
       "      <td>-0.018083</td>\n",
       "      <td>0.054464</td>\n",
       "      <td>0.029740</td>\n",
       "      <td>0.021226</td>\n",
       "      <td>0.013636</td>\n",
       "      <td>0.009440</td>\n",
       "      <td>0.008827</td>\n",
       "      <td>-0.044059</td>\n",
       "      <td>0.002839</td>\n",
       "    </tr>\n",
       "    <tr>\n",
       "      <th>6</th>\n",
       "      <td>id09674</td>\n",
       "      <td>The astronomer, perhaps, at this point, took r...</td>\n",
       "      <td>EAP</td>\n",
       "      <td>21</td>\n",
       "      <td>1.000000</td>\n",
       "      <td>0.428571</td>\n",
       "      <td>0.039062</td>\n",
       "      <td>128</td>\n",
       "      <td>0.285714</td>\n",
       "      <td>0.095238</td>\n",
       "      <td>...</td>\n",
       "      <td>0.005744</td>\n",
       "      <td>0.001004</td>\n",
       "      <td>0.013077</td>\n",
       "      <td>0.039769</td>\n",
       "      <td>-0.011742</td>\n",
       "      <td>-0.006310</td>\n",
       "      <td>0.014158</td>\n",
       "      <td>0.018455</td>\n",
       "      <td>-0.036414</td>\n",
       "      <td>-0.009422</td>\n",
       "    </tr>\n",
       "  </tbody>\n",
       "</table>\n",
       "<p>5 rows × 454 columns</p>\n",
       "</div>"
      ],
      "text/plain": [
       "        id                                               text author  \\\n",
       "0  id26305  This process, however, afforded me no means of...    EAP   \n",
       "2  id11008  In his left hand was a gold snuff box, from wh...    EAP   \n",
       "3  id27763  How lovely is spring As we looked from Windsor...    MWS   \n",
       "4  id12958  Finding nothing else, not even gold, the Super...    HPL   \n",
       "6  id09674  The astronomer, perhaps, at this point, took r...    EAP   \n",
       "\n",
       "   word_count  unique_word_fraction  stopwords_count  punctuations_fraction  \\\n",
       "0          41              0.853659         0.487805               0.030303   \n",
       "2          36              0.888889         0.472222               0.025000   \n",
       "3          34              0.941176         0.382353               0.019417   \n",
       "4          27              0.925926         0.407407               0.022989   \n",
       "6          21              1.000000         0.428571               0.039062   \n",
       "\n",
       "   char_count  fraction_noun  fraction_adj  ...  svd_char_30  svd_char_31  \\\n",
       "0         231       0.243902      0.048780  ...     0.009842     0.024318   \n",
       "2         200       0.277778      0.138889  ...    -0.009090     0.003837   \n",
       "3         206       0.294118      0.176471  ...     0.010806     0.003364   \n",
       "4         174       0.222222      0.037037  ...     0.027235    -0.018083   \n",
       "6         128       0.285714      0.095238  ...     0.005744     0.001004   \n",
       "\n",
       "   svd_char_32  svd_char_33  svd_char_34  svd_char_35  svd_char_36  \\\n",
       "0     0.008499    -0.024098    -0.035445    -0.005121    -0.038129   \n",
       "2     0.015726     0.013425     0.004661     0.014792     0.013078   \n",
       "3     0.000836    -0.008829     0.024713     0.044003    -0.023093   \n",
       "4     0.054464     0.029740     0.021226     0.013636     0.009440   \n",
       "6     0.013077     0.039769    -0.011742    -0.006310     0.014158   \n",
       "\n",
       "   svd_char_37  svd_char_38  svd_char_39  \n",
       "0     0.038161     0.042066     0.003995  \n",
       "2    -0.039694     0.015022    -0.044003  \n",
       "3    -0.000404    -0.008078     0.001753  \n",
       "4     0.008827    -0.044059     0.002839  \n",
       "6     0.018455    -0.036414    -0.009422  \n",
       "\n",
       "[5 rows x 454 columns]"
      ]
     },
     "execution_count": 173,
     "metadata": {},
     "output_type": "execute_result"
    }
   ],
   "source": [
    "val_df = train_df.sample(frac=0.2, replace=False)\n",
    "trn_df = train_df.drop(val_df.index)\n",
    "print(trn_df.shape[0])\n",
    "print(val_df.shape[0])\n",
    "print(train_df.shape[0])\n",
    "trn_df.head()"
   ]
  },
  {
   "cell_type": "code",
   "execution_count": 174,
   "metadata": {},
   "outputs": [],
   "source": [
    "import random\n",
    "\n",
    "class Dictogram(dict):\n",
    "    def __init__(self, iterable=None):\n",
    "        \"\"\"Initialize this histogram as a new dict; update with given items\"\"\"\n",
    "        super(Dictogram, self).__init__()\n",
    "        self.types = 0  # the number of distinct item types in this histogram\n",
    "        self.tokens = 0  # the total count of all item tokens in this histogram\n",
    "        if iterable:\n",
    "            self.update(iterable)\n",
    "\n",
    "    def update(self, iterable):\n",
    "        \"\"\"Update this histogram with the items in the given iterable\"\"\"\n",
    "        for item in iterable:\n",
    "            if item in self:\n",
    "                self[item] += 1\n",
    "                self.tokens += 1\n",
    "            else:\n",
    "                self[item] = 1\n",
    "                self.types += 1\n",
    "                self.tokens += 1\n",
    "\n",
    "    def count(self, item):\n",
    "        \"\"\"Return the count of the given item in this histogram, or 0\"\"\"\n",
    "        if item in self:\n",
    "            return self[item]\n",
    "        return 0\n",
    "    \n",
    "    def return_random_word(self):\n",
    "        # Another way:  Should test: random.choice(histogram.keys())\n",
    "        random_key = random.sample(self, 1)\n",
    "        return random_key[0]\n",
    "\n",
    "    def return_weighted_random_word(self):\n",
    "        # Step 1: Generate random number between 0 and total count - 1\n",
    "        random_int = random.randint(0, self.tokens-1)\n",
    "        index = 0\n",
    "        list_of_keys = self.keys()\n",
    "        # print 'the random index is:', random_int\n",
    "        for i in range(0, self.types):\n",
    "            index += self[list_of_keys[i]]\n",
    "            # print index\n",
    "            if(index > random_int):\n",
    "                # print list_of_keys[i]\n",
    "                return list_of_keys[i]"
   ]
  },
  {
   "cell_type": "code",
   "execution_count": 175,
   "metadata": {},
   "outputs": [],
   "source": [
    "# markov chain based features, 3 words memory \n",
    "def make_higher_order_markov_model(order, data):\n",
    "    markov_model = dict()\n",
    "\n",
    "    for i in range(0, len(data)-order):\n",
    "        # Create the window\n",
    "        window = tuple(data[i: i+order])\n",
    "        # Add to the dictionary\n",
    "        if window in markov_model:\n",
    "            # We have to just append to the existing Dictogram\n",
    "            markov_model[window].update([data[i+order]])\n",
    "        else:\n",
    "            markov_model[window] = Dictogram([data[i+order]])\n",
    "    return markov_model"
   ]
  },
  {
   "cell_type": "code",
   "execution_count": 176,
   "metadata": {},
   "outputs": [],
   "source": [
    "#print(trn_df.loc[train_df['author']=='EAP'].shape[0])\n",
    "def tokenixed_list(row):\n",
    "    \"\"\"function to calculate the fraction of unique words on total words of the text\"\"\"\n",
    "    text = row['text']\n",
    "    text_splited = text.split(' ')\n",
    "    text_splited = [''.join(c for c in s if c not in string.punctuation) for s in text_splited]\n",
    "    text_splited = [s for s in text_splited if s]\n",
    "    return (text_splited)\n",
    "trn_df['splited_text'] = trn_df.apply(lambda row: tokenixed_list(row), axis =1)"
   ]
  },
  {
   "cell_type": "code",
   "execution_count": 177,
   "metadata": {},
   "outputs": [],
   "source": [
    "eap = trn_df.loc[trn_df['author']=='EAP']['splited_text'].values\n",
    "flat_eap = []\n",
    "eap_flat = [flat_eap.extend(x) for x in eap]\n",
    "flat_eap.__len__()\n",
    "eap_MM = make_higher_order_markov_model(3, flat_eap)"
   ]
  },
  {
   "cell_type": "code",
   "execution_count": 178,
   "metadata": {},
   "outputs": [],
   "source": [
    "hpl = trn_df.loc[trn_df['author']=='HPL']['splited_text'].values\n",
    "flat_hpl = []\n",
    "hpl_flat = [flat_hpl.extend(x) for x in hpl]\n",
    "flat_hpl.__len__()\n",
    "hpl_MM = make_higher_order_markov_model(3, flat_hpl)"
   ]
  },
  {
   "cell_type": "code",
   "execution_count": 179,
   "metadata": {},
   "outputs": [],
   "source": [
    "ms = trn_df.loc[trn_df['author']=='MWS']['splited_text'].values\n",
    "flat_ms = []\n",
    "ms_flat = [flat_ms.extend(x) for x in ms]\n",
    "flat_ms.__len__()\n",
    "ms_MM = make_higher_order_markov_model(3, flat_ms)"
   ]
  },
  {
   "cell_type": "code",
   "execution_count": 180,
   "metadata": {},
   "outputs": [],
   "source": [
    "#probablity calculation using markov chain\n",
    "#print(eap_MM[('no', 'means', 'of')])\n",
    "#print(sum([x for x in eap_MM[('no', 'means', 'of')].values()]))\n",
    "def spit_out_prob(tupl , word , mm1= eap_MM, mm2 = hpl_MM, mm3 = ms_MM):\n",
    "    \"\"\"function to spit out a prob of a word given a tuple and a word and a markov model\"\"\"\n",
    "    \"\"\"fix this function, its working but not calculating probabilities, but providing\n",
    "    some confidance index, greater than confidance index is, larger is the prob\"\"\"\n",
    "    try:\n",
    "        a = mm1[tupl][word]\n",
    "    except:\n",
    "        a = 0 \n",
    "    try:\n",
    "        b = mm2[tupl][word]\n",
    "    except:\n",
    "        b = 0\n",
    "    try:\n",
    "        c = mm3[tupl][word]\n",
    "    except:\n",
    "        c = 0\n",
    "    try:\n",
    "        prob_word = a/(a+b+c)#(sum([x for x in mm[tupl].values()]))\n",
    "        return (prob_word)\n",
    "    except:\n",
    "        return (0) #earlier it was 1\n",
    "    \n",
    "def make_tupl(sentence =trn_df.loc[train_df['author']=='EAP']['splited_text'][0] , n=3):\n",
    "    \"\"\"function to make tuples of n size given a sentence and n\"\"\"\n",
    "    list_of_tuple = []\n",
    "    word_1 = []\n",
    "    for i in list(range(sentence.__len__()-3)):\n",
    "        tuple_1 = (sentence[i], sentence[i+1], sentence[i+2])\n",
    "        list_of_tuple.append(tuple_1)\n",
    "        word_1.append(sentence[i+3])\n",
    "    return (list_of_tuple, word_1)\n",
    "\n",
    "\n",
    "def sent_to_prob_eap(sentence, mm1 = eap_MM, p_eap =1/3, mm2 = hpl_MM, mm3 = ms_MM):\n",
    "    \"\"\"function to get the markov model to give prob of a author given a sentence \"\"\"\n",
    "    list_of_tuples = make_tupl(sentence, n =3)[0]\n",
    "    words = make_tupl(sentence, n =3)[1]\n",
    "    #print(list_of_tuples, words)\n",
    "    #p = p_eap \n",
    "    p=0\n",
    "    for i in list(range(words.__len__())):\n",
    "        #print(list_of_tuples[i], words[i])\n",
    "        p = p+spit_out_prob(list_of_tuples[i], words[i], mm1 =eap_MM, mm2 =hpl_MM, mm3 =ms_MM)\n",
    "    return(p)\n",
    "\n",
    "def sent_to_prob_hpl(sentence, mm2 = hpl_MM, p_hpl =1/3, mm1 = eap_MM, mm3 = ms_MM):\n",
    "    \"\"\"function to get the markov model to give prob of a author given a sentence \"\"\"\n",
    "    list_of_tuples = make_tupl(sentence, n =3)[0]\n",
    "    words = make_tupl(sentence, n =3)[1]\n",
    "    #print(list_of_tuples, words)\n",
    "    #p = p_hpl \n",
    "    p = 0\n",
    "    for i in list(range(words.__len__())):\n",
    "        #print(list_of_tuples[i], words[i])\n",
    "        p = p+spit_out_prob(list_of_tuples[i], words[i], mm1 =hpl_MM, mm2=eap_MM, mm3=ms_MM)\n",
    "    return(p)\n",
    "\n",
    "def sent_to_prob_ms(sentence, mm3 = ms_MM, p_ms =1/3, mm2 = hpl_MM, mm1 = eap_MM):\n",
    "    \"\"\"function to get the markov model to give prob of a author given a sentence \"\"\"\n",
    "    list_of_tuples = make_tupl(sentence, n =3)[0]\n",
    "    words = make_tupl(sentence, n =3)[1]\n",
    "    #print(list_of_tuples, words)\n",
    "    #p = p_ms \n",
    "    p = 0\n",
    "    for i in list(range(words.__len__())):\n",
    "        #print(list_of_tuples[i], words[i])\n",
    "        p = p+spit_out_prob(list_of_tuples[i], words[i], ms_MM, hpl_MM, eap_MM)\n",
    "    return(p)"
   ]
  },
  {
   "cell_type": "code",
   "execution_count": 181,
   "metadata": {},
   "outputs": [],
   "source": [
    "# calculating markov chain based features\n",
    "trn_df['EAP_markov_3'] = trn_df['splited_text'].apply(lambda row: sent_to_prob_eap(sentence =row))\n",
    "trn_df['HPL_markov_3'] = trn_df['splited_text'].apply(lambda row: sent_to_prob_hpl(sentence = row))\n",
    "trn_df['MWS_markov_3'] = trn_df['splited_text'].apply(lambda row: sent_to_prob_ms(sentence = row))\n",
    "trn_df[['MWS_markov_3', 'EAP_markov_3', 'HPL_markov_3', 'author']].head()\n",
    "del trn_df['splited_text']"
   ]
  },
  {
   "cell_type": "code",
   "execution_count": 182,
   "metadata": {},
   "outputs": [],
   "source": [
    "val_df['splited_text'] = val_df.apply(lambda row: tokenixed_list(row), axis =1)\n",
    "val_df['EAP_markov_3'] = val_df['splited_text'].apply(lambda row: sent_to_prob_eap(sentence =row))\n",
    "val_df['HPL_markov_3'] = val_df['splited_text'].apply(lambda row: sent_to_prob_hpl(sentence = row))\n",
    "val_df['MWS_markov_3'] = val_df['splited_text'].apply(lambda row: sent_to_prob_ms(sentence = row))\n",
    "val_df1 = val_df[['MWS_markov_3', 'EAP_markov_3', 'HPL_markov_3','author']].copy()\n",
    "del val_df['splited_text']"
   ]
  },
  {
   "cell_type": "code",
   "execution_count": 183,
   "metadata": {},
   "outputs": [],
   "source": [
    "test_df['splited_text'] = test_df.apply(lambda row: tokenixed_list(row), axis =1)\n",
    "test_df['EAP_markov_3'] = test_df['splited_text'].apply(lambda row: sent_to_prob_eap(sentence =row))\n",
    "test_df['HPL_markov_3'] = test_df['splited_text'].apply(lambda row: sent_to_prob_hpl(sentence = row))\n",
    "test_df['MWS_markov_3'] = test_df['splited_text'].apply(lambda row: sent_to_prob_ms(sentence = row))\n",
    "test_df1 = test_df[['MWS_markov_3', 'EAP_markov_3', 'HPL_markov_3']].copy()\n",
    "del test_df['splited_text']\n",
    "\n"
   ]
  },
  {
   "cell_type": "markdown",
   "metadata": {},
   "source": [
    "### Linear Combination"
   ]
  },
  {
   "cell_type": "code",
   "execution_count": 184,
   "metadata": {},
   "outputs": [],
   "source": [
    "author_mapping_dict = {'EAP':0, 'HPL':1, 'MWS':2}\n",
    "trn_y = trn_df['author'].map(author_mapping_dict)\n",
    "val_y = val_df['author'].map(author_mapping_dict)\n",
    "cols_drop = ['id', 'text','MWS_markov_3', 'EAP_markov_3', 'HPL_markov_3']\n",
    "trn_X = trn_df.drop(cols_drop+['author'], axis=1)\n",
    "val_X = val_df.drop(cols_drop+['author'], axis=1)\n",
    "test_X = test_df.drop(cols_drop, axis=1)"
   ]
  },
  {
   "cell_type": "code",
   "execution_count": 185,
   "metadata": {},
   "outputs": [
    {
     "name": "stdout",
     "output_type": "stream",
     "text": [
      "----------------------------------------------------\n",
      "shape of train val is 451 and 451, test is 451\n",
      "----------------------------------------------------\n"
     ]
    }
   ],
   "source": [
    "print(52*'-')\n",
    "print(\"shape of train val is {} and {}, test is {}\".format(trn_X.shape[1], val_X.shape[1], test_X.shape[1]))\n",
    "print(52*'-')"
   ]
  },
  {
   "cell_type": "code",
   "execution_count": 186,
   "metadata": {},
   "outputs": [
    {
     "name": "stdout",
     "output_type": "stream",
     "text": [
      "[0]\ttrain-mlogloss:1.0204\tvalid-mlogloss:1.02005\n",
      "Multiple eval metrics have been passed: 'valid-mlogloss' will be used for early stopping.\n",
      "\n",
      "Will train until valid-mlogloss hasn't improved in 50 rounds.\n",
      "[40]\ttrain-mlogloss:0.388708\tvalid-mlogloss:0.401071\n",
      "[80]\ttrain-mlogloss:0.340937\tvalid-mlogloss:0.374597\n",
      "[120]\ttrain-mlogloss:0.308239\tvalid-mlogloss:0.365409\n",
      "[160]\ttrain-mlogloss:0.282701\tvalid-mlogloss:0.361905\n",
      "[200]\ttrain-mlogloss:0.261119\tvalid-mlogloss:0.358494\n",
      "[240]\ttrain-mlogloss:0.241878\tvalid-mlogloss:0.356414\n",
      "[280]\ttrain-mlogloss:0.224201\tvalid-mlogloss:0.354997\n",
      "[320]\ttrain-mlogloss:0.208545\tvalid-mlogloss:0.35452\n",
      "[360]\ttrain-mlogloss:0.194754\tvalid-mlogloss:0.353516\n",
      "[400]\ttrain-mlogloss:0.181922\tvalid-mlogloss:0.353458\n",
      "[440]\ttrain-mlogloss:0.169373\tvalid-mlogloss:0.35341\n",
      "[480]\ttrain-mlogloss:0.158193\tvalid-mlogloss:0.353719\n",
      "Stopping. Best iteration:\n",
      "[433]\ttrain-mlogloss:0.171381\tvalid-mlogloss:0.352892\n",
      "\n",
      "Modeling RMSLE 0.35289\n",
      "Time taken in training is 246.354816198349.\n"
     ]
    }
   ],
   "source": [
    "Xtr = trn_X.values\n",
    "Xv = val_X.values\n",
    "ytr = trn_y\n",
    "yv = val_y\n",
    "dtrain = xgb.DMatrix(Xtr, label=ytr)\n",
    "dvalid = xgb.DMatrix(Xv, label=yv)\n",
    "dtest = xgb.DMatrix(test_X.values)\n",
    "watchlist = [(dtrain, 'train'), (dvalid, 'valid')]\n",
    "\n",
    "start = time.time()\n",
    "xgb_par = {'min_child_weight': 1, 'eta': 0.1, 'colsample_bytree': 0.7, 'max_depth': 3,\n",
    "            'subsample': 0.8, 'lambda': 2.0, 'nthread': -1, 'silent': 1,\n",
    "            'eval_metric': \"mlogloss\", 'objective': 'multi:softprob', 'num_class': 3}\n",
    "\n",
    "model_1 = xgb.train(xgb_par, dtrain, 1000, watchlist, early_stopping_rounds=50, maximize=False, verbose_eval=40)\n",
    "print('Modeling RMSLE %.5f' % model_1.best_score)\n",
    "end = time.time()\n",
    "print(\"Time taken in training is {}.\".format(end - start))"
   ]
  },
  {
   "cell_type": "code",
   "execution_count": 187,
   "metadata": {},
   "outputs": [
    {
     "name": "stdout",
     "output_type": "stream",
     "text": [
      "(8392, 451) (15663, 451)\n"
     ]
    }
   ],
   "source": [
    "print(test_X.shape, trn_X.shape)"
   ]
  },
  {
   "cell_type": "code",
   "execution_count": 188,
   "metadata": {},
   "outputs": [
    {
     "name": "stdout",
     "output_type": "stream",
     "text": [
      "Time taken in prediction is 0.3911306858062744.\n"
     ]
    }
   ],
   "source": [
    "start = time.time()\n",
    "yvalid = model_1.predict(dvalid)\n",
    "ytest = model_1.predict(dtest)\n",
    "end = time.time()\n",
    "print(\"Time taken in prediction is {}.\".format(end - start))"
   ]
  },
  {
   "cell_type": "code",
   "execution_count": 189,
   "metadata": {},
   "outputs": [
    {
     "data": {
      "text/html": [
       "<div>\n",
       "<style scoped>\n",
       "    .dataframe tbody tr th:only-of-type {\n",
       "        vertical-align: middle;\n",
       "    }\n",
       "\n",
       "    .dataframe tbody tr th {\n",
       "        vertical-align: top;\n",
       "    }\n",
       "\n",
       "    .dataframe thead th {\n",
       "        text-align: right;\n",
       "    }\n",
       "</style>\n",
       "<table border=\"1\" class=\"dataframe\">\n",
       "  <thead>\n",
       "    <tr style=\"text-align: right;\">\n",
       "      <th></th>\n",
       "      <th>MWS_markov_3</th>\n",
       "      <th>EAP_markov_3</th>\n",
       "      <th>HPL_markov_3</th>\n",
       "      <th>author</th>\n",
       "    </tr>\n",
       "  </thead>\n",
       "  <tbody>\n",
       "    <tr>\n",
       "      <th>0</th>\n",
       "      <td>1.0</td>\n",
       "      <td>1.0</td>\n",
       "      <td>0.0</td>\n",
       "      <td>EAP</td>\n",
       "    </tr>\n",
       "    <tr>\n",
       "      <th>1</th>\n",
       "      <td>0.0</td>\n",
       "      <td>3.0</td>\n",
       "      <td>0.0</td>\n",
       "      <td>EAP</td>\n",
       "    </tr>\n",
       "    <tr>\n",
       "      <th>2</th>\n",
       "      <td>0.0</td>\n",
       "      <td>0.0</td>\n",
       "      <td>0.0</td>\n",
       "      <td>EAP</td>\n",
       "    </tr>\n",
       "    <tr>\n",
       "      <th>3</th>\n",
       "      <td>0.0</td>\n",
       "      <td>0.0</td>\n",
       "      <td>0.0</td>\n",
       "      <td>MWS</td>\n",
       "    </tr>\n",
       "    <tr>\n",
       "      <th>4</th>\n",
       "      <td>4.0</td>\n",
       "      <td>1.0</td>\n",
       "      <td>0.0</td>\n",
       "      <td>MWS</td>\n",
       "    </tr>\n",
       "  </tbody>\n",
       "</table>\n",
       "</div>"
      ],
      "text/plain": [
       "   MWS_markov_3  EAP_markov_3  HPL_markov_3 author\n",
       "0           1.0           1.0           0.0    EAP\n",
       "1           0.0           3.0           0.0    EAP\n",
       "2           0.0           0.0           0.0    EAP\n",
       "3           0.0           0.0           0.0    MWS\n",
       "4           4.0           1.0           0.0    MWS"
      ]
     },
     "execution_count": 189,
     "metadata": {},
     "output_type": "execute_result"
    }
   ],
   "source": [
    "val_df1.head()\n",
    "val_df2 = pd.DataFrame(yvalid)\n",
    "val_df2.head()\n",
    "val_df2.columns = ['EAP', 'HPL', 'MWS']\n",
    "val_df2.head()\n",
    "val_df1.reset_index(inplace = True, drop =True)\n",
    "val_df1.head()"
   ]
  },
  {
   "cell_type": "code",
   "execution_count": 190,
   "metadata": {},
   "outputs": [
    {
     "data": {
      "text/html": [
       "<div>\n",
       "<style scoped>\n",
       "    .dataframe tbody tr th:only-of-type {\n",
       "        vertical-align: middle;\n",
       "    }\n",
       "\n",
       "    .dataframe tbody tr th {\n",
       "        vertical-align: top;\n",
       "    }\n",
       "\n",
       "    .dataframe thead th {\n",
       "        text-align: right;\n",
       "    }\n",
       "</style>\n",
       "<table border=\"1\" class=\"dataframe\">\n",
       "  <thead>\n",
       "    <tr style=\"text-align: right;\">\n",
       "      <th></th>\n",
       "      <th>MWS_markov_3</th>\n",
       "      <th>EAP_markov_3</th>\n",
       "      <th>HPL_markov_3</th>\n",
       "      <th>author</th>\n",
       "      <th>EAP</th>\n",
       "      <th>HPL</th>\n",
       "      <th>MWS</th>\n",
       "      <th>EAP_SVD</th>\n",
       "      <th>HPL_SVD</th>\n",
       "      <th>MWS_SVD</th>\n",
       "    </tr>\n",
       "  </thead>\n",
       "  <tbody>\n",
       "    <tr>\n",
       "      <th>0</th>\n",
       "      <td>1.0</td>\n",
       "      <td>1.0</td>\n",
       "      <td>0.0</td>\n",
       "      <td>EAP</td>\n",
       "      <td>0.995662</td>\n",
       "      <td>0.001218</td>\n",
       "      <td>0.003120</td>\n",
       "      <td>0.025535</td>\n",
       "      <td>0.010083</td>\n",
       "      <td>0.964383</td>\n",
       "    </tr>\n",
       "    <tr>\n",
       "      <th>1</th>\n",
       "      <td>0.0</td>\n",
       "      <td>3.0</td>\n",
       "      <td>0.0</td>\n",
       "      <td>EAP</td>\n",
       "      <td>0.998470</td>\n",
       "      <td>0.000624</td>\n",
       "      <td>0.000906</td>\n",
       "      <td>0.996821</td>\n",
       "      <td>0.001741</td>\n",
       "      <td>0.001438</td>\n",
       "    </tr>\n",
       "    <tr>\n",
       "      <th>2</th>\n",
       "      <td>0.0</td>\n",
       "      <td>0.0</td>\n",
       "      <td>0.0</td>\n",
       "      <td>EAP</td>\n",
       "      <td>0.737929</td>\n",
       "      <td>0.093503</td>\n",
       "      <td>0.168568</td>\n",
       "      <td>0.107845</td>\n",
       "      <td>0.889379</td>\n",
       "      <td>0.002776</td>\n",
       "    </tr>\n",
       "    <tr>\n",
       "      <th>3</th>\n",
       "      <td>0.0</td>\n",
       "      <td>0.0</td>\n",
       "      <td>0.0</td>\n",
       "      <td>MWS</td>\n",
       "      <td>0.010767</td>\n",
       "      <td>0.002585</td>\n",
       "      <td>0.986648</td>\n",
       "      <td>0.703773</td>\n",
       "      <td>0.290023</td>\n",
       "      <td>0.006205</td>\n",
       "    </tr>\n",
       "    <tr>\n",
       "      <th>4</th>\n",
       "      <td>4.0</td>\n",
       "      <td>1.0</td>\n",
       "      <td>0.0</td>\n",
       "      <td>MWS</td>\n",
       "      <td>0.001528</td>\n",
       "      <td>0.000698</td>\n",
       "      <td>0.997773</td>\n",
       "      <td>0.853387</td>\n",
       "      <td>0.127297</td>\n",
       "      <td>0.019317</td>\n",
       "    </tr>\n",
       "  </tbody>\n",
       "</table>\n",
       "</div>"
      ],
      "text/plain": [
       "   MWS_markov_3  EAP_markov_3  HPL_markov_3 author       EAP       HPL  \\\n",
       "0           1.0           1.0           0.0    EAP  0.995662  0.001218   \n",
       "1           0.0           3.0           0.0    EAP  0.998470  0.000624   \n",
       "2           0.0           0.0           0.0    EAP  0.737929  0.093503   \n",
       "3           0.0           0.0           0.0    MWS  0.010767  0.002585   \n",
       "4           4.0           1.0           0.0    MWS  0.001528  0.000698   \n",
       "\n",
       "        MWS   EAP_SVD   HPL_SVD   MWS_SVD  \n",
       "0  0.003120  0.025535  0.010083  0.964383  \n",
       "1  0.000906  0.996821  0.001741  0.001438  \n",
       "2  0.168568  0.107845  0.889379  0.002776  \n",
       "3  0.986648  0.703773  0.290023  0.006205  \n",
       "4  0.997773  0.853387  0.127297  0.019317  "
      ]
     },
     "execution_count": 190,
     "metadata": {},
     "output_type": "execute_result"
    }
   ],
   "source": [
    "test_df2 = out_df[['EAP_SVD','HPL_SVD', 'MWS_SVD']]\n",
    "val1 = pd.concat([val_df1, val_df2,test_df2], axis =1)\n",
    "val = pd.concat([val_df1, val_df2], axis =1)\n",
    "val1.head()"
   ]
  },
  {
   "cell_type": "code",
   "execution_count": 191,
   "metadata": {},
   "outputs": [
    {
     "name": "stdout",
     "output_type": "stream",
     "text": [
      "Test shape OK.\n",
      "Time taken in training is 0.004987478256225586.\n"
     ]
    }
   ],
   "source": [
    "start = time.time()\n",
    "if test_df.shape[0] == ytest.shape[0]:\n",
    "    print('Test shape OK.') \n",
    "test_id = test_df['id'].values\n",
    "out_df_ = pd.DataFrame(ytest)\n",
    "out_df_.columns = ['EAP', 'HPL', 'MWS']\n",
    "out_df_.insert(0, 'id', test_id)\n",
    "#out_df.to_csv(\"Rushabh_xgb_test.csv\", index=False)\n",
    "end = time.time()\n",
    "print(\"Time taken in training is {}.\".format(end - start))"
   ]
  },
  {
   "cell_type": "code",
   "execution_count": 201,
   "metadata": {},
   "outputs": [
    {
     "data": {
      "text/html": [
       "<div>\n",
       "<style scoped>\n",
       "    .dataframe tbody tr th:only-of-type {\n",
       "        vertical-align: middle;\n",
       "    }\n",
       "\n",
       "    .dataframe tbody tr th {\n",
       "        vertical-align: top;\n",
       "    }\n",
       "\n",
       "    .dataframe thead th {\n",
       "        text-align: right;\n",
       "    }\n",
       "</style>\n",
       "<table border=\"1\" class=\"dataframe\">\n",
       "  <thead>\n",
       "    <tr style=\"text-align: right;\">\n",
       "      <th></th>\n",
       "      <th>MWS_markov_3</th>\n",
       "      <th>EAP_markov_3</th>\n",
       "      <th>HPL_markov_3</th>\n",
       "      <th>EAP</th>\n",
       "      <th>HPL</th>\n",
       "      <th>MWS</th>\n",
       "    </tr>\n",
       "  </thead>\n",
       "  <tbody>\n",
       "    <tr>\n",
       "      <th>0</th>\n",
       "      <td>0.0</td>\n",
       "      <td>1.000000</td>\n",
       "      <td>0.000000</td>\n",
       "      <td>0.025010</td>\n",
       "      <td>0.014188</td>\n",
       "      <td>0.960801</td>\n",
       "    </tr>\n",
       "    <tr>\n",
       "      <th>1</th>\n",
       "      <td>0.0</td>\n",
       "      <td>3.666667</td>\n",
       "      <td>0.333333</td>\n",
       "      <td>0.998179</td>\n",
       "      <td>0.000851</td>\n",
       "      <td>0.000970</td>\n",
       "    </tr>\n",
       "    <tr>\n",
       "      <th>2</th>\n",
       "      <td>0.0</td>\n",
       "      <td>0.000000</td>\n",
       "      <td>0.000000</td>\n",
       "      <td>0.049182</td>\n",
       "      <td>0.949177</td>\n",
       "      <td>0.001640</td>\n",
       "    </tr>\n",
       "    <tr>\n",
       "      <th>3</th>\n",
       "      <td>0.0</td>\n",
       "      <td>3.000000</td>\n",
       "      <td>1.000000</td>\n",
       "      <td>0.704488</td>\n",
       "      <td>0.289901</td>\n",
       "      <td>0.005611</td>\n",
       "    </tr>\n",
       "    <tr>\n",
       "      <th>4</th>\n",
       "      <td>0.0</td>\n",
       "      <td>1.000000</td>\n",
       "      <td>0.000000</td>\n",
       "      <td>0.925489</td>\n",
       "      <td>0.060994</td>\n",
       "      <td>0.013517</td>\n",
       "    </tr>\n",
       "  </tbody>\n",
       "</table>\n",
       "</div>"
      ],
      "text/plain": [
       "   MWS_markov_3  EAP_markov_3  HPL_markov_3       EAP       HPL       MWS\n",
       "0           0.0      1.000000      0.000000  0.025010  0.014188  0.960801\n",
       "1           0.0      3.666667      0.333333  0.998179  0.000851  0.000970\n",
       "2           0.0      0.000000      0.000000  0.049182  0.949177  0.001640\n",
       "3           0.0      3.000000      1.000000  0.704488  0.289901  0.005611\n",
       "4           0.0      1.000000      0.000000  0.925489  0.060994  0.013517"
      ]
     },
     "execution_count": 201,
     "metadata": {},
     "output_type": "execute_result"
    }
   ],
   "source": [
    "## Let's submit and see where we stand on LB \n",
    "out_df.head()\n",
    "test_df2 = out_df[['EAP_SVD','HPL_SVD', 'MWS_SVD']]\n",
    "test_df3=out_df_[['EAP','HPL', 'MWS']]\n",
    "test_df2.head()\n",
    "test_df1.head()\n",
    "t = pd.concat([test_df1, test_df3], axis =1)\n",
    "y= pd.concat([test_df1, test_df2,test_df3], axis =1)\n",
    "t.head()"
   ]
  },
  {
   "cell_type": "code",
   "execution_count": 203,
   "metadata": {},
   "outputs": [
    {
     "data": {
      "text/html": [
       "<div>\n",
       "<style scoped>\n",
       "    .dataframe tbody tr th:only-of-type {\n",
       "        vertical-align: middle;\n",
       "    }\n",
       "\n",
       "    .dataframe tbody tr th {\n",
       "        vertical-align: top;\n",
       "    }\n",
       "\n",
       "    .dataframe thead th {\n",
       "        text-align: right;\n",
       "    }\n",
       "</style>\n",
       "<table border=\"1\" class=\"dataframe\">\n",
       "  <thead>\n",
       "    <tr style=\"text-align: right;\">\n",
       "      <th></th>\n",
       "      <th>MWS_markov_3</th>\n",
       "      <th>EAP_markov_3</th>\n",
       "      <th>HPL_markov_3</th>\n",
       "      <th>author</th>\n",
       "      <th>EAP</th>\n",
       "      <th>HPL</th>\n",
       "      <th>MWS</th>\n",
       "    </tr>\n",
       "  </thead>\n",
       "  <tbody>\n",
       "    <tr>\n",
       "      <th>0</th>\n",
       "      <td>1.0</td>\n",
       "      <td>1.0</td>\n",
       "      <td>0.0</td>\n",
       "      <td>EAP</td>\n",
       "      <td>0.995662</td>\n",
       "      <td>0.001218</td>\n",
       "      <td>0.003120</td>\n",
       "    </tr>\n",
       "    <tr>\n",
       "      <th>1</th>\n",
       "      <td>0.0</td>\n",
       "      <td>3.0</td>\n",
       "      <td>0.0</td>\n",
       "      <td>EAP</td>\n",
       "      <td>0.998470</td>\n",
       "      <td>0.000624</td>\n",
       "      <td>0.000906</td>\n",
       "    </tr>\n",
       "    <tr>\n",
       "      <th>2</th>\n",
       "      <td>0.0</td>\n",
       "      <td>0.0</td>\n",
       "      <td>0.0</td>\n",
       "      <td>EAP</td>\n",
       "      <td>0.737929</td>\n",
       "      <td>0.093503</td>\n",
       "      <td>0.168568</td>\n",
       "    </tr>\n",
       "    <tr>\n",
       "      <th>3</th>\n",
       "      <td>0.0</td>\n",
       "      <td>0.0</td>\n",
       "      <td>0.0</td>\n",
       "      <td>MWS</td>\n",
       "      <td>0.010767</td>\n",
       "      <td>0.002585</td>\n",
       "      <td>0.986648</td>\n",
       "    </tr>\n",
       "    <tr>\n",
       "      <th>4</th>\n",
       "      <td>4.0</td>\n",
       "      <td>1.0</td>\n",
       "      <td>0.0</td>\n",
       "      <td>MWS</td>\n",
       "      <td>0.001528</td>\n",
       "      <td>0.000698</td>\n",
       "      <td>0.997773</td>\n",
       "    </tr>\n",
       "  </tbody>\n",
       "</table>\n",
       "</div>"
      ],
      "text/plain": [
       "   MWS_markov_3  EAP_markov_3  HPL_markov_3 author       EAP       HPL  \\\n",
       "0           1.0           1.0           0.0    EAP  0.995662  0.001218   \n",
       "1           0.0           3.0           0.0    EAP  0.998470  0.000624   \n",
       "2           0.0           0.0           0.0    EAP  0.737929  0.093503   \n",
       "3           0.0           0.0           0.0    MWS  0.010767  0.002585   \n",
       "4           4.0           1.0           0.0    MWS  0.001528  0.000698   \n",
       "\n",
       "        MWS  \n",
       "0  0.003120  \n",
       "1  0.000906  \n",
       "2  0.168568  \n",
       "3  0.986648  \n",
       "4  0.997773  "
      ]
     },
     "execution_count": 203,
     "metadata": {},
     "output_type": "execute_result"
    }
   ],
   "source": [
    "val.head()"
   ]
  },
  {
   "cell_type": "code",
   "execution_count": 204,
   "metadata": {},
   "outputs": [
    {
     "name": "stdout",
     "output_type": "stream",
     "text": [
      "[0]\ttrain-mlogloss:0.998835\n",
      "Will train until train-mlogloss hasn't improved in 50 rounds.\n",
      "[100]\ttrain-mlogloss:0.295544\n",
      "[200]\ttrain-mlogloss:0.258589\n",
      "[300]\ttrain-mlogloss:0.230879\n",
      "[400]\ttrain-mlogloss:0.208527\n",
      "[500]\ttrain-mlogloss:0.190106\n",
      "[600]\ttrain-mlogloss:0.173505\n",
      "[700]\ttrain-mlogloss:0.159602\n",
      "[800]\ttrain-mlogloss:0.14738\n",
      "[900]\ttrain-mlogloss:0.136279\n",
      "[1000]\ttrain-mlogloss:0.125832\n",
      "[1100]\ttrain-mlogloss:0.116989\n",
      "[1200]\ttrain-mlogloss:0.109075\n",
      "[1300]\ttrain-mlogloss:0.101706\n",
      "[1400]\ttrain-mlogloss:0.094855\n",
      "[1500]\ttrain-mlogloss:0.088909\n",
      "[1600]\ttrain-mlogloss:0.083181\n",
      "[1700]\ttrain-mlogloss:0.078172\n",
      "[1800]\ttrain-mlogloss:0.073508\n",
      "[1900]\ttrain-mlogloss:0.069143\n",
      "[1999]\ttrain-mlogloss:0.065273\n",
      "Modeling RMSLE 0.06527\n",
      "Time taken in training is 7.078071594238281.\n"
     ]
    }
   ],
   "source": [
    "# linear combination \n",
    "author_mapping_dict = {'EAP':0, 'HPL':1, 'MWS':2}\n",
    "trn_y = val_df['author'].map(author_mapping_dict)\n",
    "import xgboost as xgb\n",
    "from sklearn.model_selection import train_test_split\n",
    "Xtr = val[['MWS_markov_3','EAP_markov_3','HPL_markov_3','EAP','HPL','MWS']].values\n",
    "ytr = trn_y\n",
    "dtrain = xgb.DMatrix(Xtr, label=ytr)\n",
    "#dvalid = xgb.DMatrix(Xv, label=yv)\n",
    "dtest = xgb.DMatrix(t.values)\n",
    "watchlist = [(dtrain, 'train')]\n",
    "\n",
    "start = time.time()\n",
    "xgb_par = {'min_child_weight': 1, 'eta': 0.1, 'colsample_bytree': 0.7, 'max_depth': 3,\n",
    "            'subsample': 0.8, 'lambda': 2.0, 'nthread': -1, 'silent': 1,\n",
    "            'eval_metric': \"mlogloss\", 'objective': 'multi:softprob', 'num_class': 3}\n",
    "\n",
    "model_2 = xgb.train(xgb_par, dtrain, 2000, watchlist, early_stopping_rounds=50, maximize=False, verbose_eval=100)\n",
    "print('Modeling RMSLE %.5f' % model_2.best_score)\n",
    "end = time.time()\n",
    "print(\"Time taken in training is {}.\".format(end - start))"
   ]
  },
  {
   "cell_type": "code",
   "execution_count": 211,
   "metadata": {},
   "outputs": [
    {
     "data": {
      "text/html": [
       "<img src=\"https://thumbs.gfycat.com/RaggedAbleBluegill-small.gif\"/>"
      ],
      "text/plain": [
       "<IPython.core.display.Image object>"
      ]
     },
     "execution_count": 211,
     "metadata": {},
     "output_type": "execute_result"
    }
   ],
   "source": [
    "Image(url= \"https://thumbs.gfycat.com/RaggedAbleBluegill-small.gif\")"
   ]
  },
  {
   "cell_type": "markdown",
   "metadata": {},
   "source": [
    "# <p style=\"text-align: center;\">9.0 H2O<p><a id='h2o'></a>\n",
    "H2O is a Java-based software for data modeling and general computing. The goal of H2O is to allow simple horizontal scaling to a given problem in order to produce a solution faster. \n",
    "    \n",
    "After one prepares the dataset for modeling by defining significant data and removing insignificant data, H2O is used to create a model representing the results of the data analysis. \n",
    "H2O gives a list of algorithms that give the best result for the given dataset.\n",
    "    \n",
    "[Back to top](#Introduction)"
   ]
  },
  {
   "cell_type": "markdown",
   "metadata": {},
   "source": [
    "## 9.1 Initializing h2o <a id='initializing_h2o'></a>"
   ]
  },
  {
   "cell_type": "code",
   "execution_count": 223,
   "metadata": {},
   "outputs": [
    {
     "name": "stdout",
     "output_type": "stream",
     "text": [
      "Checking whether there is an H2O instance running at http://localhost:54321..... not found.\n",
      "Attempting to start a local H2O server...\n",
      "; Java HotSpot(TM) 64-Bit Server VM (build 25.201-b09, mixed mode)\n",
      "  Starting server from C:\\Users\\Rushabh\\Anaconda3\\lib\\site-packages\\h2o\\backend\\bin\\h2o.jar\n",
      "  Ice root: C:\\Users\\Rushabh\\AppData\\Local\\Temp\\tmpgj2w3dhy\n",
      "  JVM stdout: C:\\Users\\Rushabh\\AppData\\Local\\Temp\\tmpgj2w3dhy\\h2o_Rushabh_started_from_python.out\n",
      "  JVM stderr: C:\\Users\\Rushabh\\AppData\\Local\\Temp\\tmpgj2w3dhy\\h2o_Rushabh_started_from_python.err\n",
      "  Server is running at http://127.0.0.1:54321\n",
      "Connecting to H2O server at http://127.0.0.1:54321... successful.\n"
     ]
    },
    {
     "data": {
      "text/html": [
       "<div style=\"overflow:auto\"><table style=\"width:50%\"><tr><td>H2O cluster uptime:</td>\n",
       "<td>02 secs</td></tr>\n",
       "<tr><td>H2O cluster timezone:</td>\n",
       "<td>America/New_York</td></tr>\n",
       "<tr><td>H2O data parsing timezone:</td>\n",
       "<td>UTC</td></tr>\n",
       "<tr><td>H2O cluster version:</td>\n",
       "<td>3.22.1.2</td></tr>\n",
       "<tr><td>H2O cluster version age:</td>\n",
       "<td>2 months and 15 days </td></tr>\n",
       "<tr><td>H2O cluster name:</td>\n",
       "<td>H2O_from_python_Rushabh_avdpfw</td></tr>\n",
       "<tr><td>H2O cluster total nodes:</td>\n",
       "<td>1</td></tr>\n",
       "<tr><td>H2O cluster free memory:</td>\n",
       "<td>3.521 Gb</td></tr>\n",
       "<tr><td>H2O cluster total cores:</td>\n",
       "<td>8</td></tr>\n",
       "<tr><td>H2O cluster allowed cores:</td>\n",
       "<td>8</td></tr>\n",
       "<tr><td>H2O cluster status:</td>\n",
       "<td>accepting new members, healthy</td></tr>\n",
       "<tr><td>H2O connection url:</td>\n",
       "<td>http://127.0.0.1:54321</td></tr>\n",
       "<tr><td>H2O connection proxy:</td>\n",
       "<td>None</td></tr>\n",
       "<tr><td>H2O internal security:</td>\n",
       "<td>False</td></tr>\n",
       "<tr><td>H2O API Extensions:</td>\n",
       "<td>Algos, AutoML, Core V3, Core V4</td></tr>\n",
       "<tr><td>Python version:</td>\n",
       "<td>3.6.8 final</td></tr></table></div>"
      ],
      "text/plain": [
       "--------------------------  -------------------------------\n",
       "H2O cluster uptime:         02 secs\n",
       "H2O cluster timezone:       America/New_York\n",
       "H2O data parsing timezone:  UTC\n",
       "H2O cluster version:        3.22.1.2\n",
       "H2O cluster version age:    2 months and 15 days\n",
       "H2O cluster name:           H2O_from_python_Rushabh_avdpfw\n",
       "H2O cluster total nodes:    1\n",
       "H2O cluster free memory:    3.521 Gb\n",
       "H2O cluster total cores:    8\n",
       "H2O cluster allowed cores:  8\n",
       "H2O cluster status:         accepting new members, healthy\n",
       "H2O connection url:         http://127.0.0.1:54321\n",
       "H2O connection proxy:\n",
       "H2O internal security:      False\n",
       "H2O API Extensions:         Algos, AutoML, Core V3, Core V4\n",
       "Python version:             3.6.8 final\n",
       "--------------------------  -------------------------------"
      ]
     },
     "metadata": {},
     "output_type": "display_data"
    }
   ],
   "source": [
    "h2o.init()"
   ]
  },
  {
   "cell_type": "markdown",
   "metadata": {},
   "source": [
    "## 9.2 Connecting h2o<a id='connecting_h2o'></a>"
   ]
  },
  {
   "cell_type": "code",
   "execution_count": 224,
   "metadata": {},
   "outputs": [
    {
     "name": "stdout",
     "output_type": "stream",
     "text": [
      "Connecting to H2O server at http://localhost:54321... successful.\n"
     ]
    },
    {
     "data": {
      "text/html": [
       "<div style=\"overflow:auto\"><table style=\"width:50%\"><tr><td>H2O cluster uptime:</td>\n",
       "<td>11 secs</td></tr>\n",
       "<tr><td>H2O cluster timezone:</td>\n",
       "<td>America/New_York</td></tr>\n",
       "<tr><td>H2O data parsing timezone:</td>\n",
       "<td>UTC</td></tr>\n",
       "<tr><td>H2O cluster version:</td>\n",
       "<td>3.22.1.2</td></tr>\n",
       "<tr><td>H2O cluster version age:</td>\n",
       "<td>2 months and 15 days </td></tr>\n",
       "<tr><td>H2O cluster name:</td>\n",
       "<td>H2O_from_python_Rushabh_avdpfw</td></tr>\n",
       "<tr><td>H2O cluster total nodes:</td>\n",
       "<td>1</td></tr>\n",
       "<tr><td>H2O cluster free memory:</td>\n",
       "<td>3.510 Gb</td></tr>\n",
       "<tr><td>H2O cluster total cores:</td>\n",
       "<td>8</td></tr>\n",
       "<tr><td>H2O cluster allowed cores:</td>\n",
       "<td>8</td></tr>\n",
       "<tr><td>H2O cluster status:</td>\n",
       "<td>locked, healthy</td></tr>\n",
       "<tr><td>H2O connection url:</td>\n",
       "<td>http://localhost:54321</td></tr>\n",
       "<tr><td>H2O connection proxy:</td>\n",
       "<td>None</td></tr>\n",
       "<tr><td>H2O internal security:</td>\n",
       "<td>False</td></tr>\n",
       "<tr><td>H2O API Extensions:</td>\n",
       "<td>Algos, AutoML, Core V3, Core V4</td></tr>\n",
       "<tr><td>Python version:</td>\n",
       "<td>3.6.8 final</td></tr></table></div>"
      ],
      "text/plain": [
       "--------------------------  -------------------------------\n",
       "H2O cluster uptime:         11 secs\n",
       "H2O cluster timezone:       America/New_York\n",
       "H2O data parsing timezone:  UTC\n",
       "H2O cluster version:        3.22.1.2\n",
       "H2O cluster version age:    2 months and 15 days\n",
       "H2O cluster name:           H2O_from_python_Rushabh_avdpfw\n",
       "H2O cluster total nodes:    1\n",
       "H2O cluster free memory:    3.510 Gb\n",
       "H2O cluster total cores:    8\n",
       "H2O cluster allowed cores:  8\n",
       "H2O cluster status:         locked, healthy\n",
       "H2O connection url:         http://localhost:54321\n",
       "H2O connection proxy:\n",
       "H2O internal security:      False\n",
       "H2O API Extensions:         Algos, AutoML, Core V3, Core V4\n",
       "Python version:             3.6.8 final\n",
       "--------------------------  -------------------------------"
      ]
     },
     "metadata": {},
     "output_type": "display_data"
    },
    {
     "data": {
      "text/plain": [
       "<H2OConnection to http://localhost:54321, no session>"
      ]
     },
     "execution_count": 224,
     "metadata": {},
     "output_type": "execute_result"
    }
   ],
   "source": [
    "h2o.connect()"
   ]
  },
  {
   "cell_type": "code",
   "execution_count": 225,
   "metadata": {},
   "outputs": [],
   "source": [
    "trn_h2o = trn_df.drop(cols_drop, axis=1)\n",
    "val_h2o = val_df.drop(cols_drop, axis=1)\n",
    "test_X = test_df.drop(cols_drop, axis=1)"
   ]
  },
  {
   "cell_type": "code",
   "execution_count": 226,
   "metadata": {},
   "outputs": [
    {
     "name": "stdout",
     "output_type": "stream",
     "text": [
      "Parse progress: |█████████████████████████████████████████████████████████| 100%\n",
      "Parse progress: |█████████████████████████████████████████████████████████| 100%\n"
     ]
    }
   ],
   "source": [
    "train_h2o=h2o.H2OFrame(trn_h2o)\n",
    "test_h2o=h2o.H2OFrame(test_X)"
   ]
  },
  {
   "cell_type": "code",
   "execution_count": 227,
   "metadata": {},
   "outputs": [
    {
     "name": "stdout",
     "output_type": "stream",
     "text": [
      "gbm Model Build progress: |███████████████████████████████████████████████| 100%\n"
     ]
    }
   ],
   "source": [
    "from h2o.estimators.glm import H2OGeneralizedLinearEstimator\n",
    "from h2o.estimators.gbm import H2OGradientBoostingEstimator\n",
    "from h2o.estimators.random_forest import H2ORandomForestEstimator\n",
    "train, valid, test = train_h2o.split_frame(ratios=[0.6,0.2], seed=1234)\n",
    "train['author'] = train['author'].asfactor()\n",
    "valid['author'] = valid['author'].asfactor()\n",
    "test['author'] = test['author'].asfactor()\n",
    "\n",
    "y=train_h2o.columns[0]\n",
    "X = [name for name in train_h2o.columns if name != y]\n",
    "\n",
    "gbm = H2OGradientBoostingEstimator()\n",
    "gbm.train(x=X, y=y, training_frame=train)\n"
   ]
  },
  {
   "cell_type": "code",
   "execution_count": 228,
   "metadata": {},
   "outputs": [
    {
     "name": "stdout",
     "output_type": "stream",
     "text": [
      "author\n",
      "['word_count', 'unique_word_fraction', 'stopwords_count', 'punctuations_fraction', 'char_count', 'fraction_noun', 'fraction_adj', 'fraction_verbs', 'nb_cvec_eap', 'nb_cvec_hpl', 'nb_cvec_mws', 'svd_word_0', 'svd_word_1', 'svd_word_2', 'svd_word_3', 'svd_word_4', 'svd_word_5', 'svd_word_6', 'svd_word_7', 'svd_word_8', 'svd_word_9', 'svd_word_10', 'svd_word_11', 'svd_word_12', 'svd_word_13', 'svd_word_14', 'svd_word_15', 'svd_word_16', 'svd_word_17', 'svd_word_18', 'svd_word_19', 'svd_word_20', 'svd_word_21', 'svd_word_22', 'svd_word_23', 'svd_word_24', 'svd_word_25', 'svd_word_26', 'svd_word_27', 'svd_word_28', 'svd_word_29', 'svd_word_30', 'svd_word_31', 'svd_word_32', 'svd_word_33', 'svd_word_34', 'svd_word_35', 'svd_word_36', 'svd_word_37', 'svd_word_38', 'svd_word_39', 'svd_word_40', 'svd_word_41', 'svd_word_42', 'svd_word_43', 'svd_word_44', 'svd_word_45', 'svd_word_46', 'svd_word_47', 'svd_word_48', 'svd_word_49', 'svd_word_50', 'svd_word_51', 'svd_word_52', 'svd_word_53', 'svd_word_54', 'svd_word_55', 'svd_word_56', 'svd_word_57', 'svd_word_58', 'svd_word_59', 'svd_word_60', 'svd_word_61', 'svd_word_62', 'svd_word_63', 'svd_word_64', 'svd_word_65', 'svd_word_66', 'svd_word_67', 'svd_word_68', 'svd_word_69', 'svd_word_70', 'svd_word_71', 'svd_word_72', 'svd_word_73', 'svd_word_74', 'svd_word_75', 'svd_word_76', 'svd_word_77', 'svd_word_78', 'svd_word_79', 'svd_word_80', 'svd_word_81', 'svd_word_82', 'svd_word_83', 'svd_word_84', 'svd_word_85', 'svd_word_86', 'svd_word_87', 'svd_word_88', 'svd_word_89', 'svd_word_90', 'svd_word_91', 'svd_word_92', 'svd_word_93', 'svd_word_94', 'svd_word_95', 'svd_word_96', 'svd_word_97', 'svd_word_98', 'svd_word_99', 'svd_word_100', 'svd_word_101', 'svd_word_102', 'svd_word_103', 'svd_word_104', 'svd_word_105', 'svd_word_106', 'svd_word_107', 'svd_word_108', 'svd_word_109', 'svd_word_110', 'svd_word_111', 'svd_word_112', 'svd_word_113', 'svd_word_114', 'svd_word_115', 'svd_word_116', 'svd_word_117', 'svd_word_118', 'svd_word_119', 'svd_word_120', 'svd_word_121', 'svd_word_122', 'svd_word_123', 'svd_word_124', 'svd_word_125', 'svd_word_126', 'svd_word_127', 'svd_word_128', 'svd_word_129', 'svd_word_130', 'svd_word_131', 'svd_word_132', 'svd_word_133', 'svd_word_134', 'svd_word_135', 'svd_word_136', 'svd_word_137', 'svd_word_138', 'svd_word_139', 'svd_word_140', 'svd_word_141', 'svd_word_142', 'svd_word_143', 'svd_word_144', 'svd_word_145', 'svd_word_146', 'svd_word_147', 'svd_word_148', 'svd_word_149', 'svd_word_150', 'svd_word_151', 'svd_word_152', 'svd_word_153', 'svd_word_154', 'svd_word_155', 'svd_word_156', 'svd_word_157', 'svd_word_158', 'svd_word_159', 'svd_word_160', 'svd_word_161', 'svd_word_162', 'svd_word_163', 'svd_word_164', 'svd_word_165', 'svd_word_166', 'svd_word_167', 'svd_word_168', 'svd_word_169', 'svd_word_170', 'svd_word_171', 'svd_word_172', 'svd_word_173', 'svd_word_174', 'svd_word_175', 'svd_word_176', 'svd_word_177', 'svd_word_178', 'svd_word_179', 'svd_word_180', 'svd_word_181', 'svd_word_182', 'svd_word_183', 'svd_word_184', 'svd_word_185', 'svd_word_186', 'svd_word_187', 'svd_word_188', 'svd_word_189', 'svd_word_190', 'svd_word_191', 'svd_word_192', 'svd_word_193', 'svd_word_194', 'svd_word_195', 'svd_word_196', 'svd_word_197', 'svd_word_198', 'svd_word_199', 'svd_word_200', 'svd_word_201', 'svd_word_202', 'svd_word_203', 'svd_word_204', 'svd_word_205', 'svd_word_206', 'svd_word_207', 'svd_word_208', 'svd_word_209', 'svd_word_210', 'svd_word_211', 'svd_word_212', 'svd_word_213', 'svd_word_214', 'svd_word_215', 'svd_word_216', 'svd_word_217', 'svd_word_218', 'svd_word_219', 'svd_word_220', 'svd_word_221', 'svd_word_222', 'svd_word_223', 'svd_word_224', 'svd_word_225', 'svd_word_226', 'svd_word_227', 'svd_word_228', 'svd_word_229', 'svd_word_230', 'svd_word_231', 'svd_word_232', 'svd_word_233', 'svd_word_234', 'svd_word_235', 'svd_word_236', 'svd_word_237', 'svd_word_238', 'svd_word_239', 'svd_word_240', 'svd_word_241', 'svd_word_242', 'svd_word_243', 'svd_word_244', 'svd_word_245', 'svd_word_246', 'svd_word_247', 'svd_word_248', 'svd_word_249', 'svd_word_250', 'svd_word_251', 'svd_word_252', 'svd_word_253', 'svd_word_254', 'svd_word_255', 'svd_word_256', 'svd_word_257', 'svd_word_258', 'svd_word_259', 'svd_word_260', 'svd_word_261', 'svd_word_262', 'svd_word_263', 'svd_word_264', 'svd_word_265', 'svd_word_266', 'svd_word_267', 'svd_word_268', 'svd_word_269', 'svd_word_270', 'svd_word_271', 'svd_word_272', 'svd_word_273', 'svd_word_274', 'svd_word_275', 'svd_word_276', 'svd_word_277', 'svd_word_278', 'svd_word_279', 'svd_word_280', 'svd_word_281', 'svd_word_282', 'svd_word_283', 'svd_word_284', 'svd_word_285', 'svd_word_286', 'svd_word_287', 'svd_word_288', 'svd_word_289', 'svd_word_290', 'svd_word_291', 'svd_word_292', 'svd_word_293', 'svd_word_294', 'svd_word_295', 'svd_word_296', 'svd_word_297', 'svd_word_298', 'svd_word_299', 'svd_word_300', 'svd_word_301', 'svd_word_302', 'svd_word_303', 'svd_word_304', 'svd_word_305', 'svd_word_306', 'svd_word_307', 'svd_word_308', 'svd_word_309', 'svd_word_310', 'svd_word_311', 'svd_word_312', 'svd_word_313', 'svd_word_314', 'svd_word_315', 'svd_word_316', 'svd_word_317', 'svd_word_318', 'svd_word_319', 'svd_word_320', 'svd_word_321', 'svd_word_322', 'svd_word_323', 'svd_word_324', 'svd_word_325', 'svd_word_326', 'svd_word_327', 'svd_word_328', 'svd_word_329', 'svd_word_330', 'svd_word_331', 'svd_word_332', 'svd_word_333', 'svd_word_334', 'svd_word_335', 'svd_word_336', 'svd_word_337', 'svd_word_338', 'svd_word_339', 'svd_word_340', 'svd_word_341', 'svd_word_342', 'svd_word_343', 'svd_word_344', 'svd_word_345', 'svd_word_346', 'svd_word_347', 'svd_word_348', 'svd_word_349', 'svd_word_350', 'svd_word_351', 'svd_word_352', 'svd_word_353', 'svd_word_354', 'svd_word_355', 'svd_word_356', 'svd_word_357', 'svd_word_358', 'svd_word_359', 'svd_word_360', 'svd_word_361', 'svd_word_362', 'svd_word_363', 'svd_word_364', 'svd_word_365', 'svd_word_366', 'svd_word_367', 'svd_word_368', 'svd_word_369', 'svd_word_370', 'svd_word_371', 'svd_word_372', 'svd_word_373', 'svd_word_374', 'svd_word_375', 'svd_word_376', 'svd_word_377', 'svd_word_378', 'svd_word_379', 'svd_word_380', 'svd_word_381', 'svd_word_382', 'svd_word_383', 'svd_word_384', 'svd_word_385', 'svd_word_386', 'svd_word_387', 'svd_word_388', 'svd_word_389', 'svd_word_390', 'svd_word_391', 'svd_word_392', 'svd_word_393', 'svd_word_394', 'svd_word_395', 'svd_word_396', 'svd_word_397', 'svd_word_398', 'svd_word_399', 'svd_char_0', 'svd_char_1', 'svd_char_2', 'svd_char_3', 'svd_char_4', 'svd_char_5', 'svd_char_6', 'svd_char_7', 'svd_char_8', 'svd_char_9', 'svd_char_10', 'svd_char_11', 'svd_char_12', 'svd_char_13', 'svd_char_14', 'svd_char_15', 'svd_char_16', 'svd_char_17', 'svd_char_18', 'svd_char_19', 'svd_char_20', 'svd_char_21', 'svd_char_22', 'svd_char_23', 'svd_char_24', 'svd_char_25', 'svd_char_26', 'svd_char_27', 'svd_char_28', 'svd_char_29', 'svd_char_30', 'svd_char_31', 'svd_char_32', 'svd_char_33', 'svd_char_34', 'svd_char_35', 'svd_char_36', 'svd_char_37', 'svd_char_38', 'svd_char_39']\n"
     ]
    }
   ],
   "source": [
    "train_h2o['author'] = train_h2o['author'].asfactor()\n",
    "y=train_h2o.columns[0] #Describing Test\n",
    "X = [name for name in train_h2o.columns if name != y] #Describing Target\n",
    "print(y)\n",
    "print(X)"
   ]
  },
  {
   "cell_type": "code",
   "execution_count": 229,
   "metadata": {},
   "outputs": [],
   "source": [
    "# gbm_tune = H2OGradientBoostingEstimator(\n",
    "#     ntrees = 500,\n",
    "#     learn_rate = 0.01,\n",
    "#     stopping_rounds = 20,\n",
    "#     stopping_metric = \"logloss\",\n",
    "#     col_sample_rate = 0.7,\n",
    "#     sample_rate = 0.7,\n",
    "#     seed = 1234\n",
    "# )      \n",
    "# gbm_tune.train(x=X, y=y, training_frame=train, validation_frame=valid)"
   ]
  },
  {
   "cell_type": "code",
   "execution_count": 230,
   "metadata": {},
   "outputs": [],
   "source": [
    "#gbm_tune.model_performance(valid).logloss()"
   ]
  },
  {
   "cell_type": "code",
   "execution_count": 231,
   "metadata": {},
   "outputs": [
    {
     "name": "stdout",
     "output_type": "stream",
     "text": [
      "AutoML progress: |████████████████████████████████████████████████████████| 100%\n"
     ]
    }
   ],
   "source": [
    "# automl\n",
    "# runs for run_time seconds then builds a stacked ensemble\n",
    "aml = H2OAutoML(max_runtime_secs=1000,project_name = \"automl_test\"  ,balance_classes= False) # init automl, run for 300 seconds\n",
    "aml.train(x=X,  \n",
    "           y=y,\n",
    "           training_frame=train_h2o)"
   ]
  },
  {
   "cell_type": "markdown",
   "metadata": {},
   "source": [
    "### Printing the leaderboard of Auto-ML"
   ]
  },
  {
   "cell_type": "code",
   "execution_count": 236,
   "metadata": {
    "scrolled": true
   },
   "outputs": [
    {
     "data": {
      "text/html": [
       "<table>\n",
       "<thead>\n",
       "<tr><th>model_id                                           </th><th style=\"text-align: right;\">  mean_per_class_error</th><th style=\"text-align: right;\">  logloss</th><th style=\"text-align: right;\">    rmse</th><th style=\"text-align: right;\">     mse</th></tr>\n",
       "</thead>\n",
       "<tbody>\n",
       "<tr><td>StackedEnsemble_AllModels_AutoML_20190403_065533   </td><td style=\"text-align: right;\">              0.148654</td><td style=\"text-align: right;\"> 0.408022</td><td style=\"text-align: right;\">0.350248</td><td style=\"text-align: right;\">0.122674</td></tr>\n",
       "<tr><td>StackedEnsemble_BestOfFamily_AutoML_20190403_065533</td><td style=\"text-align: right;\">              0.148654</td><td style=\"text-align: right;\"> 0.408022</td><td style=\"text-align: right;\">0.350248</td><td style=\"text-align: right;\">0.122674</td></tr>\n",
       "<tr><td>GBM_1_AutoML_20190403_065533                       </td><td style=\"text-align: right;\">              0.150982</td><td style=\"text-align: right;\"> 0.389512</td><td style=\"text-align: right;\">0.348635</td><td style=\"text-align: right;\">0.121546</td></tr>\n",
       "<tr><td>GLM_grid_1_AutoML_20190403_065533_model_1          </td><td style=\"text-align: right;\">              0.155664</td><td style=\"text-align: right;\"> 0.40886 </td><td style=\"text-align: right;\">0.35543 </td><td style=\"text-align: right;\">0.12633 </td></tr>\n",
       "<tr><td>DRF_1_AutoML_20190403_065533                       </td><td style=\"text-align: right;\">              0.161916</td><td style=\"text-align: right;\"> 0.540525</td><td style=\"text-align: right;\">0.417409</td><td style=\"text-align: right;\">0.17423 </td></tr>\n",
       "<tr><td>XRT_1_AutoML_20190403_065533                       </td><td style=\"text-align: right;\">              0.162731</td><td style=\"text-align: right;\"> 0.542666</td><td style=\"text-align: right;\">0.4183  </td><td style=\"text-align: right;\">0.174975</td></tr>\n",
       "</tbody>\n",
       "</table>"
      ]
     },
     "metadata": {},
     "output_type": "display_data"
    },
    {
     "data": {
      "text/plain": []
     },
     "execution_count": 236,
     "metadata": {},
     "output_type": "execute_result"
    }
   ],
   "source": [
    "lb=aml.leaderboard\n",
    "lb"
   ]
  },
  {
   "cell_type": "code",
   "execution_count": null,
   "metadata": {},
   "outputs": [],
   "source": []
  },
  {
   "cell_type": "code",
   "execution_count": 237,
   "metadata": {
    "scrolled": true
   },
   "outputs": [],
   "source": [
    "# # Get model ids for all models in the AutoML Leaderboard\n",
    "# model_ids = list(aml.leaderboard['model_id'].as_data_frame().iloc[:,0])\n",
    "# # Get the \"All Models\" Stacked Ensemble model\n",
    "# se = h2o.get_model([mid for mid in model_ids if \"GBM_1\" in mid][0])\n",
    "# # Get the Stacked Ensemble metalearner model\n",
    "# metalearner = h2o.get_model(aml.leader.metalearner()['name'])"
   ]
  },
  {
   "cell_type": "code",
   "execution_count": 238,
   "metadata": {},
   "outputs": [],
   "source": [
    "#h2o.shutdown()"
   ]
  },
  {
   "cell_type": "code",
   "execution_count": 239,
   "metadata": {},
   "outputs": [
    {
     "name": "stdout",
     "output_type": "stream",
     "text": [
      "stackedensemble prediction progress: |████████████████████████████████████| 100%\n"
     ]
    }
   ],
   "source": [
    "h2o_preds=aml.predict(test_h2o)"
   ]
  },
  {
   "cell_type": "code",
   "execution_count": 240,
   "metadata": {},
   "outputs": [],
   "source": [
    "#h2o.exportFile(h2o_preds, path = \" ~Rushabh/Python_Projects/Assignments/Assignment_3/Nisher/h2o_preds.csv\")\n",
    "h2o_preds_as_list = h2o.as_list(h2o_preds, use_pandas=False) \n",
    "#h2o_preds_as_list[0]\n",
    "#h2o_preds_as_list[1]\n",
    "h2o_preds_as_pandas = h2o.as_list(h2o_preds)\n",
    " "
   ]
  },
  {
   "cell_type": "code",
   "execution_count": 241,
   "metadata": {},
   "outputs": [
    {
     "name": "stdout",
     "output_type": "stream",
     "text": [
      "Rows:8392\n",
      "Cols:4\n",
      "\n",
      "\n"
     ]
    },
    {
     "data": {
      "text/html": [
       "<table>\n",
       "<thead>\n",
       "<tr><th>       </th><th>predict  </th><th>EAP                 </th><th>HPL                 </th><th>MWS                 </th></tr>\n",
       "</thead>\n",
       "<tbody>\n",
       "<tr><td>type   </td><td>enum     </td><td>real                </td><td>real                </td><td>real                </td></tr>\n",
       "<tr><td>mins   </td><td>         </td><td>0.014912263085127223</td><td>0.013091172991749793</td><td>0.013808836395911024</td></tr>\n",
       "<tr><td>mean   </td><td>         </td><td>0.4014323449025155  </td><td>0.2909649946534996  </td><td>0.3076026604439849  </td></tr>\n",
       "<tr><td>maxs   </td><td>         </td><td>0.9643066100473606  </td><td>0.9703083318458995  </td><td>0.9538356223703685  </td></tr>\n",
       "<tr><td>sigma  </td><td>         </td><td>0.39563069187028355 </td><td>0.384891586622623   </td><td>0.3786548815073084  </td></tr>\n",
       "<tr><td>zeros  </td><td>         </td><td>0                   </td><td>0                   </td><td>0                   </td></tr>\n",
       "<tr><td>missing</td><td>0        </td><td>0                   </td><td>0                   </td><td>0                   </td></tr>\n",
       "<tr><td>0      </td><td>MWS      </td><td>0.04901000704199979 </td><td>0.020863817198246495</td><td>0.9301261757597538  </td></tr>\n",
       "<tr><td>1      </td><td>EAP      </td><td>0.9441389453502779  </td><td>0.025141393491907534</td><td>0.030719661157814757</td></tr>\n",
       "<tr><td>2      </td><td>HPL      </td><td>0.02492492611944147 </td><td>0.9568575106792151  </td><td>0.01821756320134363 </td></tr>\n",
       "<tr><td>3      </td><td>EAP      </td><td>0.7935282022964799  </td><td>0.15153983123232478 </td><td>0.05493196647119523 </td></tr>\n",
       "<tr><td>4      </td><td>EAP      </td><td>0.9244628280471545  </td><td>0.03756203609367226 </td><td>0.03797513585917303 </td></tr>\n",
       "<tr><td>5      </td><td>EAP      </td><td>0.9194140788591788  </td><td>0.042612916439638764</td><td>0.03797300470118262 </td></tr>\n",
       "<tr><td>6      </td><td>EAP      </td><td>0.9157374342687231  </td><td>0.04663042240442866 </td><td>0.03763214332684822 </td></tr>\n",
       "<tr><td>7      </td><td>MWS      </td><td>0.21022357800097613 </td><td>0.13324078312256604 </td><td>0.6565356388764578  </td></tr>\n",
       "<tr><td>8      </td><td>EAP      </td><td>0.9526862915000522  </td><td>0.02095162902575847 </td><td>0.026362079474189455</td></tr>\n",
       "<tr><td>9      </td><td>EAP      </td><td>0.918717729096359   </td><td>0.040473318053217265</td><td>0.04080895285042377 </td></tr>\n",
       "</tbody>\n",
       "</table>"
      ]
     },
     "metadata": {},
     "output_type": "display_data"
    }
   ],
   "source": [
    "h2o_preds.describe()"
   ]
  },
  {
   "cell_type": "code",
   "execution_count": 242,
   "metadata": {
    "scrolled": false
   },
   "outputs": [],
   "source": [
    "#type(h2o_preds)\n",
    "h2o_csv=h2o_preds.as_data_frame(use_pandas=True)"
   ]
  },
  {
   "cell_type": "code",
   "execution_count": 243,
   "metadata": {},
   "outputs": [],
   "source": [
    "h2o_csv.drop(['predict'],axis=1, inplace=True)"
   ]
  },
  {
   "cell_type": "code",
   "execution_count": 244,
   "metadata": {},
   "outputs": [],
   "source": [
    "h2o_csv['id']=test_df['id'].values"
   ]
  },
  {
   "cell_type": "code",
   "execution_count": 245,
   "metadata": {},
   "outputs": [],
   "source": [
    "h2o_csv=h2o_csv[['id','EAP','HPL','MWS']]"
   ]
  },
  {
   "cell_type": "code",
   "execution_count": 246,
   "metadata": {},
   "outputs": [],
   "source": [
    "h2o_csv.to_csv(\"Rushabh_h2o_5.csv\", index=False)"
   ]
  },
  {
   "cell_type": "code",
   "execution_count": null,
   "metadata": {},
   "outputs": [],
   "source": []
  },
  {
   "cell_type": "code",
   "execution_count": 67,
   "metadata": {},
   "outputs": [],
   "source": [
    "# param = {\n",
    "#       \"ntrees\" : 500\n",
    "#     , \"max_depth\" : 10\n",
    "#     , \"learn_rate\" : 0.02\n",
    "#     , \"sample_rate\" : 0.7\n",
    "#     , \"col_sample_rate_per_tree\" : 0.9\n",
    "#     , \"min_rows\" : 5\n",
    "#     , \"seed\": 4241\n",
    "#     , \"score_tree_interval\": 100\n",
    "# }\n",
    "# from h2o.estimators import H2OXGBoostEstimator\n",
    "# model = H2OXGBoostEstimator(**param)"
   ]
  },
  {
   "cell_type": "code",
   "execution_count": 232,
   "metadata": {},
   "outputs": [],
   "source": [
    "#model.train(x = list(range(1, train_h2o.shape[1])), y = 0, training_frame =train_h2o, validation_frame = test_h2o)"
   ]
  },
  {
   "cell_type": "code",
   "execution_count": null,
   "metadata": {},
   "outputs": [],
   "source": [
    "# import xgboost as xgb\n",
    "# from sklearn.model_selection import train_test_split\n",
    "# Xtr = trn_X.values\n",
    "# Xv = val_X.values\n",
    "# ytr = trn_df['author']\n",
    "# yv = val_df['author']\n",
    "# dtrain = xgb.DMatrix(Xtr, label=ytr)\n",
    "# dvalid = xgb.DMatrix(Xv, label=yv)\n",
    "# dtest = xgb.DMatrix(test_X.values)\n",
    "# watchlist = [(dtrain, 'train'), (dvalid, 'valid')]\n",
    "\n",
    "# start = time.time()\n",
    "# xgb_par = {'min_child_weight': 1, 'eta': 0.1, 'colsample_bytree': 0.7, 'max_depth': 3,\n",
    "#             'subsample': 0.8, 'lambda': 2.0, 'nthread': -1, 'silent': 1,\n",
    "#             'eval_metric': \"mlogloss\", 'objective': 'multi:softprob', 'num_class': 3}\n",
    "\n",
    "# model_1 = xgb.train(xgb_par, dtrain, 1000, watchlist, early_stopping_rounds=50, maximize=False, verbose_eval=40)\n",
    "# print('Modeling RMSLE %.5f' % model_1.best_score)\n",
    "# end = time.time()\n",
    "# print(\"Time taken in training is {}.\".format(end - start))"
   ]
  },
  {
   "cell_type": "markdown",
   "metadata": {},
   "source": []
  },
  {
   "cell_type": "markdown",
   "metadata": {},
   "source": [
    "# <p style=\"text-align: center;\">Conclusion<p><a id='Conclusion'></a>\n",
    "\n",
    "[Back to top](#Introduction)"
   ]
  },
  {
   "cell_type": "code",
   "execution_count": 235,
   "metadata": {},
   "outputs": [
    {
     "name": "stdout",
     "output_type": "stream",
     "text": [
      "        Algorithm Used         Evaluation-Metric\n",
      "------------------------------ -----------------\n",
      "               XGB_Without_SVD           0.38706\n",
      "            XGB_Without_Markov            0.3592\n",
      "XGB_Linear_Combination_Without           0.52293\n",
      "XGB_Linear_Combination_SVD_and           0.49965\n",
      "            XGB_SVD_and_Markov           0.35937\n",
      "             H2O_1_300_Seconds           0.64881\n",
      "            H2O_2_1200_Seconds           0.53477\n",
      "            H2O_3_2000_Seconds           0.96102\n",
      "            H2O_4_1800_Seconds           0.97419\n"
     ]
    }
   ],
   "source": [
    "t = Table(names=('Algorithm Used', 'Evaluation-Metric'), dtype=('S30','f4'))\n",
    "t.add_row(('XGB_Without_SVD', 0.38706))\n",
    "t.add_row(('XGB_Without_Markov', 0.35920))\n",
    "t.add_row(('XGB_Linear_Combination_Without_SVD', 0.52293))\n",
    "t.add_row(('XGB_Linear_Combination_SVD_and_Markov', 0.49965))\n",
    "t.add_row(('XGB_SVD_and_Markov', 0.35937))\n",
    "t.add_row(('H2O_1_300_Seconds', 0.64881))\n",
    "t.add_row(('H2O_2_1200_Seconds', 0.53477))\n",
    "t.add_row(('H2O_3_2000_Seconds', 0.96102))\n",
    "t.add_row(('H2O_4_1800_Seconds', 0.97419))\n",
    "t.add_row(('H2O_5_1000_Seconds', 0.39234))\n",
    "\n",
    "print(t)"
   ]
  },
  {
   "cell_type": "markdown",
   "metadata": {},
   "source": [
    "# <p style=\"text-align: center;\">Contribution<p><a id='Contribution'></a>\n",
    "As this was a learning assignment, the majority of the code has been taken from the Various Kaggle Kernals enlisted below in [Citations](#citation). The part of h2o was almost completely done by self.\n",
    "    \n",
    "- Code by self : 45%\n",
    "- Code from external Sources : 55%\n",
    "\n",
    "[Back to top](#Introduction)"
   ]
  },
  {
   "cell_type": "markdown",
   "metadata": {},
   "source": [
    "# <p style=\"text-align: center;\">Citation<p><a id='Citation'></a>\n",
    "- http://www.tfidf.com/\n",
    "- https://monkeylearn.com/blog/practical-explanation-naive-bayes-classifier/\n",
    "- https://en.wikipedia.org/wiki/Markov_model\n",
    "- https://hackernoon.com/from-what-is-a-markov-model-to-here-is-how-markov-models-work-1ac5f4629b71\n",
    "- https://machinelearningmastery.com/gentle-introduction-xgboost-applied-machine-learning/\n",
    "- https://xgboost.readthedocs.io/en/latest/parameter.html\n",
    "- http://docs.h2o.ai/h2o/latest-stable/h2o-py/docs/intro.html\n",
    "- https://www.kaggle.com/arthurtok/spooky-nlp-and-topic-modelling-tutorial\n",
    "- https://www.kaggle.com/maheshdadhich/creative-feature-engineering-lb-0-35\n",
    "- https://www.kaggle.com/sudhirnl7/simple-naive-bayes-xgboost\n",
    "- \n",
    "- \n",
    "\n",
    "[Back to top](#Introduction)"
   ]
  },
  {
   "cell_type": "markdown",
   "metadata": {},
   "source": [
    "# <p style=\"text-align: center;\">License<p><a id='License'></a>\n",
    "Copyright (c) 2019 Rushabh Nisher\n",
    "\n",
    "Permission is hereby granted, free of charge, to any person obtaining a copy of this software and associated documentation files (the \"Software\"), to deal in the Software without restriction, including without limitation the rights to use, copy, modify, merge, publish, distribute, sublicense, and/or sell copies of the Software, and to permit persons to whom the Software is furnished to do so, subject to the following conditions:\n",
    "\n",
    "The above copyright notice and this permission notice shall be included in all copies or substantial portions of the Software.\n",
    "\n",
    "THE SOFTWARE IS PROVIDED \"AS IS\", WITHOUT WARRANTY OF ANY KIND, EXPRESS OR IMPLIED, INCLUDING BUT NOT LIMITED TO THE WARRANTIES OF MERCHANTABILITY, FITNESS FOR A PARTICULAR PURPOSE AND NONINFRINGEMENT. IN NO EVENT SHALL THE AUTHORS OR COPYRIGHT HOLDERS BE LIABLE FOR ANY CLAIM, DAMAGES OR OTHER LIABILITY, WHETHER IN AN ACTION OF CONTRACT, TORT OR OTHERWISE, ARISING FROM, OUT OF OR IN CONNECTION WITH THE SOFTWARE OR THE USE OR OTHER DEALINGS IN THE SOFTWARE.\n",
    "\n",
    "[Back to top](#Introduction)"
   ]
  },
  {
   "cell_type": "code",
   "execution_count": null,
   "metadata": {},
   "outputs": [],
   "source": []
  }
 ],
 "metadata": {
  "kernelspec": {
   "display_name": "Python 3",
   "language": "python",
   "name": "python3"
  },
  "language_info": {
   "codemirror_mode": {
    "name": "ipython",
    "version": 3
   },
   "file_extension": ".py",
   "mimetype": "text/x-python",
   "name": "python",
   "nbconvert_exporter": "python",
   "pygments_lexer": "ipython3",
   "version": "3.6.8"
  }
 },
 "nbformat": 4,
 "nbformat_minor": 2
}
